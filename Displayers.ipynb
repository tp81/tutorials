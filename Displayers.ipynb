{
 "cells": [
  {
   "cell_type": "code",
   "execution_count": 1,
   "metadata": {},
   "outputs": [
    {
     "name": "stdout",
     "output_type": "stream",
     "text": [
      "Added new repo: imagej.public\n"
     ]
    },
    {
     "data": {
      "application/vnd.jupyter.widget-view+json": {
       "model_id": "7f9b25f6-e659-42ad-9d0e-e94afbdb513b",
       "version_major": 2,
       "version_minor": 0
      },
      "method": "display_data"
     },
     "metadata": {},
     "output_type": "display_data"
    },
    {
     "data": {
      "application/vnd.jupyter.widget-view+json": {
       "model_id": "",
       "version_major": 2,
       "version_minor": 0
      },
      "method": "display_data"
     },
     "metadata": {},
     "output_type": "display_data"
    },
    {
     "data": {
      "application/vnd.jupyter.widget-view+json": {
       "model_id": "bcc0423b-d680-44a2-a727-6e61f3bfbe8f",
       "version_major": 2,
       "version_minor": 0
      },
      "method": "display_data"
     },
     "metadata": {},
     "output_type": "display_data"
    },
    {
     "data": {
      "text/plain": [
       "net.imagej.ImageJ@381671a3"
      ]
     },
     "execution_count": 1,
     "metadata": {},
     "output_type": "execute_result"
    }
   ],
   "source": [
    "//load ImageJ\n",
    "%classpath config resolver imagej.public https://maven.imagej.net/content/groups/public\n",
    "%classpath add jar /Users/curtis/code/imagej/imagej-notebook/target/imagej-notebook-0.3.0-TESTING.jar\n",
    "%classpath add mvn net.imagej imagej 2.0.0-rc-68\n",
    "\n",
    "//create ImageJ object\n",
    "ij = new net.imagej.ImageJ()"
   ]
  },
  {
   "cell_type": "code",
   "execution_count": 2,
   "metadata": {},
   "outputs": [
    {
     "data": {
      "text/plain": [
       "0.3.0-TESTING"
      ]
     },
     "execution_count": 2,
     "metadata": {},
     "output_type": "execute_result"
    }
   ],
   "source": [
    "org.scijava.util.VersionUtils.getVersion(ij.notebook().getClass())"
   ]
  },
  {
   "cell_type": "code",
   "execution_count": 3,
   "metadata": {},
   "outputs": [
    {
     "name": "stdout",
     "output_type": "stream",
     "text": [
      "0.0\n",
      "250.0\n"
     ]
    },
    {
     "data": {
      "image/png": "[encoded data removed]"
     },
     "execution_count": 3,
     "metadata": {},
     "output_type": "execute_result"
    }
   ],
   "source": [
    "import net.imglib2.img.array.ArrayImgs\n",
    "import net.imglib2.type.numeric.ARGBType\n",
    "\n",
    "argbImage = ArrayImgs.argbs(50, 30)\n",
    "\n",
    "w = argbImage.dimension(0)\n",
    "h = argbImage.dimension(1)\n",
    "\n",
    "access = argbImage.randomAccess()\n",
    "for (y=0; y<h; y++) {\n",
    "    access.setPosition(y, 1)\n",
    "    for (x=0; x<w; x++) {\n",
    "        access.setPosition(x, 0)\n",
    "        r = 255 * (x + y) / (w + h)\n",
    "        g = 255 * x / w\n",
    "        b = 255 * y / h\n",
    "        a = 255\n",
    "        access.get().set(ARGBType.rgba(r, g, b, a))\n",
    "    }\n",
    "}\n",
    "\n",
    "import net.imglib2.converter.Converters\n",
    "splitChannels = Views.iterable(Converters.argbChannels(argbImage, 1, 2, 3))\n",
    "\n",
    "import net.imglib2.view.Views\n",
    "println(ij.op().stats().min(splitChannels))\n",
    "println(ij.op().stats().max(splitChannels))\n",
    "ij.op().image().ascii(ij.op().transform().hyperSliceView(splitChannels, 2, 5))\n",
    "\n",
    "splitChannels"
   ]
  },
  {
   "cell_type": "code",
   "execution_count": 4,
   "metadata": {},
   "outputs": [
    {
     "name": "stdout",
     "output_type": "stream",
     "text": [
      "a=1, b=2\n"
     ]
    },
    {
     "data": {
      "text/plain": [
       "null"
      ]
     },
     "execution_count": 4,
     "metadata": {},
     "output_type": "execute_result"
    }
   ],
   "source": [
    "x = { a, b ->\n",
    "    System.out.println(\"a=\" + a + \", b=\" + b)\n",
    "}\n",
    "x(1, 2)"
   ]
  },
  {
   "cell_type": "code",
   "execution_count": 5,
   "metadata": {},
   "outputs": [
    {
     "data": {
      "text/plain": [
       "null"
      ]
     },
     "execution_count": 5,
     "metadata": {},
     "output_type": "execute_result"
    }
   ],
   "source": [
    "import jupyter.Displayers\n",
    "net.imagej.notebook.DefaultNotebookService.register(java.util.Map.class, { mimeMap, map -> \n",
    "    mimeMap.put(MIMEContainer.MIME.TEXT_HTML, \"<div><b>Hello MAP!</b></div>\")\n",
    "})\n",
    "net.imagej.notebook.DefaultNotebookService.register(java.util.Set.class, { mimeMap, set -> \n",
    "    mimeMap.put(MIMEContainer.MIME.TEXT_HTML, \"<div><b>Hello SET!</b></div>\")\n",
    "})\n",
    "net.imagej.notebook.DefaultNotebookService.register(java.util.List.class, { mimeMap, list -> \n",
    "    mimeMap.put(MIMEContainer.MIME.TEXT_HTML, \"<div><b>Hello LIST!</b></div>\")\n",
    "})\n",
    "net.imagej.notebook.DefaultNotebookService.register(java.util.ArrayList.class, { mimeMap, list -> \n",
    "    mimeMap.put(MIMEContainer.MIME.TEXT_HTML, \"<div><b>Hello ARRAYLIST!</b></div>\")\n",
    "})\n",
    "net.imagej.notebook.DefaultNotebookService.register(java.util.HashMap.class, { mimeMap, hashMap -> \n",
    "    mimeMap.put(MIMEContainer.MIME.TEXT_HTML, \"<div><b>Hello HASHMAP!</b></div>\")\n",
    "})\n",
    "net.imagej.notebook.DefaultNotebookService.register(java.util.LinkedHashMap.class, { mimeMap, linkedHashMap -> \n",
    "    mimeMap.put(MIMEContainer.MIME.TEXT_HTML, \"<div><b>Hello LINKEDHASHMAP!</b></div>\")\n",
    "})"
   ]
  },
  {
   "cell_type": "code",
   "execution_count": 6,
   "metadata": {},
   "outputs": [
    {
     "data": {
      "text/plain": [
       "[hello]"
      ]
     },
     "execution_count": 6,
     "metadata": {},
     "output_type": "execute_result"
    }
   ],
   "source": [
    "[\"hello\"]"
   ]
  },
  {
   "cell_type": "code",
   "execution_count": 7,
   "metadata": {},
   "outputs": [
    {
     "data": {
      "application/vnd.jupyter.widget-view+json": {
       "model_id": "24feed9c-2d78-4e08-ab55-bfb2c96a264d",
       "version_major": 2,
       "version_minor": 0
      },
      "method": "display_data"
     },
     "metadata": {},
     "output_type": "display_data"
    }
   ],
   "source": [
    "[[\"hello\": \"there\"], [\"hello\": \"goodbye\"]]"
   ]
  },
  {
   "cell_type": "code",
   "execution_count": 8,
   "metadata": {},
   "outputs": [
    {
     "data": {
      "text/plain": [
       "[hello, how, are, you]"
      ]
     },
     "execution_count": 8,
     "metadata": {},
     "output_type": "execute_result"
    }
   ],
   "source": [
    "Set set = [\"hello\", \"how\", \"are\", \"you\"]"
   ]
  },
  {
   "cell_type": "code",
   "execution_count": 9,
   "metadata": {},
   "outputs": [
    {
     "data": {
      "text/html": [
       "<div><b>YUSSSS</b></div>"
      ]
     },
     "execution_count": 9,
     "metadata": {},
     "output_type": "execute_result"
    }
   ],
   "source": [
    "public class Foo {\n",
    "    public String getMessage() { return \"hello!\"; }\n",
    "}\n",
    "\n",
    "net.imagej.notebook.DefaultNotebookService.register(Foo.class, { mimeMap, foo -> \n",
    "    mimeMap.put(MIMEContainer.MIME.TEXT_HTML, \"<div><b>\" + foo.getMessage() + \"</b></div>\")\n",
    "})\n",
    "\n",
    "foo = new Foo() { public String getMessage() { return \"YUSSSS\"; } }\n",
    "\n",
    "foo"
   ]
  },
  {
   "cell_type": "code",
   "execution_count": 9,
   "metadata": {},
   "outputs": [
    {
     "data": {
      "text/plain": [
       "null"
      ]
     },
     "execution_count": 9,
     "metadata": {},
     "output_type": "execute_result"
    }
   ],
   "source": [
    "tableToHTML = { table ->\n",
    "    return \"<div>Table = \" + table + \"</div>\"\n",
    "}\n",
    "\n",
    "net.imagej.notebook.DefaultNotebookService.register(net.imagej.table.Table.class, { mimeMap, table -> \n",
    "    mimeMap.put(MIMEContainer.MIME.TEXT_HTML, tableToHTML(table))\n",
    "})"
   ]
  },
  {
   "cell_type": "code",
   "execution_count": 10,
   "metadata": {},
   "outputs": [
    {
     "data": {
      "text/plain": [
       "[[Shanghai, Karachi, Bejing, Sao Paolo], [24256800, 23500000, 21516000, 21292893]]"
      ]
     },
     "execution_count": 10,
     "metadata": {},
     "output_type": "execute_result"
    }
   ],
   "source": [
    "import net.imagej.table.DefaultGenericTable\n",
    "import net.imagej.table.GenericColumn\n",
    "import net.imagej.table.LongColumn\n",
    "\n",
    "table = new DefaultGenericTable()\n",
    "\n",
    "nameColumn = new GenericColumn(\"Town\")\n",
    "populationColumn = new LongColumn(\"Population\")\n",
    "\n",
    "nameColumn.add(\"Karachi\")\n",
    "populationColumn.add(23500000L)\n",
    "\n",
    "nameColumn.add(\"Bejing\")\n",
    "populationColumn.add(21516000L)\n",
    "\n",
    "nameColumn.add(\"Sao Paolo\")\n",
    "populationColumn.add(21292893L)\n",
    "\n",
    "nameColumn.add(0, \"Shanghai\")\n",
    "populationColumn.add(0, 24256800L)\n",
    "\n",
    "table = new DefaultGenericTable()\n",
    "table.add(nameColumn)\n",
    "table.add(populationColumn)\n",
    "\n",
    "table"
   ]
  },
  {
   "cell_type": "code",
   "execution_count": 11,
   "metadata": {},
   "outputs": [
    {
     "data": {
      "text/plain": [
       "null"
      ]
     },
     "execution_count": 11,
     "metadata": {},
     "output_type": "execute_result"
    }
   ],
   "source": [
    "public class HTMLTableBuilder {\n",
    "\n",
    "    /** Returns the style tag used to style HTML tables */\n",
    "    public static String getTableStyle(final boolean displayRowLabel) {\n",
    "        String style = \"<style>\" +\n",
    "            \"table.converted {color: #333; font-family: Helvetica, Arial, sans-serif; border-collapse: collapse; border-spacing: 0;}\" +\n",
    "            \"table.converted td, table.converted th {border: 1px solid #C9C7C7;}\" +\n",
    "            \"table.converted th, table.converted td.rowLabel {background: #626262; color: #FFFFFF; font-weight: bold; text-align: left;}\" +\n",
    "            \"table.converted td {text-align: left;}\" +\n",
    "            \"table.converted tr:nth-child(even) {background: #F3F3F3;}\" +\n",
    "            \"table.converted tr:nth-child(odd) {background: #FFFFFF;}\" +\n",
    "            \"table.converted tbody tr:hover {background: #BDF4B5;}\";\n",
    "\n",
    "        if (!displayRowLabel) style +=\n",
    "            \"table.converted td.rowLabel, table.converted th.rowLabel {display: none;}\";\n",
    "        style += \"</style>\";\n",
    "        \n",
    "        style += \"<script>\" +\n",
    "            \"function sliderChanged(element) {\" +\n",
    "            \"element.value\" +\n",
    "            \"}\" +\n",
    "            \"</script>\";\n",
    "\n",
    "        return style;\n",
    "    }\n",
    "\n",
    "    public static String startTable() {\n",
    "        return \"<table class =\\\"converted\\\"><thead><tr>\";\n",
    "    }\n",
    "\n",
    "    public static String appendRowLabelHeading() {\n",
    "        return \"<th class=\\\"rowLabel\\\">&nbsp;</th>\";\n",
    "    }\n",
    "\n",
    "    public static String appendHeadings(final String data,\n",
    "        final boolean end)\n",
    "    {\n",
    "        final String html = \"<th>\" + data + \"</th>\";\n",
    "        if (end) return html + \"</tr></thead><tbody>\";\n",
    "        return html;\n",
    "    }\n",
    "\n",
    "    public static String appendData(final String data,\n",
    "        final boolean start, final boolean end)\n",
    "    {\n",
    "        String html = \"\";\n",
    "        if (start) html += \"<tr>\";\n",
    "        html += \"<td>\" + data + \"</td>\";\n",
    "        if (end) html += \"</tr>\";\n",
    "        return html;\n",
    "    }\n",
    "\n",
    "    public static String appendRowLabelData(final String data) {\n",
    "        String html = \"<tr><td class =\\\"rowLabel\\\">\";\n",
    "\n",
    "        if (data == null) html += \"&nbsp;\";\n",
    "        else html += data;\n",
    "\n",
    "        html += \"</td>\";\n",
    "        return html;\n",
    "    }\n",
    "\n",
    "    public static String endTable() {\n",
    "        return \"</tbody></table>\";\n",
    "    }\n",
    "\n",
    "    public static String html(final net.imagej.table.Table table) {\n",
    "        boolean rowLabels = false;\n",
    "\n",
    "        // Start table and add extra heading column in case there's row headings\n",
    "        String htmlTable = startTable();\n",
    "        htmlTable += appendRowLabelHeading();\n",
    "\n",
    "        // Add headings\n",
    "        for (int i = 0; i < table.getColumnCount(); i++) {\n",
    "            htmlTable += appendHeadings(asHTML(table.getColumnHeader(i)), i == table.getColumnCount() - 1);\n",
    "        }\n",
    "\n",
    "        // Add data\n",
    "        for (int i = 0; i < table.getRowCount(); i++) {\n",
    "            if (table.getRowHeader(i) != null) rowLabels = true;\n",
    "            htmlTable += appendRowLabelData(table.getRowHeader(i));\n",
    "            for (int j = 0; j < table.getColumnCount(); j++) {\n",
    "                htmlTable += appendData(asHTML(table.get(j,\n",
    "                    i)), false, j == table.getColumnCount());\n",
    "            }\n",
    "        }\n",
    "        htmlTable += endTable();\n",
    "\n",
    "        return getTableStyle(rowLabels) + htmlTable;\n",
    "    }\n",
    "\n",
    "    /** Gets an HTML string representing the given object. */\n",
    "    public static String asHTML(final Object o) {\n",
    "        return o.toString();\n",
    "//        final HTMLFriendlyNotebookOutput converted = convertService.convert(o, HTMLFriendlyNotebookOutput.class);\n",
    "//        return converted == null ? \"&lt;none&gt;\" : converted.toHTML();\n",
    "    }\n",
    "\n",
    "\n",
    "}"
   ]
  },
  {
   "cell_type": "code",
   "execution_count": 12,
   "metadata": {},
   "outputs": [
    {
     "data": {
      "text/plain": [
       "<style>table.converted {color: #333; font-family: Helvetica, Arial, sans-serif; border-collapse: collapse; border-spacing: 0;}table.converted td, table.converted th {border: 1px solid #C9C7C7;}table.converted th, table.converted td.rowLabel {background: #626262; color: #FFFFFF; font-weight: bold; text-align: left;}table.converted td {text-align: left;}table.converted tr:nth-child(even) {background: #F3F3F3;}table.converted tr:nth-child(odd) {background: #FFFFFF;}table.converted tbody tr:hover {background: #BDF4B5;}table.converted td.rowLabel, table.converted th.rowLabel {display: none;}</style><script>function sliderChanged(element) {element.value}</script><table class =\"converted\"><thead><tr><th class=\"rowLabel\">&nbsp;</th><th>Town</th><th>Population</th></tr></thead><tbody><tr><td class =\"rowLabel\">&nbsp;</td><td>Shanghai</td><td>24256800</td><tr><td class =\"rowLabel\">&nbsp;</td><td>Karachi</td><td>23500000</td><tr><td class =\"rowLabel\">&nbsp;</td><td>Bejing</td><td>21516000</td><tr><td class =\"rowLabel\">&nbsp;</td><td>Sao Paolo</td><td>21292893</td></tbody></table>"
      ]
     },
     "execution_count": 12,
     "metadata": {},
     "output_type": "execute_result"
    }
   ],
   "source": [
    "HTMLTableBuilder.html(table)"
   ]
  },
  {
   "cell_type": "code",
   "execution_count": 13,
   "metadata": {},
   "outputs": [
    {
     "data": {
      "text/html": [
       "<style>table.converted {color: #333; font-family: Helvetica, Arial, sans-serif; border-collapse: collapse; border-spacing: 0;}table.converted td, table.converted th {border: 1px solid #C9C7C7;}table.converted th, table.converted td.rowLabel {background: #626262; color: #FFFFFF; font-weight: bold; text-align: left;}table.converted td {text-align: left;}table.converted tr:nth-child(even) {background: #F3F3F3;}table.converted tr:nth-child(odd) {background: #FFFFFF;}table.converted tbody tr:hover {background: #BDF4B5;}table.converted td.rowLabel, table.converted th.rowLabel {display: none;}</style><script>function sliderChanged(element) {element.value}</script><table class =\"converted\"><thead><tr><th class=\"rowLabel\">&nbsp;</th><th>Town</th><th>Population</th></tr></thead><tbody><tr><td class =\"rowLabel\">&nbsp;</td><td>Shanghai</td><td>24256800</td><tr><td class =\"rowLabel\">&nbsp;</td><td>Karachi</td><td>23500000</td><tr><td class =\"rowLabel\">&nbsp;</td><td>Bejing</td><td>21516000</td><tr><td class =\"rowLabel\">&nbsp;</td><td>Sao Paolo</td><td>21292893</td></tbody></table><div>Time = <span id=\"timeValue\">ASDF</span>, Space = <span id=\"spaceValue\"ASDF</span></div><div><span style=\"display: inline-block; width: 5em; text-align: right;\">Time</span> <input style=\"display: inline-block; width: 30em\" type=\"range\" min=\"1\" max=\"100\" value=\"50\" class=\"slider\" oninput=\"document.getElementById('timeValue').innerHTML = this.value;\" onchange=\"document.getElementById('timeValue').innerHTML = this.value;\"></input></div><div><span style=\"display: inline-block; width: 5em; text-align: right;\">Space</span> <input style=\"display: inline-block; width: 30em\" type=\"range\" min=\"1\" max=\"100\" value=\"50\" class=\"slider\" oninput=\"document.getElementById('spaceValue').innerHTML = this.value;\" onchange=\"document.getElementById('spaceValue').innerHTML = this.value;\"></input></div>"
      ]
     },
     "execution_count": 13,
     "metadata": {},
     "output_type": "execute_result"
    }
   ],
   "source": [
    "public class TableRenderer {\n",
    "    private final List table;\n",
    "    public TableRenderer(net.imagej.table.Table table) {\n",
    "        this.table = table\n",
    "    }\n",
    "    public String html() {\n",
    "        return tableToHTML(table)\n",
    "    }\n",
    "    private static String tableToHTML(net.imagej.table.Table table) {\n",
    "        return HTMLTableBuilder.html(table) + //\n",
    "            \"<div>Time = <span id=\\\"timeValue\\\">ASDF</span>, Space = <span id=\\\"spaceValue\\\"ASDF</span></div>\" +\n",
    "            \"<div><span style=\\\"display: inline-block; width: 5em; text-align: right;\\\">Time</span> <input style=\\\"display: inline-block; width: 30em\\\" type=\\\"range\\\" min=\\\"1\\\" max=\\\"100\\\" value=\\\"50\\\" class=\\\"slider\\\" oninput=\\\"document.getElementById('timeValue').innerHTML = this.value;\\\" onchange=\\\"document.getElementById('timeValue').innerHTML = this.value;\\\"></input></div>\" +\n",
    "            \"<div><span style=\\\"display: inline-block; width: 5em; text-align: right;\\\">Space</span> <input style=\\\"display: inline-block; width: 30em\\\" type=\\\"range\\\" min=\\\"1\\\" max=\\\"100\\\" value=\\\"50\\\" class=\\\"slider\\\" oninput=\\\"document.getElementById('spaceValue').innerHTML = this.value;\\\" onchange=\\\"document.getElementById('spaceValue').innerHTML = this.value;\\\"></input></div>\";\n",
    "    }\n",
    "}\n",
    "net.imagej.notebook.DefaultNotebookService.register(TableRenderer.class, { mimeMap, table ->\n",
    "    mimeMap.put(MIMEContainer.MIME.TEXT_HTML, table.html())\n",
    "})\n",
    "\n",
    "new TableRenderer(table)"
   ]
  },
  {
   "cell_type": "code",
   "execution_count": 14,
   "metadata": {
    "scrolled": true
   },
   "outputs": [
    {
     "data": {
      "application/vnd.jupyter.widget-view+json": {
       "model_id": "accc3ca2-49f3-47e8-89b7-65db4fde34bf",
       "version_major": 2,
       "version_minor": 0
      },
      "method": "display_data"
     },
     "metadata": {},
     "output_type": "display_data"
    }
   ],
   "source": [
    "[\n",
    "    [\"Town\": \"Shanghai\", \"Population\": 24_256_800],\n",
    "    [\"Town\": \"Karachi\", \"Population\": 23_500_000],\n",
    "    [\"Town\": \"Beijing\", \"Population\": 21_516_000],\n",
    "    [\"Town\": \"Sao Paolo\", \"Population\": 21_292_893],\n",
    "]\n"
   ]
  },
  {
   "cell_type": "code",
   "execution_count": 15,
   "metadata": {},
   "outputs": [
    {
     "data": {
      "text/plain": [
       "class com.twosigma.beakerx.chart.xychart.Plot"
      ]
     },
     "execution_count": 15,
     "metadata": {},
     "output_type": "execute_result"
    }
   ],
   "source": [
    "Plot.class"
   ]
  },
  {
   "cell_type": "code",
   "execution_count": 16,
   "metadata": {},
   "outputs": [
    {
     "data": {
      "application/vnd.jupyter.widget-view+json": {
       "model_id": "bb7e0518-efd3-4851-980a-a10c6864fd98",
       "version_major": 2,
       "version_minor": 0
      },
      "method": "display_data"
     },
     "metadata": {},
     "output_type": "display_data"
    },
    {
     "data": {
      "application/vnd.jupyter.widget-view+json": {
       "model_id": "2627adc4-0db9-41b9-a946-5e7223a2c66e",
       "version_major": 2,
       "version_minor": 0
      },
      "method": "display_data"
     },
     "metadata": {},
     "output_type": "display_data"
    },
    {
     "data": {
      "application/vnd.jupyter.widget-view+json": {
       "model_id": "0fb5279b-b2cc-4f92-9a4a-a049fe3428c9",
       "version_major": 2,
       "version_minor": 0
      },
      "method": "display_data"
     },
     "metadata": {},
     "output_type": "display_data"
    },
    {
     "data": {
      "text/plain": [
       "null"
      ]
     },
     "execution_count": 16,
     "metadata": {},
     "output_type": "execute_result"
    }
   ],
   "source": [
    "import static com.twosigma.beakerx.groovy.widgets.Interactive.interact\n",
    "\n",
    "class DataHolder{\n",
    "    static Plot plot = null;\n",
    "}\n",
    "\n",
    "public static Object f(a,b){\n",
    "    if (DataHolder.plot == null){\n",
    "        DataHolder.plot = new Plot(title: \"Lissajous Curves\")\n",
    "    }\n",
    "\n",
    "    List t = (1..1000)\n",
    "    List x = t.collect { it -> sin(it*a/100)}\n",
    "    List y = t.collect { it -> cos(it*b/100)}\n",
    "    \n",
    "    DataHolder.plot.getGraphics().clear()\n",
    "    DataHolder.plot.add(new Line(x: x, y: y))\n",
    "    return DataHolder.plot \n",
    "}\n",
    "\n",
    "interact(this.&f, 3d, -3d);\n",
    "\n"
   ]
  },
  {
   "cell_type": "code",
   "execution_count": 17,
   "metadata": {},
   "outputs": [
    {
     "ename": "groovy.lang.MissingPropertyException",
     "evalue": " No such property",
     "output_type": "error",
     "traceback": [
      "\u001b[0;31mgroovy.lang.MissingPropertyException: No such property: interact for class: com.twosigma.beakerx.groovy.widgets.Interactive\u001b[0;0m",
      "\u001b[0;31m\tat this cell line 1\u001b[0;0m",
      "\u001b[0;31m\tat com.twosigma.beakerx.groovy.evaluator.GroovyCodeRunner.runScript(GroovyCodeRunner.java:94)\u001b[0;0m",
      "\u001b[0;31m\tat com.twosigma.beakerx.groovy.evaluator.GroovyCodeRunner.call(GroovyCodeRunner.java:59)\u001b[0;0m",
      "\u001b[0;31m\tat com.twosigma.beakerx.groovy.evaluator.GroovyCodeRunner.call(GroovyCodeRunner.java:32)\u001b[0;0m"
     ]
    }
   ],
   "source": [
    "com.twosigma.beakerx.groovy.widgets.Interactive.interact"
   ]
  },
  {
   "cell_type": "code",
   "execution_count": null,
   "metadata": {},
   "outputs": [],
   "source": []
  },
  {
   "cell_type": "code",
   "execution_count": null,
   "metadata": {},
   "outputs": [],
   "source": []
  }
 ],
 "metadata": {
  "kernelspec": {
   "display_name": "Groovy",
   "language": "groovy",
   "name": "groovy"
  },
  "language_info": {
   "codemirror_mode": "groovy",
   "file_extension": ".groovy",
   "mimetype": "",
   "name": "Groovy",
   "nbconverter_exporter": "",
   "version": "2.4.3"
  },
  "toc": {
   "base_numbering": 1,
   "nav_menu": {},
   "number_sections": false,
   "sideBar": false,
   "skip_h1_title": false,
   "title_cell": "Table of Contents",
   "title_sidebar": "Contents",
   "toc_cell": false,
   "toc_position": {},
   "toc_section_display": false,
   "toc_window_display": false
  }
 },
 "nbformat": 4,
 "nbformat_minor": 2
}
