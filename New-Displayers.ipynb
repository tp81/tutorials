{
 "cells": [
  {
   "cell_type": "code",
   "execution_count": 1,
   "metadata": {},
   "outputs": [
    {
     "name": "stdout",
     "output_type": "stream",
     "text": [
      "Added new repo: imagej.public\n"
     ]
    },
    {
     "data": {
      "application/vnd.jupyter.widget-view+json": {
       "model_id": "e70d5600-819b-4f06-9384-adf59dac1efa",
       "version_major": 2,
       "version_minor": 0
      },
      "method": "display_data"
     },
     "metadata": {},
     "output_type": "display_data"
    },
    {
     "data": {
      "application/vnd.jupyter.widget-view+json": {
       "model_id": "",
       "version_major": 2,
       "version_minor": 0
      },
      "method": "display_data"
     },
     "metadata": {},
     "output_type": "display_data"
    },
    {
     "data": {
      "application/vnd.jupyter.widget-view+json": {
       "model_id": "5875fff7-4a1d-4eb3-af6a-2478c8852a61",
       "version_major": 2,
       "version_minor": 0
      },
      "method": "display_data"
     },
     "metadata": {},
     "output_type": "display_data"
    },
    {
     "data": {
      "text/plain": [
       "net.imagej.ImageJ@73cc5d54"
      ]
     },
     "execution_count": 1,
     "metadata": {},
     "output_type": "execute_result"
    }
   ],
   "source": [
    "//load ImageJ\n",
    "%classpath config resolver imagej.public 'https://maven.imagej.net/content/groups/public'\n",
    "%classpath add jar C:\\Users\\gds12\\Documents\\code\\imagej-notebook\\target\\imagej-notebook-0.3.0-TESTING.jar\n",
    "// %classpath add jar /Users/curtis/code/imagej/imagej-notebook/target/imagej-notebook-0.3.0-TESTING.jar\n",
    "%classpath add mvn net.imagej imagej 2.0.0-rc-68\n",
    "\n",
    "//create ImageJ object\n",
    "ij = new net.imagej.ImageJ()"
   ]
  },
  {
   "cell_type": "code",
   "execution_count": 2,
   "metadata": {},
   "outputs": [
    {
     "data": {
      "text/plain": [
       "net.imagej.ImageJ@73cc5d54"
      ]
     },
     "execution_count": 2,
     "metadata": {},
     "output_type": "execute_result"
    }
   ],
   "source": [
    "ij"
   ]
  },
  {
   "cell_type": "code",
   "execution_count": 3,
   "metadata": {},
   "outputs": [
    {
     "data": {
      "text/plain": [
       "0.3.0-TESTING"
      ]
     },
     "execution_count": 3,
     "metadata": {},
     "output_type": "execute_result"
    }
   ],
   "source": [
    "org.scijava.util.VersionUtils.getVersion(ij.notebook().getClass())"
   ]
  },
  {
   "cell_type": "code",
   "execution_count": 4,
   "metadata": {},
   "outputs": [
    {
     "name": "stdout",
     "output_type": "stream",
     "text": [
      "net.imagej.notebook.DefaultNotebookService [priority = 0.0]\n"
     ]
    },
    {
     "data": {
      "text/plain": [
       "null"
      ]
     },
     "execution_count": 4,
     "metadata": {},
     "output_type": "execute_result"
    }
   ],
   "source": [
    "ij.context().getServiceIndex().forEach{ s ->\n",
    "    if (s.toString().startsWith(\"net.imagej.notebook\")) println(s)\n",
    "}"
   ]
  },
  {
   "cell_type": "code",
   "execution_count": 5,
   "metadata": {},
   "outputs": [
    {
     "ename": "java.lang.UnsupportedOperationException",
     "evalue": " Attempting to read or write from a io.scif.io.VirtualHandle. There is no source to operate on.",
     "output_type": "error",
     "traceback": [
      "\u001b[1;31mjava.lang.UnsupportedOperationException: Attempting to read or write from a io.scif.io.VirtualHandle. There is no source to operate on.\u001b[0;0m",
      "\u001b[1;31m\tat io.scif.io.VirtualHandle.read(VirtualHandle.java:82)\u001b[0;0m",
      "\u001b[1;31m\tat io.scif.io.RandomAccessInputStream.read(RandomAccessInputStream.java:436)\u001b[0;0m",
      "\u001b[1;31m\tat io.scif.formats.KontronFormat$Checker.isFormat(KontronFormat.java:153)\u001b[0;0m",
      "\u001b[1;31m\tat io.scif.AbstractChecker.isFormat(AbstractChecker.java:92)\u001b[0;0m",
      "\u001b[1;31m\tat io.scif.services.DefaultFormatService.getFormatList(DefaultFormatService.java:341)\u001b[0;0m",
      "\u001b[1;31m\tat io.scif.services.DefaultFormatService.getFormat(DefaultFormatService.java:316)\u001b[0;0m",
      "\u001b[1;31m\tat io.scif.services.DefaultInitializeService.initializeReader(DefaultInitializeService.java:88)\u001b[0;0m",
      "\u001b[1;31m\tat io.scif.img.ImgOpener.createReader(ImgOpener.java:419)\u001b[0;0m",
      "\u001b[1;31m\tat io.scif.img.ImgOpener.openImgs(ImgOpener.java:145)\u001b[0;0m",
      "\u001b[1;31m\tat io.scif.services.DefaultDatasetIOService.open(DefaultDatasetIOService.java:125)\u001b[0;0m",
      "\u001b[1;31m\tat io.scif.services.DefaultDatasetIOService.open(DefaultDatasetIOService.java:110)\u001b[0;0m",
      "\u001b[1;31m\tat io.scif.services.DatasetIOService$open.call(Unknown Source)\u001b[0;0m",
      "\u001b[1;31m\tat this cell line 1\u001b[0;0m",
      "\u001b[0;31m\tat com.twosigma.beakerx.groovy.evaluator.GroovyCodeRunner.runScript(GroovyCodeRunner.java:94)\u001b[0;0m",
      "\u001b[0;31m\tat com.twosigma.beakerx.groovy.evaluator.GroovyCodeRunner.call(GroovyCodeRunner.java:59)\u001b[0;0m",
      "\u001b[0;31m\tat com.twosigma.beakerx.groovy.evaluator.GroovyCodeRunner.call(GroovyCodeRunner.java:32)\u001b[0;0m"
     ]
    }
   ],
   "source": [
    "img = ij.scifio().datasetIO().open(\"/Users/curtis/data/clown8.tif\")"
   ]
  },
  {
   "cell_type": "code",
   "execution_count": 6,
   "metadata": {},
   "outputs": [
    {
     "data": {
      "application/vnd.jupyter.widget-view+json": {
       "model_id": "901f4abc-1b66-4830-b85f-c0b6c92514c9",
       "version_major": 2,
       "version_minor": 0
      },
      "method": "display_data"
     },
     "metadata": {},
     "output_type": "display_data"
    }
   ],
   "source": [
    "ij.notebook().methods(ij.notebook())"
   ]
  },
  {
   "cell_type": "markdown",
   "metadata": {},
   "source": [
    "1. Fix the Git history to stop sucking. File a PR against imagej-notebook.\n",
    "2. Scrutinize the NotebookService API; maybe make it nicer. Do we really need six display methods?\n",
    "3. Test out auto-display of all the supported types. E.g. if I make an ARGBType image as cell output, does it paint correctly?\n",
    "4. Think about if any other ImageJ or SciJava types should be auto-displayed. E.g. org.scijava.table could be shown? Note that it _was_ net.imagej.table, but moved to scijava-table, but rc-68 used here doesn't have that change in place yet."
   ]
  },
  {
   "cell_type": "code",
   "execution_count": 7,
   "metadata": {},
   "outputs": [
    {
     "data": {
      "application/vnd.jupyter.widget-view+json": {
       "model_id": "b4e1f26d-b3c9-4223-9fac-135a8692cc54",
       "version_major": 2,
       "version_minor": 0
      },
      "method": "display_data"
     },
     "metadata": {},
     "output_type": "display_data"
    }
   ],
   "source": [
    "ij.notebook().methods(ij.get(\"net.imagej.table.TableService\"))"
   ]
  },
  {
   "cell_type": "code",
   "execution_count": 8,
   "metadata": {
    "scrolled": true
   },
   "outputs": [
    {
     "ename": "java.lang.IllegalArgumentException",
     "evalue": " Not a service class",
     "output_type": "error",
     "traceback": [
      "\u001b[1;31mjava.lang.IllegalArgumentException: Not a service class: net.imglib2.img.array.ArrayImgs\u001b[0;0m",
      "\u001b[1;31m\tat org.scijava.Context.service(Context.java:329)\u001b[0;0m",
      "\u001b[1;31m\tat org.scijava.AbstractGateway.get(AbstractGateway.java:127)\u001b[0;0m",
      "\u001b[1;31m\tat org.scijava.Gateway$get.call(Unknown Source)\u001b[0;0m",
      "\u001b[1;31m\tat this cell line 1\u001b[0;0m",
      "\u001b[0;31m\tat com.twosigma.beakerx.groovy.evaluator.GroovyCodeRunner.runScript(GroovyCodeRunner.java:94)\u001b[0;0m",
      "\u001b[0;31m\tat com.twosigma.beakerx.groovy.evaluator.GroovyCodeRunner.call(GroovyCodeRunner.java:59)\u001b[0;0m",
      "\u001b[0;31m\tat com.twosigma.beakerx.groovy.evaluator.GroovyCodeRunner.call(GroovyCodeRunner.java:32)\u001b[0;0m"
     ]
    }
   ],
   "source": [
    "ij.notebook().methods(ij.get(\"net.imglib2.img.array.ArrayImgs\"))"
   ]
  },
  {
   "cell_type": "code",
   "execution_count": 9,
   "metadata": {},
   "outputs": [
    {
     "name": "stdout",
     "output_type": "stream",
     "text": [
      "ARGBType\n"
     ]
    },
    {
     "data": {
      "image/png": "[encoded data removed]"
     },
     "metadata": {},
     "output_type": "display_data"
    },
    {
     "name": "stdout",
     "output_type": "stream",
     "text": [
      "ByteType\n"
     ]
    },
    {
     "data": {
      "image/png": "[encoded data removed]"
     },
     "metadata": {},
     "output_type": "display_data"
    },
    {
     "name": "stdout",
     "output_type": "stream",
     "text": [
      "ShortType\n"
     ]
    },
    {
     "data": {
      "image/png": "[encoded data removed]"
     },
     "metadata": {},
     "output_type": "display_data"
    },
    {
     "name": "stdout",
     "output_type": "stream",
     "text": [
      "IntType\n"
     ]
    },
    {
     "data": {
      "image/png": "[encoded data removed]"
     },
     "metadata": {},
     "output_type": "display_data"
    },
    {
     "name": "stdout",
     "output_type": "stream",
     "text": [
      "LongType\n"
     ]
    },
    {
     "data": {
      "image/png": "[encoded data removed]"
     },
     "metadata": {},
     "output_type": "display_data"
    },
    {
     "name": "stdout",
     "output_type": "stream",
     "text": [
      "Unsigned2BitType\n"
     ]
    },
    {
     "data": {
      "image/png": "[encoded data removed]"
     },
     "metadata": {},
     "output_type": "display_data"
    },
    {
     "name": "stdout",
     "output_type": "stream",
     "text": [
      "Unsigned4BitType\n"
     ]
    },
    {
     "data": {
      "image/png": "[encoded data removed]"
     },
     "metadata": {},
     "output_type": "display_data"
    },
    {
     "name": "stdout",
     "output_type": "stream",
     "text": [
      "UnsignedByteType\n"
     ]
    },
    {
     "data": {
      "image/png": "[encoded data removed]"
     },
     "metadata": {},
     "output_type": "display_data"
    },
    {
     "name": "stdout",
     "output_type": "stream",
     "text": [
      "Unsigned12BitType\n"
     ]
    },
    {
     "data": {
      "image/png": "[encoded data removed]"
     },
     "metadata": {},
     "output_type": "display_data"
    },
    {
     "name": "stdout",
     "output_type": "stream",
     "text": [
      "UnsignedShortType\n"
     ]
    },
    {
     "data": {
      "image/png": "[encoded data removed]"
     },
     "metadata": {},
     "output_type": "display_data"
    },
    {
     "name": "stdout",
     "output_type": "stream",
     "text": [
      "UnsignedIntType\n"
     ]
    },
    {
     "data": {
      "image/png": "[encoded data removed]"
     },
     "metadata": {},
     "output_type": "display_data"
    },
    {
     "name": "stdout",
     "output_type": "stream",
     "text": [
      "UnsignedLongType\n"
     ]
    },
    {
     "data": {
      "image/png": "[encoded data removed]"
     },
     "metadata": {},
     "output_type": "display_data"
    },
    {
     "name": "stdout",
     "output_type": "stream",
     "text": [
      "UnsignedVariableBitLengthType\n"
     ]
    },
    {
     "data": {
      "image/png": "[encoded data removed]"
     },
     "metadata": {},
     "output_type": "display_data"
    },
    {
     "name": "stdout",
     "output_type": "stream",
     "text": [
      "FloatType\n"
     ]
    },
    {
     "data": {
      "image/png": "[encoded data removed]"
     },
     "metadata": {},
     "output_type": "display_data"
    },
    {
     "name": "stdout",
     "output_type": "stream",
     "text": [
      "DoubleType\n"
     ]
    },
    {
     "data": {
      "image/png": "[encoded data removed]"
     },
     "metadata": {},
     "output_type": "display_data"
    },
    {
     "data": {
      "text/plain": [
       "[null, null, null, null, null, null, null, null, null, null, null, null, null, null, null]"
      ]
     },
     "execution_count": 9,
     "metadata": {},
     "output_type": "execute_result"
    }
   ],
   "source": [
    "import net.imglib2.img.array.ArrayImg\n",
    "import net.imglib2.img.array.ArrayImgs\n",
    "import net.imglib2.type.numeric.ARGBType\n",
    "import net.imglib2.type.numeric.integer.*\n",
    "import net.imglib2.type.numeric.real.*\n",
    "\n",
    "import net.imglib2.converter.Converters\n",
    "\n",
    "import net.imglib2.view.Views\n",
    "\n",
    "w = 50\n",
    "h = 30\n",
    "img = ArrayImgs.argbs(w, h)\n",
    "imgs = [\n",
    "    ArrayImgs.argbs(w, h),\n",
    "    ArrayImgs.bytes(w, h),\n",
    "    ArrayImgs.shorts(w, h),\n",
    "    ArrayImgs.ints(w, h),\n",
    "    ArrayImgs.longs(w, h),\n",
    "    ArrayImgs.unsigned2Bits(w, h),\n",
    "    ArrayImgs.unsigned4Bits(w, h),\n",
    "    ArrayImgs.unsignedBytes(w, h),\n",
    "    ArrayImgs.unsigned12Bits(w, h),\n",
    "    ArrayImgs.unsignedShorts(w, h),\n",
    "    ArrayImgs.unsignedInts(w, h),\n",
    "    ArrayImgs.unsignedLongs(w, h),\n",
    "    ArrayImgs.unsignedVariableBitLengths(1, w, h),\n",
    "    ArrayImgs.floats(w, h),\n",
    "    ArrayImgs.doubles(w, h),\n",
    "] as ArrayImg<NumericType>[]\n",
    "\n",
    "access = [] as ArrayList<RandomAccess>\n",
    "imgs.each{ access.add(it.randomAccess()) }\n",
    "for (y=0; y<h; y++) {\n",
    "    access.each{ it.setPosition(y, 1) }\n",
    "    for (x=0; x<w; x++) {\n",
    "        access.each{ it.setPosition(x, 0) }\n",
    "        r = 255 * (x + y) / (w + h)\n",
    "        g = 255 * x / w\n",
    "        b = 255 * y / h\n",
    "        a = 255\n",
    "        access.eachWithIndex { ra, idx ->\n",
    "            if (idx == 0)\n",
    "                ra.get().set(ARGBType.rgba(r, g, b, a))\n",
    "            else\n",
    "                switch (idx % 3) {\n",
    "                    case 0: ra.get().set((byte)r); break;\n",
    "                    case 1: ra.get().set((byte)g); break;\n",
    "                    case 2: ra.get().set((byte)b); break;\n",
    "                }\n",
    "        }\n",
    "    }\n",
    "}\n",
    "\n",
    "imgs.eachWithIndex { it, idx ->\n",
    "    println(it.firstElement().getClass().getSimpleName());\n",
    "    display(it)\n",
    "}"
   ]
  },
  {
   "cell_type": "code",
   "execution_count": null,
   "metadata": {},
   "outputs": [],
   "source": []
  }
 ],
 "metadata": {
  "kernelspec": {
   "display_name": "Groovy",
   "language": "groovy",
   "name": "groovy"
  },
  "language_info": {
   "codemirror_mode": "groovy",
   "file_extension": ".groovy",
   "mimetype": "",
   "name": "Groovy",
   "nbconverter_exporter": "",
   "version": "2.4.3"
  },
  "toc": {
   "base_numbering": 1,
   "nav_menu": {},
   "number_sections": false,
   "sideBar": false,
   "skip_h1_title": false,
   "title_cell": "Table of Contents",
   "title_sidebar": "Contents",
   "toc_cell": false,
   "toc_position": {},
   "toc_section_display": false,
   "toc_window_display": false
  }
 },
 "nbformat": 4,
 "nbformat_minor": 2
}
