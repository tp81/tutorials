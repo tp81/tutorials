{
 "cells": [
  {
   "cell_type": "code",
   "execution_count": null,
   "metadata": {
    "scrolled": true
   },
   "outputs": [],
   "source": [
    "%%groovy\n",
    "//load ImageJ\n",
    "%classpath config resolver imagej.public https://maven.imagej.net/content/groups/public\n",
    "%classpath add mvn net.imagej imagej 2.0.0-rc-67\n",
    "\n",
    "//create ImageJ object\n",
    "ij = new net.imagej.ImageJ()\n",
    "\n",
    "//store the ops list in the beakerx object\n",
    "beakerx.java_ops = ij.op().ops()\n",
    "\"Ops loaded!\""
   ]
  },
  {
   "cell_type": "code",
   "execution_count": null,
   "metadata": {},
   "outputs": [],
   "source": [
    "from beakerx import beakerx\n",
    "\n",
    "#Ask beakerx for a Python version of the ops list\n",
    "ops = beakerx.java_ops\n",
    "\n",
    "# Do some light processing on the ops list.\n",
    "# In particular, we want global namespace ops to be listed at the top.\n",
    "def globals_on_top(op):\n",
    "    return '_' + op if op.rfind('.') < 0 else op\n",
    "ops.sort(key=globals_on_top)"
   ]
  },
  {
   "cell_type": "code",
   "execution_count": null,
   "metadata": {},
   "outputs": [],
   "source": [
    "import os\n",
    "from IPython.display import display, Markdown, Latex\n",
    "\n",
    "# Known list of op -> notebook linkages.\n",
    "op_links = {\n",
    "    'convert.float32': 'Ops/convert/typeConversionOps.ipynb',\n",
    "    'convert.float64': 'Ops/convert/typeConversionOps.ipynb',\n",
    "    'convert.int32': 'Ops/convert/typeConversionOps.ipynb',\n",
    "    'convert.uint2': 'Ops/convert/typeConversionOps.ipynb',\n",
    "    'convert.uint8': 'Ops/convert/typeConversionOps.ipynb',\n",
    "    'morphology.thinGuoHall' : 'Ops/morphology.thin.ipynb',\n",
    "    'morphology.thinHilditch' : 'Ops/morphology.thin.ipynb',\n",
    "    'morphology.thinMorphological' : 'Ops/morphology.thin.ipynb',\n",
    "    'morphology.thinZhangSuen' : 'Ops/morphology.thin.ipynb',\n",
    "}\n",
    "\n",
    "def namespace(op):\n",
    "    dot = op.rfind('.')\n",
    "    return '' if dot < 0 else op[:dot]\n",
    "\n",
    "def shortName(op):\n",
    "    return op[op.rfind('.')+1:]\n",
    "\n",
    "def opString(op):\n",
    "    ns = namespace(op)\n",
    "    opName = shortName(op)\n",
    "    link = op_links.get(op, os.path.join('Ops', ns, opName + '.ipynb'))\n",
    "    fullPath = os.path.join(os.getcwd(), link)\n",
    "    if os.path.isfile(fullPath):\n",
    "        return '* [' + op + '](' + link + ')\\n'\n",
    "    return '* ' + op + ' **NO NOTEBOOK AVAILABLE**\\n'\n",
    "\n",
    "markdown = '## Global\\n'\n",
    "last_ns = ''\n",
    "for op in ops:\n",
    "    ns = namespace(op)\n",
    "    if (ns != last_ns):\n",
    "        last_ns = ns\n",
    "        markdown += '\\n## ' + ns + '\\n'\n",
    "    markdown += opString(op)\n",
    "\n",
    "display(Markdown(markdown))\n"
   ]
  }
 ],
 "metadata": {
  "kernelspec": {
   "display_name": "Python 3",
   "language": "python",
   "name": "python3"
  },
  "language_info": {
   "codemirror_mode": {
    "name": "ipython",
    "version": 3
   },
   "file_extension": ".py",
   "mimetype": "text/x-python",
   "name": "python",
   "nbconvert_exporter": "python",
   "pygments_lexer": "ipython3",
   "version": "3.6.5"
  },
  "toc": {
   "base_numbering": 1,
   "nav_menu": {},
   "number_sections": false,
   "sideBar": false,
   "skip_h1_title": false,
   "title_cell": "Table of Contents",
   "title_sidebar": "Contents",
   "toc_cell": false,
   "toc_position": {},
   "toc_section_display": false,
   "toc_window_display": false
  }
 },
 "nbformat": 4,
 "nbformat_minor": 2
}
