{
 "cells": [
  {
   "cell_type": "markdown",
   "metadata": {},
   "source": [
    "# eval Op"
   ]
  },
  {
   "cell_type": "code",
   "execution_count": null,
   "metadata": {},
   "outputs": [],
   "source": [
    "//load ImageJ\n",
    "%classpath config resolver imagej.public 'https://maven.imagej.net/content/groups/public'\n",
    "%classpath add mvn net.imagej imagej 2.0.0-rc-67\n",
    "\n",
    "//create ImageJ object\n",
    "ij = new net.imagej.ImageJ()"
   ]
  },
  {
   "cell_type": "markdown",
   "metadata": {},
   "source": [
    "This `Op` has the ability to evaluate a mathematical expression contained in a String by first parsing the expression using the [Scijava expression parsing library](https://github.com/scijava/parsington) and then invoking other Ops to complete the parsed expressions. \n",
    "\n",
    "We can call an `eval` Op using the following syntax:"
   ]
  },
  {
   "cell_type": "code",
   "execution_count": null,
   "metadata": {},
   "outputs": [],
   "source": [
    "ij.op().help('eval')"
   ]
  },
  {
   "cell_type": "markdown",
   "metadata": {},
   "source": [
    "All of the variables that we would like to use are stored by name and value in a `HashMap<String, Object>` object, which is later passed through into the `eval` op. "
   ]
  },
  {
   "cell_type": "code",
   "execution_count": null,
   "metadata": {},
   "outputs": [],
   "source": [
    "//create the HashMap\n",
    "vars = new HashMap<String, Object>()\n",
    "\n",
    "//store some values in the HashMap for later use\n",
    "vars.put(\"foo\", 8)\n",
    "vars.put(\"bar\", 13)\n",
    "vars.put(\"cat\", 24)\n",
    "\"\""
   ]
  },
  {
   "cell_type": "markdown",
   "metadata": {},
   "source": [
    "We also need a few `Strings` describing the expressions that we want to evaluate:"
   ]
  },
  {
   "cell_type": "code",
   "execution_count": null,
   "metadata": {},
   "outputs": [],
   "source": [
    "//create the expression strings\n",
    "multiply = \"foo*bar\"\n",
    "modulus = \"cat%foo\"\n",
    "orderOfOperations = \"cat*cat+foo\"\n",
    "\"\""
   ]
  },
  {
   "cell_type": "markdown",
   "metadata": {},
   "source": [
    "Now that we have created our variables and our expressions, let's use an `Eval` Op to evaluate our expressions:"
   ]
  },
  {
   "cell_type": "code",
   "execution_count": null,
   "metadata": {},
   "outputs": [],
   "source": [
    "//run eval on the expressions and variables\n",
    "println(ij.op().eval(multiply, vars))\n",
    "println(ij.op().eval(modulus, vars))\n",
    "println(ij.op().eval(orderOfOperations, vars))\n",
    "\"\""
   ]
  },
  {
   "cell_type": "markdown",
   "metadata": {},
   "source": [
    "`eval` has the knowledge to parse out the mathematical symbols `+, -, *, /, %, ^, <, >, <=, >=, |, ||, &, &&, =, !=, >>, <<, >>>`, but it can also be used to run any other Op contained within `Ops`! This can be particularly useful if you need to code a program that does not know the `Op` that it needs to run before runtime. For example, let's run a Gaussian on [this image](http://imagej.net/images/clown.png):"
   ]
  },
  {
   "cell_type": "code",
   "execution_count": null,
   "metadata": {},
   "outputs": [],
   "source": [
    "//retrieve and display input image\n",
    "input = ij.scifio().datasetIO().open(\"http://imagej.net/images/clown.jpg\")\n",
    "ij.notebook().display(input)"
   ]
  },
  {
   "cell_type": "code",
   "execution_count": null,
   "metadata": {},
   "outputs": [],
   "source": [
    "//add the input image and sigma value to the HashMap\n",
    "vars.put(\"input\", input)\n",
    "vars.put(\"sigma\", 1.5)\n",
    "\n",
    "//create the expression string\n",
    "gaussString = \"gauss(input, sigma)\"\n",
    "\n",
    "//run eval on the expression and variables\n",
    "output = ij.op().eval(gaussString, vars)\n",
    "\n",
    "//display the output\n",
    "ij.notebook().display(output)"
   ]
  }
 ],
 "metadata": {
  "kernelspec": {
   "display_name": "Groovy",
   "language": "groovy",
   "name": "groovy"
  },
  "language_info": {
   "codemirror_mode": "groovy",
   "file_extension": ".groovy",
   "mimetype": "",
   "name": "Groovy",
   "nbconverter_exporter": "",
   "version": "2.4.3"
  },
  "toc": {
   "base_numbering": 1,
   "nav_menu": {},
   "number_sections": false,
   "sideBar": false,
   "skip_h1_title": false,
   "title_cell": "Table of Contents",
   "title_sidebar": "Contents",
   "toc_cell": false,
   "toc_position": {},
   "toc_section_display": false,
   "toc_window_display": false
  }
 },
 "nbformat": 4,
 "nbformat_minor": 2
}
