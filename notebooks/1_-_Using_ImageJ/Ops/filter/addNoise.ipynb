{
 "cells": [
  {
   "cell_type": "markdown",
   "metadata": {},
   "source": [
    "#  Gaussian Noise Filter"
   ]
  },
  {
   "cell_type": "code",
   "execution_count": null,
   "metadata": {},
   "outputs": [],
   "source": [
    "//load ImageJ\n",
    "%classpath config resolver imagej.public https://maven.imagej.net/content/groups/public\n",
    "%classpath add mvn net.imagej imagej 2.0.0-rc-67\n",
    "\n",
    "//create ImageJ object\n",
    "ij = new net.imagej.ImageJ()"
   ]
  },
  {
   "cell_type": "markdown",
   "metadata": {},
   "source": [
    "This filter adds noise to an image based on a Gaussian kernel (i.e. not uniform)\n",
    "\n",
    "The `Op` is called as follows:"
   ]
  },
  {
   "cell_type": "code",
   "execution_count": null,
   "metadata": {},
   "outputs": [],
   "source": [
    "ij.op().help('addNoise')"
   ]
  },
  {
   "cell_type": "markdown",
   "metadata": {},
   "source": [
    "Here we have an image of tree rings ([Source](http://imagej.net/images/Dot_Blot.jpg))."
   ]
  },
  {
   "cell_type": "code",
   "execution_count": null,
   "metadata": {},
   "outputs": [],
   "source": [
    "input = ij.scifio().datasetIO().open(\"https://imagej.net/images/Tree_Rings.jpg\")\n",
    "ij.notebook().display(input)                                     "
   ]
  },
  {
   "cell_type": "markdown",
   "metadata": {},
   "source": [
    "`addNoise` works on `RealType` `Object`s, so if we want to apply this `Op` to an image we have to create an instance of this `Op` and use a `Map` to apply it to our whole `Img`."
   ]
  },
  {
   "cell_type": "code",
   "execution_count": null,
   "metadata": {},
   "outputs": [],
   "source": [
    "import net.imagej.ops.map.MapIterableToIterable\n",
    "import net.imagej.ops.Ops\n",
    "import net.imagej.ops.special.computer.Computers\n",
    "\n",
    "//temporary type to pass through to the Op instance so that the Op knows what Type it is working on\n",
    "tempType = input.firstElement()\n",
    "\n",
    "//the minimum and maximum values allowed in the output - all values in the output \n",
    "//will be clamped to this value if below it in the input, so be careful\n",
    "rangeMin = input.firstElement().getMinValue()\n",
    "rangeMax = input.firstElement().getMaxValue()\n",
    "\n",
    "//the standard deviation for the gaussian kernel\n",
    "stdDev = 30d\n",
    "\n",
    "//create the op that is passed through to the Mapper, using the help() op syntax above\n",
    "noiseOp = Computers.unary(ij.op(), Ops.Filter.AddNoise.class, tempType, tempType, rangeMin, rangeMax, stdDev)\n",
    "\n",
    "//output image\n",
    "actualOutput = ij.op().create().img(input)\n",
    "\n",
    "//run a map op over the image using the noise Op above\n",
    "ij.op().run(MapIterableToIterable.class, actualOutput, input, noiseOp)\n",
    "\n",
    "ij.notebook().display(actualOutput)"
   ]
  },
  {
   "cell_type": "markdown",
   "metadata": {},
   "source": [
    "And there is noise. There are other noise `Op`s available in ImageJ-Ops that use different kernels, such as the [Poisson Noise Op](addPoissonNoise.ipynb), useful for simulating microscope noise."
   ]
  }
 ],
 "metadata": {
  "kernelspec": {
   "display_name": "Groovy",
   "language": "groovy",
   "name": "groovy"
  },
  "language_info": {
   "codemirror_mode": "groovy",
   "file_extension": ".groovy",
   "mimetype": "",
   "name": "Groovy",
   "nbconverter_exporter": "",
   "version": "2.4.3"
  },
  "toc": {
   "base_numbering": 1,
   "nav_menu": {},
   "number_sections": false,
   "sideBar": false,
   "skip_h1_title": false,
   "title_cell": "Table of Contents",
   "title_sidebar": "Contents",
   "toc_cell": false,
   "toc_position": {},
   "toc_section_display": false,
   "toc_window_display": false
  }
 },
 "nbformat": 4,
 "nbformat_minor": 2
}
