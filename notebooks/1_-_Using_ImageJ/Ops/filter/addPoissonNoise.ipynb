{
 "cells": [
  {
   "cell_type": "markdown",
   "metadata": {},
   "source": [
    "#  Poisson Noise Filter"
   ]
  },
  {
   "cell_type": "code",
   "execution_count": null,
   "metadata": {},
   "outputs": [],
   "source": [
    "//load ImageJ\n",
    "%classpath config resolver imagej.public https://maven.imagej.net/content/groups/public\n",
    "%classpath add mvn net.imagej imagej 2.0.0-rc-67\n",
    "\n",
    "//create ImageJ object\n",
    "ij = new net.imagej.ImageJ()"
   ]
  },
  {
   "cell_type": "markdown",
   "metadata": {},
   "source": [
    "This filter adds noise to an image based on a Poisson distribution (i.e. not uniform).\n",
    "\n",
    "The `Op` is called as follows:"
   ]
  },
  {
   "cell_type": "code",
   "execution_count": null,
   "metadata": {},
   "outputs": [],
   "source": [
    "ij.op().help('addPoissonNoise')"
   ]
  },
  {
   "cell_type": "markdown",
   "metadata": {},
   "source": [
    "Here we have an image of tree rings ([Source](http://imagej.net/images/Dot_Blot.jpg))."
   ]
  },
  {
   "cell_type": "code",
   "execution_count": null,
   "metadata": {},
   "outputs": [],
   "source": [
    "input = ij.scifio().datasetIO().open(\"https://imagej.net/images/Tree_Rings.jpg\")\n",
    "ij.notebook().display(input)                                     "
   ]
  },
  {
   "cell_type": "markdown",
   "metadata": {},
   "source": [
    "All we have to do is give the `Op` an output and a input and we are good to go!"
   ]
  },
  {
   "cell_type": "code",
   "execution_count": null,
   "metadata": {},
   "outputs": [],
   "source": [
    "import net.imagej.ops.Ops\n",
    "\n",
    "//output image\n",
    "actualOutput = ij.op().create().img(input)\n",
    "\n",
    "//run a map op over the image using the noise Op above\n",
    "ij.op().run(Ops.Filter.AddPoissonNoise.class, actualOutput, input)\n",
    "\n",
    "ij.notebook().display(actualOutput)"
   ]
  },
  {
   "cell_type": "markdown",
   "metadata": {},
   "source": [
    "And here we have noise. It is a little more difficult to see, so let's run a subtraction `Op` on the two images to see the difference:"
   ]
  },
  {
   "cell_type": "code",
   "execution_count": null,
   "metadata": {},
   "outputs": [],
   "source": [
    "difference = ij.op().create().img(input)\n",
    "\n",
    "ij.op().run(\"subtract\", difference, actualOutput, input)\n",
    "\n",
    "ij.notebook().display(difference)"
   ]
  },
  {
   "cell_type": "markdown",
   "metadata": {},
   "source": [
    "There are other noise `Op`s available in ImageJ-Ops that use different kernels, such as the [Gaussian Noise Op](addNoise.ipynb), that provides noise based on a Gaussian kernel."
   ]
  }
 ],
 "metadata": {
  "kernelspec": {
   "display_name": "Groovy",
   "language": "groovy",
   "name": "groovy"
  },
  "language_info": {
   "codemirror_mode": "groovy",
   "file_extension": ".groovy",
   "mimetype": "",
   "name": "Groovy",
   "nbconverter_exporter": "",
   "version": "2.4.3"
  },
  "toc": {
   "base_numbering": 1,
   "nav_menu": {},
   "number_sections": false,
   "sideBar": false,
   "skip_h1_title": false,
   "title_cell": "Table of Contents",
   "title_sidebar": "Contents",
   "toc_cell": false,
   "toc_position": {},
   "toc_section_display": false,
   "toc_window_display": false
  }
 },
 "nbformat": 4,
 "nbformat_minor": 2
}
