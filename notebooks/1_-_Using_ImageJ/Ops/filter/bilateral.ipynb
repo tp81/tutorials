{
 "cells": [
  {
   "cell_type": "markdown",
   "metadata": {},
   "source": [
    "## Bilateral Filter"
   ]
  },
  {
   "cell_type": "code",
   "execution_count": null,
   "metadata": {},
   "outputs": [],
   "source": [
    "//load ImageJ\n",
    "%classpath config resolver imagej.public https://maven.imagej.net/content/groups/public\n",
    "%classpath add mvn net.imagej imagej 2.0.0-rc-67\n",
    "\n",
    "//create ImageJ object\n",
    "ij = new net.imagej.ImageJ()"
   ]
  },
  {
   "cell_type": "markdown",
   "metadata": {},
   "source": [
    "This `Op` is designed to smooth out slightly noisy images while still preserving sharp edges, unlike most other smoothing filters. Check out the [Wikipedia page](https://en.wikipedia.org/wiki/Bilateral_filter) for an explanation of the filter itself. Let's take a look at how this `Op` is called:"
   ]
  },
  {
   "cell_type": "code",
   "execution_count": null,
   "metadata": {},
   "outputs": [],
   "source": [
    "ij.op().help('bilateral')"
   ]
  },
  {
   "cell_type": "markdown",
   "metadata": {},
   "source": [
    "Let's explain the parameters:\n",
    "\n",
    "* `RandomAccessibleInterval out`: the output image\n",
    "* `RandomAccessibleInterval in`: the input image\n",
    "* `double sigmaR`: this sigma denotes the range smoothing parameter; the larger this parameter, the closer the effects of this filter are to a [Gaussian](gauss.ipynb) convolution.\n",
    "* `double sigmaS`: this sigma denotes the spatial smoothing parameter; the larger this parameter, the more features get smoothened out.\n",
    "* `int radius`: this parameter defines the radius of the rectangle (centered at the current pixel) that the filter will operate over. Larger radii will smooth the image more at the cost of increased computation time.\n",
    "\n",
    "Let's grab an image:"
   ]
  },
  {
   "cell_type": "code",
   "execution_count": null,
   "metadata": {},
   "outputs": [],
   "source": [
    "input = ij.scifio().datasetIO().open(\"http://imagej.net/images/FluorescentCells.jpg\")\n",
    "ij.notebook().display(input)"
   ]
  },
  {
   "cell_type": "markdown",
   "metadata": {},
   "source": [
    "Let's run this image through the filter. This particular filter can take upwards of 10 seconds to run on this image with these settings due to the intensive nature of the algorithm."
   ]
  },
  {
   "cell_type": "code",
   "execution_count": null,
   "metadata": {},
   "outputs": [],
   "source": [
    "import net.imglib2.type.numeric.real.DoubleType\n",
    "\n",
    "//define the parameters\n",
    "sigmaR = 30\n",
    "sigmaS = 100\n",
    "radius = 7\n",
    "\n",
    "//TODO display side by side with original.\n",
    "actualOutput = ij.op().create().img(input, new DoubleType())\n",
    "ij.op().filter().bilateral(actualOutput, input, sigmaR, sigmaS, radius)\n",
    "ij.notebook().display(actualOutput)"
   ]
  },
  {
   "cell_type": "markdown",
   "metadata": {},
   "source": [
    "Note that `sigmaR` is at an extreme and `sigmaS` even more so, to illustrate the nature of this algorithm. Note the red edges and blobs within the cells being perfectly intact after the completion of the filter, yet the green streaks and blue blobs within being smoothened out. This is the power of the bilateral filter."
   ]
  }
 ],
 "metadata": {
  "kernelspec": {
   "display_name": "Groovy",
   "language": "groovy",
   "name": "groovy"
  },
  "language_info": {
   "codemirror_mode": "groovy",
   "file_extension": ".groovy",
   "mimetype": "",
   "name": "Groovy",
   "nbconverter_exporter": "",
   "version": "2.4.3"
  },
  "toc": {
   "base_numbering": 1,
   "nav_menu": {},
   "number_sections": false,
   "sideBar": false,
   "skip_h1_title": false,
   "title_cell": "Table of Contents",
   "title_sidebar": "Contents",
   "toc_cell": false,
   "toc_position": {},
   "toc_section_display": false,
   "toc_window_display": false
  }
 },
 "nbformat": 4,
 "nbformat_minor": 2
}
