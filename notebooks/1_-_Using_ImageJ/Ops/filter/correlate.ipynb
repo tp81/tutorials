{
 "cells": [
  {
   "cell_type": "markdown",
   "metadata": {},
   "source": [
    "##  Correlate Filter (WIP: mostly incomplete)"
   ]
  },
  {
   "cell_type": "code",
   "execution_count": 1,
   "metadata": {},
   "outputs": [
    {
     "name": "stdout",
     "output_type": "stream",
     "text": [
      "Added new repo: imagej.public\n"
     ]
    },
    {
     "data": {
      "application/vnd.jupyter.widget-view+json": {
       "model_id": "",
       "version_major": 2,
       "version_minor": 0
      },
      "method": "display_data"
     },
     "metadata": {},
     "output_type": "display_data"
    },
    {
     "data": {
      "application/vnd.jupyter.widget-view+json": {
       "model_id": "dedfaca0-af15-4bc5-aa88-d3a0308e0659",
       "version_major": 2,
       "version_minor": 0
      },
      "method": "display_data"
     },
     "metadata": {},
     "output_type": "display_data"
    },
    {
     "data": {
      "text/plain": [
       "net.imagej.ImageJ@565027b"
      ]
     },
     "execution_count": 1,
     "metadata": {},
     "output_type": "execute_result"
    }
   ],
   "source": [
    "//load ImageJ\n",
    "%classpath config resolver imagej.public https://maven.imagej.net/content/groups/public\n",
    "%classpath add mvn net.imagej imagej 2.0.0-rc-67\n",
    "\n",
    "//create ImageJ object\n",
    "ij = new net.imagej.ImageJ()"
   ]
  },
  {
   "cell_type": "markdown",
   "metadata": {},
   "source": [
    "This `Op` does ...."
   ]
  },
  {
   "cell_type": "code",
   "execution_count": 2,
   "metadata": {},
   "outputs": [
    {
     "data": {
      "text/plain": [
       "Available operations:\n",
       "\t(RandomAccessibleInterval out) =\n",
       "\tnet.imagej.ops.filter.convolve.ConvolveNaiveF(\n",
       "\t\tRandomAccessibleInterval in1,\n",
       "\t\tRandomAccessibleInterval in2,\n",
       "\t\tOutOfBoundsFactory obf?,\n",
       "\t\tType outType?)\n",
       "\t(RandomAccessibleInterval out) =\n",
       "\tnet.imagej.ops.filter.convolve.ConvolveFFTF(\n",
       "\t\tRandomAccessibleInterval in1,\n",
       "\t\tRandomAccessibleInterval in2,\n",
       "\t\tlong[] borderSize?,\n",
       "\t\tOutOfBoundsFactory obfInput?,\n",
       "\t\tOutOfBoundsFactory obfKernel?,\n",
       "\t\tType outType?,\n",
       "\t\tComplexType fftType?)\n",
       "\t(RandomAccessibleInterval out) =\n",
       "\tnet.imagej.ops.filter.convolve.ConvolveNaiveC(\n",
       "\t\tRandomAccessibleInterval out,\n",
       "\t\tRandomAccessible in,\n",
       "\t\tRandomAccessibleInterval kernel)\n",
       "\t(RandomAccessibleInterval out) =\n",
       "\tnet.imagej.ops.filter.convolve.ConvolveFFTC(\n",
       "\t\tRandomAccessibleInterval out,\n",
       "\t\tRandomAccessibleInterval in1,\n",
       "\t\tRandomAccessibleInterval in2,\n",
       "\t\tRandomAccessibleInterval fftInput,\n",
       "\t\tRandomAccessibleInterval fftKernel,\n",
       "\t\tboolean performInputFFT?,\n",
       "\t\tboolean performKernelFFT?)"
      ]
     },
     "execution_count": 2,
     "metadata": {},
     "output_type": "execute_result"
    }
   ],
   "source": [
    "ij.op().help(\"convolve\")"
   ]
  },
  {
   "cell_type": "markdown",
   "metadata": {},
   "source": [
    "This is how the Op works..."
   ]
  }
 ],
 "metadata": {
  "kernelspec": {
   "display_name": "Groovy",
   "language": "groovy",
   "name": "groovy"
  },
  "language_info": {
   "codemirror_mode": "groovy",
   "file_extension": ".groovy",
   "mimetype": "",
   "name": "Groovy",
   "nbconverter_exporter": "",
   "version": "2.4.3"
  },
  "toc": {
   "base_numbering": 1,
   "nav_menu": {},
   "number_sections": false,
   "sideBar": false,
   "skip_h1_title": false,
   "title_cell": "Table of Contents",
   "title_sidebar": "Contents",
   "toc_cell": false,
   "toc_position": {},
   "toc_section_display": false,
   "toc_window_display": false
  }
 },
 "nbformat": 4,
 "nbformat_minor": 2
}
