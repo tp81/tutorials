{
 "cells": [
  {
   "cell_type": "markdown",
   "metadata": {},
   "source": [
    "# Gaussian Derivative Filter"
   ]
  },
  {
   "cell_type": "code",
   "execution_count": null,
   "metadata": {},
   "outputs": [],
   "source": [
    "//load ImageJ\n",
    "%classpath config resolver imagej.public https://maven.imagej.net/content/groups/public\n",
    "%classpath add mvn net.imagej imagej 2.0.0-rc-67\n",
    "\n",
    "//create ImageJ object\n",
    "ij = new net.imagej.ImageJ()"
   ]
  },
  {
   "cell_type": "markdown",
   "metadata": {},
   "source": [
    "This filter uses kernel created by convolving a partial derivative kernel and a Gaussian kernel to provide a smooth partial derivative image for any Two Dimensional input. Note that this filter is similar to `filter.partialDerivative()` (ADD LINK), however this filter differs based on the convolution of the partial derivative kernel with the gaussian kernel, providing a smoother result.\n",
    "\n",
    "This is how the op is called:"
   ]
  },
  {
   "cell_type": "code",
   "execution_count": null,
   "metadata": {},
   "outputs": [],
   "source": [
    "ij.op().help('derivativeGauss')"
   ]
  },
  {
   "cell_type": "markdown",
   "metadata": {},
   "source": [
    "Here we have an image of tree rings ([Source](http://imagej.net/images/Dot_Blot.jpg))."
   ]
  },
  {
   "cell_type": "code",
   "execution_count": null,
   "metadata": {},
   "outputs": [],
   "source": [
    "input = ij.scifio().datasetIO().open(\"https://imagej.net/images/Tree_Rings.jpg\")\n",
    "ij.notebook().display(input)                                     "
   ]
  },
  {
   "cell_type": "markdown",
   "metadata": {},
   "source": [
    "Let's say that we want to find the distance between each of the rings to determine the rate of growth of this tree. If we just found the local minimums across the x-dimension we could find the distance between rings in most scenarios but small cracks in the wood as well as the region outside the wood could provide bad data. To work around this we can use the second partial derivative along the radius of the wood (the x-dimension in our case) to find the ring locations more accurately."
   ]
  },
  {
   "cell_type": "code",
   "execution_count": null,
   "metadata": {},
   "outputs": [],
   "source": [
    "import net.imglib2.type.numeric.real.DoubleType\n",
    "\n",
    "derivatives = [1, 0] as int[]\n",
    "\n",
    "sigma = 3\n",
    "\n",
    "converted = ij.op().convert().float64(input)\n",
    "actualOutput = ij.op().create().img(input, new DoubleType())\n",
    "ij.op().run(\"derivativeGauss\", actualOutput, converted, derivatives, sigma)\n",
    "ij.notebook().display(actualOutput);"
   ]
  },
  {
   "cell_type": "markdown",
   "metadata": {},
   "source": [
    "Since we are moving from low values (the rings) to high values (early wood after the tree rings) all we would have to do at this point is traverse the image horizontally from the center of the tree to the edge and measure the distance from one local minimum to the next."
   ]
  },
  {
   "cell_type": "markdown",
   "metadata": {},
   "source": [
    "If, for some reason, we are more interested in identifying radial cracks in our logs, we could instead take the second partial derivative with respect to the y-dimension of the image:"
   ]
  },
  {
   "cell_type": "code",
   "execution_count": null,
   "metadata": {},
   "outputs": [],
   "source": [
    "derivatives = [0, 2] as int[]\n",
    "\n",
    "ij.op().run(\"derivativeGauss\", actualOutput, converted, derivatives, sigma)\n",
    "ij.notebook().display(actualOutput)"
   ]
  },
  {
   "cell_type": "markdown",
   "metadata": {},
   "source": [
    "Taking the second partial derivative with respect to the y-dimension fades all of the horizontal lines and highlights any horizontally-oriented structures such as radial cracks, making it easy to tell whether or not they are present in the image."
   ]
  }
 ],
 "metadata": {
  "kernelspec": {
   "display_name": "Groovy",
   "language": "groovy",
   "name": "groovy"
  },
  "language_info": {
   "codemirror_mode": "groovy",
   "file_extension": ".groovy",
   "mimetype": "",
   "name": "Groovy",
   "nbconverter_exporter": "",
   "version": "2.4.3"
  },
  "toc": {
   "base_numbering": 1,
   "nav_menu": {},
   "number_sections": false,
   "sideBar": false,
   "skip_h1_title": false,
   "title_cell": "Table of Contents",
   "title_sidebar": "Contents",
   "toc_cell": false,
   "toc_position": {},
   "toc_section_display": false,
   "toc_window_display": false
  }
 },
 "nbformat": 4,
 "nbformat_minor": 2
}
