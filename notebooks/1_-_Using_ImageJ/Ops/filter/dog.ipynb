{
 "cells": [
  {
   "cell_type": "markdown",
   "metadata": {},
   "source": [
    "##  Difference Of Gaussians (DoG) Op"
   ]
  },
  {
   "cell_type": "code",
   "execution_count": null,
   "metadata": {},
   "outputs": [],
   "source": [
    "//load ImageJ\n",
    "%classpath config resolver imagej.public https://maven.imagej.net/content/groups/public\n",
    "%classpath add mvn net.imagej imagej 2.0.0-rc-67\n",
    "\n",
    "//create ImageJ object\n",
    "ij = new net.imagej.ImageJ()"
   ]
  },
  {
   "cell_type": "markdown",
   "metadata": {},
   "source": [
    "This filter enhances images features by copying an image, applying Gaussians to each image (with different sigmas), and then subtracting (hence the \"difference\") the image with the larger sigma from its smaller-sigma counterpart.\n",
    "\n",
    "The `Op` is called as follows:"
   ]
  },
  {
   "cell_type": "code",
   "execution_count": null,
   "metadata": {},
   "outputs": [],
   "source": [
    "ij.op().help('dog')"
   ]
  },
  {
   "cell_type": "markdown",
   "metadata": {},
   "source": [
    "Here we have an image of tree rings ([Source](http://imagej.net/images/Dot_Blot.jpg))."
   ]
  },
  {
   "cell_type": "code",
   "execution_count": null,
   "metadata": {},
   "outputs": [],
   "source": [
    "import net.imglib2.interpolation.randomaccess.NLinearInterpolatorFactory\n",
    "import net.imglib2.FinalInterval\n",
    "\n",
    "input = ij.scifio().datasetIO().open(\"https://imagej.net/images/NileBend.jpg\")\n",
    "\n",
    "scaleFactors = [0.15, 0.15, 1] // Reduce X and Y to 50%; leave C dimension alone.\n",
    "interpolationStrategy = new NLinearInterpolatorFactory()\n",
    "\n",
    "image = ij.op().run(\"scaleView\", input, scaleFactors, interpolationStrategy)\n",
    "w = image.dimension(0); h = image.dimension(1)\n",
    "slice = FinalInterval.createMinSize(0, 0, 0, w, h, 1)\n",
    "threshImage = ij.op().run(\"crop\", image, slice, true)\n",
    "\n",
    "ij.notebook().display(threshImage)                                     "
   ]
  },
  {
   "cell_type": "markdown",
   "metadata": {},
   "source": [
    "Now we have the image that we are looking to extract our features from. We need a larger sigma and a smaller sigma. We also have to convert our `Img` into `FloatType`(`float32`); currently the `Img` is an `UnsignedByteType` (`uint8`), and if we leave it as such all the return from the `dog` will be truncated. To keep precision we will thus want to convert the `Img` to a type that can preserve it. We can also pass through an `OutOfBoundsFactory` if we want to control how the `Op` deals with the edges of our input, however we will ignore it for the purposes of this tutorial."
   ]
  },
  {
   "cell_type": "code",
   "execution_count": null,
   "metadata": {},
   "outputs": [],
   "source": [
    "import net.imglib2.RandomAccessibleInterval\n",
    "import net.imglib2.type.numeric.real.FloatType\n",
    "\n",
    "//larger sigma\n",
    "larger = 5\n",
    "\n",
    "//smaller sigma\n",
    "smaller = 1\n",
    "\n",
    "//convert the image\n",
    "converted = ij.op().create().img((RandomAccessibleInterval)threshImage, new FloatType())\n",
    "ij.op().convert().float32(converted, threshImage)\n",
    "\n",
    "//run the dog\n",
    "output = ij.op().run(\"dog\", converted, larger, smaller)\n",
    "\n",
    "ij.notebook().display(output)"
   ]
  },
  {
   "cell_type": "markdown",
   "metadata": {},
   "source": [
    "As you can see the uniform areas of the image have faded into the gray background, however the edge between the sand and the fields, as well as the edge between the fields and the river, have been highlighted. This is the power of the Difference of Gaussians."
   ]
  }
 ],
 "metadata": {
  "kernelspec": {
   "display_name": "Groovy",
   "language": "groovy",
   "name": "groovy"
  },
  "language_info": {
   "codemirror_mode": "groovy",
   "file_extension": ".groovy",
   "mimetype": "",
   "name": "Groovy",
   "nbconverter_exporter": "",
   "version": "2.4.3"
  },
  "toc": {
   "base_numbering": 1,
   "nav_menu": {},
   "number_sections": false,
   "sideBar": false,
   "skip_h1_title": false,
   "title_cell": "Table of Contents",
   "title_sidebar": "Contents",
   "toc_cell": false,
   "toc_position": {},
   "toc_section_display": false,
   "toc_window_display": false
  }
 },
 "nbformat": 4,
 "nbformat_minor": 2
}
