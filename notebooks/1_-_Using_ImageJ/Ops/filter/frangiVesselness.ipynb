{
 "cells": [
  {
   "cell_type": "markdown",
   "metadata": {},
   "source": [
    "# Frangi Vesselness Filter (WIP: mostly complete, but depends on the imagej-notebook snapshot. Mostly just a testing ground for the new features.)"
   ]
  },
  {
   "cell_type": "code",
   "execution_count": null,
   "metadata": {},
   "outputs": [],
   "source": [
    "//load ImageJ\n",
    "%classpath config resolver imagej.public https://maven.imagej.net/content/groups/public\n",
    "%classpath add jar /home/gabe/code/imagej/imagej-common/target/imagej-common-0.27.0-SNAPSHOT.jar\n",
    "%classpath add jar /home/gabe/code/gselzer/imagej-notebook/target/imagej-notebook-0.3.0-SNAPSHOT.jar\n",
    "%classpath add mvn net.imagej imagej 2.0.0-rc-67\n",
    "\n",
    "//create ImageJ object\n",
    "ij = new net.imagej.ImageJ()"
   ]
  },
  {
   "cell_type": "markdown",
   "metadata": {},
   "source": [
    "This `Op` implements the algorithm for detection of vessel- or tube-like structures in 2D and 3D images described Frangi et al 1998, and is called in `ImageJ-Ops` as follows:"
   ]
  },
  {
   "cell_type": "code",
   "execution_count": null,
   "metadata": {},
   "outputs": [],
   "source": [
    "ij.op().help('frangiVesselness')"
   ]
  },
  {
   "cell_type": "markdown",
   "metadata": {},
   "source": [
    "As an example we will use an [MRA of a human brain](https://commons.wikimedia.org/w/index.php?curid=5930234) (By SBarnes - Own work, CC BY-SA 3.0) "
   ]
  },
  {
   "cell_type": "code",
   "execution_count": null,
   "metadata": {},
   "outputs": [],
   "source": [
    "input = ij.scifio().datasetIO().open(\"https://upload.wikimedia.org/wikipedia/commons/6/66/Mra-mip.jpg\")\n",
    "input"
   ]
  },
  {
   "cell_type": "markdown",
   "metadata": {},
   "source": [
    "Before we call the `Op` we have to define a few more parameters:\n",
    "\n",
    "* The spacing parameter refers to a `double[]` that describes the physical distance between data points in the image. If this data is available then it should be used, otherwise [1, ... , 1] is usually acceptible\n",
    "\n",
    "* The scale parameter refers to the pixel distance at which the filter operates. Larger structures will be found using larger scale parameters."
   ]
  },
  {
   "cell_type": "code",
   "execution_count": null,
   "metadata": {},
   "outputs": [],
   "source": [
    "import net.imglib2.type.numeric.real.DoubleType\n",
    "import net.imagej.notebook.NotebookService.ValueScaling;\n",
    "\n",
    "//spacing refers to the physical distance between pixels. The default setting is {1, 1, 1...}\n",
    "spacing = [1, 1, 1] as double[]\n",
    "\n",
    "//scales refers the the pixel distance at which the filter operates. Larger scales measure larger structures.\n",
    "scale = 4\n",
    "\n",
    "input_slice = ij.op().run(\"hyperSliceView\", input, 2, 0)\n",
    "actualOutput = ij.op().create().img(input_slice, new DoubleType())\n",
    "ij.op().filter().frangiVesselness(actualOutput, input_slice, spacing, scale)\n",
    "\n",
    "actualOutput"
   ]
  },
  {
   "cell_type": "markdown",
   "metadata": {},
   "source": [
    "Some of these vessels are a little hard to see. Let's use a [`DefaultDatasetView`](http://javadoc.scijava.org/ImageJ/net/imagej/display/DefaultDatasetView.html) so that we can rescale the minimum and maximum of the image. Let's also change the LookUp Table (LUT) to give a bit more contrast to the vessels:"
   ]
  },
  {
   "cell_type": "code",
   "execution_count": null,
   "metadata": {},
   "outputs": [],
   "source": [
    "import net.imagej.display.ColorTables\n",
    "import net.imagej.axis.Axes\n",
    "\n",
    "clampMin = 0.00001 as double\n",
    "clampMax = 0.02 as double\n",
    "    \n",
    "view = ij.notebook().view(actualOutput, clampMin, clampMax)\n",
    "view.setColorTable(ColorTables.ICE, 0)\n",
    "view.rebuild()\n",
    "view"
   ]
  }
 ],
 "metadata": {
  "kernelspec": {
   "display_name": "Groovy",
   "language": "groovy",
   "name": "groovy"
  },
  "language_info": {
   "codemirror_mode": "groovy",
   "file_extension": ".groovy",
   "mimetype": "",
   "name": "Groovy",
   "nbconverter_exporter": "",
   "version": "2.4.3"
  },
  "toc": {
   "base_numbering": 1,
   "nav_menu": {},
   "number_sections": false,
   "sideBar": false,
   "skip_h1_title": false,
   "title_cell": "Table of Contents",
   "title_sidebar": "Contents",
   "toc_cell": false,
   "toc_position": {},
   "toc_section_display": false,
   "toc_window_display": false
  }
 },
 "nbformat": 4,
 "nbformat_minor": 2
}
