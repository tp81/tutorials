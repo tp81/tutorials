{
 "cells": [
  {
   "cell_type": "markdown",
   "metadata": {},
   "source": [
    "## Minimum Filter"
   ]
  },
  {
   "cell_type": "code",
   "execution_count": null,
   "metadata": {},
   "outputs": [],
   "source": [
    "//load ImageJ\n",
    "%classpath config resolver imagej.public https://maven.imagej.net/content/groups/public\n",
    "%classpath add mvn net.imagej imagej 2.0.0-rc-67\n",
    "\n",
    "//create ImageJ object\n",
    "ij = new net.imagej.ImageJ()"
   ]
  },
  {
   "cell_type": "markdown",
   "metadata": {},
   "source": [
    "This `Op`, provided a radius `r`, assigns every pixel in the output image with the minimum pixel value contained within its neighborhood (of radius `r`) in the input. Let's see how this `Op` is called:"
   ]
  },
  {
   "cell_type": "code",
   "execution_count": null,
   "metadata": {},
   "outputs": [],
   "source": [
    "ij.op().help(\"filter.min\")"
   ]
  },
  {
   "cell_type": "markdown",
   "metadata": {},
   "source": [
    "Let's take a look at each of the parameters:\n",
    "\n",
    "* `IterableInterval out`: the output image\n",
    "* `RandomAccessibleInterval in`: the input image\n",
    "* `Shape shape`: The [`Shape`](http://javadoc.scijava.org/ImgLib2/net/imglib2/algorithm/neighborhood/Shape.html) that defines the neighborhood that the `Op` will search to find the maximum value. Note that there are a lot of different shapes to choose from, and this is also where the radius is defined.\n",
    "* `OutOfBoundsFactory outOfBoundsFactory`: An **optional** parameter that tells the `Op` what to do along the edges of the image. For the purposes of this tutorial we will ignore this parameter.\n",
    "\n",
    "Let's get an image to apply this filter on. For the purposes of this tutorial we will only take the first channel of the image:"
   ]
  },
  {
   "cell_type": "code",
   "execution_count": null,
   "metadata": {},
   "outputs": [],
   "source": [
    "input = ij.scifio().datasetIO().open(\"http://imagej.net/images/clown.jpg\")\n",
    "\n",
    "//grab the first slice (index 0) from the channel dimension (index 2)\n",
    "imageToFilter = ij.op().run(\"hyperSliceView\", input, 2, 0)\n",
    "\n",
    "ij.notebook().display(imageToFilter)"
   ]
  },
  {
   "cell_type": "markdown",
   "metadata": {},
   "source": [
    "Now we need to create a `Shape`. Let's create a [`HyperSphereShape`](http://javadoc.scijava.org/ImgLib2/net/imglib2/algorithm/neighborhood/HyperSphereShape.html) with radius `3`. We also need to create an output image. Once we have these we can run the filter:"
   ]
  },
  {
   "cell_type": "code",
   "execution_count": null,
   "metadata": {},
   "outputs": [],
   "source": [
    "import net.imglib2.algorithm.neighborhood.HyperSphereShape\n",
    "\n",
    "radius = 3 as int\n",
    "shape = new HyperSphereShape(radius)\n",
    "\n",
    "output = ij.op().run(\"create.img\", imageToFilter)\n",
    "ij.op().filter().min(output, imageToFilter, shape)\n",
    "\n",
    "ij.notebook().display(output)"
   ]
  }
 ],
 "metadata": {
  "kernelspec": {
   "display_name": "Groovy",
   "language": "groovy",
   "name": "groovy"
  },
  "language_info": {
   "codemirror_mode": "groovy",
   "file_extension": ".groovy",
   "mimetype": "",
   "name": "Groovy",
   "nbconverter_exporter": "",
   "version": "2.4.3"
  },
  "toc": {
   "base_numbering": 1,
   "nav_menu": {},
   "number_sections": false,
   "sideBar": false,
   "skip_h1_title": false,
   "title_cell": "Table of Contents",
   "title_sidebar": "Contents",
   "toc_cell": false,
   "toc_position": {},
   "toc_section_display": false,
   "toc_window_display": false
  }
 },
 "nbformat": 4,
 "nbformat_minor": 2
}
