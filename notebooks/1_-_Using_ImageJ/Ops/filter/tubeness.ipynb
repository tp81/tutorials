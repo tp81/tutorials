{
 "cells": [
  {
   "cell_type": "markdown",
   "metadata": {},
   "source": [
    "## Tubeness Filter"
   ]
  },
  {
   "cell_type": "code",
   "execution_count": 2,
   "metadata": {},
   "outputs": [
    {
     "name": "stdout",
     "output_type": "stream",
     "text": [
      "Added new repo: imagej.public\n"
     ]
    },
    {
     "data": {
      "application/vnd.jupyter.widget-view+json": {
       "model_id": "",
       "version_major": 2,
       "version_minor": 0
      },
      "method": "display_data"
     },
     "metadata": {},
     "output_type": "display_data"
    },
    {
     "data": {
      "application/vnd.jupyter.widget-view+json": {
       "model_id": "151c9f72-ac4c-41c8-b5ce-c32c38f9e9f6",
       "version_major": 2,
       "version_minor": 0
      },
      "method": "display_data"
     },
     "metadata": {},
     "output_type": "display_data"
    },
    {
     "data": {
      "text/plain": [
       "net.imagej.ImageJ@4a98e368"
      ]
     },
     "execution_count": 2,
     "metadata": {},
     "output_type": "execute_result"
    }
   ],
   "source": [
    "//load ImageJ\n",
    "%classpath config resolver imagej.public https://maven.imagej.net/content/groups/public\n",
    "%classpath add mvn net.imagej imagej 2.0.0-rc-67\n",
    "\n",
    "//create ImageJ object\n",
    "ij = new net.imagej.ImageJ()"
   ]
  },
  {
   "cell_type": "markdown",
   "metadata": {},
   "source": [
    "This `Op` does ...."
   ]
  },
  {
   "cell_type": "code",
   "execution_count": 3,
   "metadata": {},
   "outputs": [
    {
     "data": {
      "text/plain": [
       "Available operations:\n",
       "\t(IterableInterval out?) =\n",
       "\tnet.imagej.ops.filter.tubeness.DefaultTubeness(\n",
       "\t\tIterableInterval out?,\n",
       "\t\tRandomAccessibleInterval in,\n",
       "\t\tdouble sigma,\n",
       "\t\tdouble[] calibration)"
      ]
     },
     "execution_count": 3,
     "metadata": {},
     "output_type": "execute_result"
    }
   ],
   "source": [
    "ij.op().help(\"tubeness\")"
   ]
  },
  {
   "cell_type": "markdown",
   "metadata": {},
   "source": [
    "This is how the Op works..."
   ]
  },
  {
   "cell_type": "code",
   "execution_count": 19,
   "metadata": {},
   "outputs": [
    {
     "data": {
      "image/png": "[encoded data removed]"
     },
     "execution_count": 19,
     "metadata": {},
     "output_type": "execute_result"
    }
   ],
   "source": [
    "import net.imglib2.type.numeric.real.FloatType\n",
    "\n",
    "tubeImg = ij.op().run(\"create.img\", [400, 200], new FloatType())\n",
    "randomAccess = tubeImg.randomAccess()\n",
    "randomAccess.setPosition(0, 0)\n",
    "randomAccess.setPosition(100, 1)\n",
    "while(randomAccess.getLongPosition(0) < tubeImg.dimension(0)){\n",
    "    x = randomAccess.getDoublePosition(0)\n",
    "    y = (50 * Math.sin(x / 20)) as int\n",
    "    for(offset in -10..10){\n",
    "        randomAccess.setPosition(100 + y - offset, 1)\n",
    "        randomAccess.get().set(120)\n",
    "    }\n",
    "    randomAccess.fwd(0)\n",
    "}\n",
    "\n",
    "input = ij.op().run(\"create.img\", tubeImg)\n",
    "\n",
    "ij.op().run(\"addPoissonNoise\", input, tubeImg)\n",
    "\n",
    "ij.notebook().display(input)"
   ]
  },
  {
   "cell_type": "code",
   "execution_count": 21,
   "metadata": {},
   "outputs": [
    {
     "name": "stderr",
     "output_type": "stream",
     "text": [
      "java.util.concurrent.ExecutionException: java.lang.NoClassDefFoundError: net/imglib2/loops/LoopBuilder$TriConsumer\n",
      "\tat java.util.concurrent.FutureTask.report(FutureTask.java:122)\n",
      "\tat java.util.concurrent.FutureTask.get(FutureTask.java:192)\n",
      "\tat net.imglib2.algorithm.gradient.PartialDerivative.gradientCentralDifferenceParallel(PartialDerivative.java:163)\n",
      "\tat net.imglib2.algorithm.gradient.HessianMatrix.calculateMatrix(HessianMatrix.java:284)\n",
      "\tat net.imglib2.algorithm.gradient.HessianMatrix.calculateMatrix(HessianMatrix.java:237)\n",
      "\tat net.imagej.ops.filter.tubeness.DefaultTubeness.compute(DefaultTubeness.java:175)\n",
      "\tat net.imagej.ops.filter.tubeness.DefaultTubeness.compute(DefaultTubeness.java:97)\n",
      "\tat net.imagej.ops.special.hybrid.UnaryHybridCF.run(UnaryHybridCF.java:75)\n",
      "\tat net.imagej.ops.special.hybrid.UnaryHybridCF.run(UnaryHybridCF.java:97)\n",
      "\tat org.scijava.command.CommandModule.run(CommandModule.java:199)\n",
      "\tat net.imagej.ops.OpEnvironment.run(OpEnvironment.java:944)\n",
      "\tat net.imagej.ops.OpEnvironment.run(OpEnvironment.java:135)\n",
      "\tat sun.reflect.GeneratedMethodAccessor15.invoke(Unknown Source)\n",
      "\tat sun.reflect.DelegatingMethodAccessorImpl.invoke(DelegatingMethodAccessorImpl.java:43)\n",
      "\tat java.lang.reflect.Method.invoke(Method.java:498)\n",
      "\tat org.codehaus.groovy.runtime.callsite.PojoMetaMethodSite$PojoCachedMethodSite.invoke(PojoMetaMethodSite.java:189)\n",
      "\tat org.codehaus.groovy.runtime.callsite.PojoMetaMethodSite.call(PojoMetaMethodSite.java:53)\n",
      "\tat org.codehaus.groovy.runtime.callsite.CallSiteArray.defaultCall(CallSiteArray.java:45)\n",
      "\tat org.codehaus.groovy.runtime.callsite.AbstractCallSite.call(AbstractCallSite.java:110)\n",
      "\tat script1534969093856.run(script1534969093856:5)\n",
      "\tat com.twosigma.beakerx.groovy.evaluator.GroovyCodeRunner.runScript(GroovyCodeRunner.java:94)\n",
      "\tat com.twosigma.beakerx.groovy.evaluator.GroovyCodeRunner.call(GroovyCodeRunner.java:59)\n",
      "\tat com.twosigma.beakerx.groovy.evaluator.GroovyCodeRunner.call(GroovyCodeRunner.java:32)\n",
      "\tat java.util.concurrent.FutureTask.run(FutureTask.java:266)\n",
      "\tat java.util.concurrent.ThreadPoolExecutor.runWorker(ThreadPoolExecutor.java:1142)\n",
      "\tat java.util.concurrent.ThreadPoolExecutor$Worker.run(ThreadPoolExecutor.java:617)\n",
      "\tat java.lang.Thread.run(Thread.java:745)\n",
      "Caused by: java.lang.NoClassDefFoundError: net/imglib2/loops/LoopBuilder$TriConsumer\n",
      "\tat java.lang.Class.getDeclaredConstructors0(Native Method)\n",
      "\tat java.lang.Class.privateGetDeclaredConstructors(Class.java:2671)\n",
      "\tat java.lang.Class.getConstructor0(Class.java:3075)\n",
      "\tat java.lang.Class.getConstructor(Class.java:1825)\n",
      "\tat net.imglib2.loops.ClassCopyProvider.newInstanceForKey(ClassCopyProvider.java:103)\n",
      "\tat net.imglib2.loops.LoopBuilder$RunnableFactory.bindActionToSamplers(LoopBuilder.java:186)\n",
      "\tat net.imglib2.loops.LoopBuilder.forEachPixel(LoopBuilder.java:120)\n",
      "\tat net.imglib2.algorithm.gradient.PartialDerivative.gradientCentralDifference(PartialDerivative.java:187)\n",
      "\tat net.imglib2.algorithm.gradient.PartialDerivative.lambda$gradientCentralDifferenceParallel$0(PartialDerivative.java:155)\n",
      "\t... 4 more\n",
      "Caused by: java.lang.ClassNotFoundException: net.imglib2.loops.LoopBuilder$TriConsumer\n",
      "\tat java.lang.ClassLoader.findClass(ClassLoader.java:530)\n",
      "\tat java.lang.ClassLoader.loadClass(ClassLoader.java:424)\n",
      "\tat java.lang.ClassLoader.loadClass(ClassLoader.java:357)\n",
      "\t... 13 more\n"
     ]
    },
    {
     "data": {
      "image/png": "[encoded data removed]"
     },
     "execution_count": 21,
     "metadata": {},
     "output_type": "execute_result"
    }
   ],
   "source": [
    "sigma = 5 / Math.sqrt(2)\n",
    "calibration = [1, 1] as int[]\n",
    "output = ij.op().run(\"create.img\", input)\n",
    "\n",
    "ij.op().run(\"tubeness\", output, input, sigma, calibration)\n",
    "\n",
    "ij.notebook().display(output)"
   ]
  },
  {
   "cell_type": "code",
   "execution_count": null,
   "metadata": {},
   "outputs": [],
   "source": []
  }
 ],
 "metadata": {
  "kernelspec": {
   "display_name": "Groovy",
   "language": "groovy",
   "name": "groovy"
  },
  "language_info": {
   "codemirror_mode": "groovy",
   "file_extension": ".groovy",
   "mimetype": "",
   "name": "Groovy",
   "nbconverter_exporter": "",
   "version": "2.4.3"
  },
  "toc": {
   "base_numbering": 1,
   "nav_menu": {},
   "number_sections": false,
   "sideBar": false,
   "skip_h1_title": false,
   "title_cell": "Table of Contents",
   "title_sidebar": "Contents",
   "toc_cell": false,
   "toc_position": {},
   "toc_section_display": false,
   "toc_window_display": false
  }
 },
 "nbformat": 4,
 "nbformat_minor": 2
}
