{
 "cells": [
  {
   "cell_type": "markdown",
   "metadata": {},
   "source": [
    "##  Filter"
   ]
  },
  {
   "cell_type": "code",
   "execution_count": null,
   "metadata": {},
   "outputs": [],
   "source": [
    "//load ImageJ\n",
    "%classpath config resolver imagej.public https://maven.imagej.net/content/groups/public\n",
    "%classpath add mvn net.imagej imagej 2.0.0-rc-67\n",
    "\n",
    "//create ImageJ object\n",
    "ij = new net.imagej.ImageJ()"
   ]
  },
  {
   "cell_type": "markdown",
   "metadata": {},
   "source": [
    "This `Op` is one of many that performs edge detection on an image. The `Op` works by calculating the [variance](https://en.wikipedia.org/wiki/Variance) of a [`Neighborhood`](http://javadoc.scijava.org/ImgLib2/net/imglib2/algorithm/neighborhood/Neighborhood.html) (via [`variance`](../stats/variance.ipynb)) at each pixel. Edge pixels will have higher variance (since the values are different on each side of an edge), thus leading to higher variance values at edges. Let's see how this `Op` is called:"
   ]
  },
  {
   "cell_type": "code",
   "execution_count": null,
   "metadata": {},
   "outputs": [],
   "source": [
    "ij.op().help(\"filter.variance\")"
   ]
  },
  {
   "cell_type": "markdown",
   "metadata": {},
   "source": [
    "Let's take a look at the parameters:\n",
    "\n",
    "* `IterableInterval out`: the output image\n",
    "* `RandomAccessibleInterval in`: the input image\n",
    "* `Shape shape`: the [`Shape`](http://javadoc.scijava.org/ImgLib2/net/imglib2/algorithm/neighborhood/Shape.html) that the `Op` will make `Neighborhood`s in\n",
    "* `OutOfBoundsFactory outOfBoundsFactory`: an **optional** parameter defining how the `Op` should make the `Neighborhood`s at the edges of the image.\n",
    "\n",
    "Let's show an example:"
   ]
  },
  {
   "cell_type": "code",
   "execution_count": null,
   "metadata": {},
   "outputs": [],
   "source": [
    "input = ij.scifio().datasetIO().open(\"http://imagej.net/images/clown.png\")\n",
    "\n",
    "ij.notebook().display(input)"
   ]
  },
  {
   "cell_type": "code",
   "execution_count": null,
   "metadata": {},
   "outputs": [],
   "source": [
    "import net.imglib2.algorithm.neighborhood.RectangleShape\n",
    "\n",
    "//convert the image to FloatType so that we can have decimal outputs (if we do not do this our calculated values get floored, which will not look good)\n",
    "converted = ij.op().run(\"convert.float32\", input)\n",
    "\n",
    "//create the required arguments and run the Op\n",
    "shape = new RectangleShape(4, true)\n",
    "output = ij.op().run(\"create.img\", converted)\n",
    "ij.op().run(\"filter.variance\", output, converted, shape)\n",
    "\n",
    "ij.notebook().display(output)"
   ]
  },
  {
   "cell_type": "markdown",
   "metadata": {},
   "source": [
    "Note that some edges show well  but some regions of the image (like the nose and hair) show bright as well. This is because the `Op` determines high variance between the channels within those regions (i.e. the high red values in the nose and the low green and blue values make that value seem like an edge). We can fix this by running [`slice`](../slice.ipynb) on each channel of the `Op`:"
   ]
  },
  {
   "cell_type": "code",
   "execution_count": null,
   "metadata": {},
   "outputs": [],
   "source": [
    "import net.imagej.ops.Ops\n",
    "import net.imagej.ops.special.computer.Computers\n",
    "\n",
    "//create the Op instance\n",
    "varianceOp = Computers.unary(ij.op(), Ops.Filter.Variance.class, output, converted, shape)\n",
    "\n",
    "//run slice on each channel (hence indices of 0 and 1)\n",
    "axisIndices = [0, 1] as int[]\n",
    "ij.op().run(\"slice\", output, converted, varianceOp, axisIndices)\n",
    "\n",
    "//TODO show side by side with input\n",
    "ij.notebook().display(output)"
   ]
  }
 ],
 "metadata": {
  "kernelspec": {
   "display_name": "Groovy",
   "language": "groovy",
   "name": "groovy"
  },
  "language_info": {
   "codemirror_mode": "groovy",
   "file_extension": ".groovy",
   "mimetype": "",
   "name": "Groovy",
   "nbconverter_exporter": "",
   "version": "2.4.3"
  },
  "toc": {
   "base_numbering": 1,
   "nav_menu": {},
   "number_sections": false,
   "sideBar": false,
   "skip_h1_title": false,
   "title_cell": "Table of Contents",
   "title_sidebar": "Contents",
   "toc_cell": false,
   "toc_position": {},
   "toc_section_display": false,
   "toc_window_display": false
  }
 },
 "nbformat": 4,
 "nbformat_minor": 2
}
