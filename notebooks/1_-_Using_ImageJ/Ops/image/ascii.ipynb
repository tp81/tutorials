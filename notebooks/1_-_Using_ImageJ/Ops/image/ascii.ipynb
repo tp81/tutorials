{
 "cells": [
  {
   "cell_type": "markdown",
   "metadata": {},
   "source": [
    "## Ascii Image Op"
   ]
  },
  {
   "cell_type": "code",
   "execution_count": 1,
   "metadata": {},
   "outputs": [
    {
     "name": "stdout",
     "output_type": "stream",
     "text": [
      "Added new repo: imagej.public\n"
     ]
    },
    {
     "data": {
      "application/vnd.jupyter.widget-view+json": {
       "model_id": "",
       "version_major": 2,
       "version_minor": 0
      },
      "method": "display_data"
     },
     "metadata": {},
     "output_type": "display_data"
    },
    {
     "data": {
      "application/vnd.jupyter.widget-view+json": {
       "model_id": "7d000bec-00b5-4c22-a873-002f58e06ab8",
       "version_major": 2,
       "version_minor": 0
      },
      "method": "display_data"
     },
     "metadata": {},
     "output_type": "display_data"
    },
    {
     "data": {
      "text/plain": [
       "net.imagej.ImageJ@4248b215"
      ]
     },
     "execution_count": 1,
     "metadata": {},
     "output_type": "execute_result"
    }
   ],
   "source": [
    "//load ImageJ\n",
    "%classpath config resolver imagej.public https://maven.imagej.net/content/groups/public\n",
    "%classpath add mvn net.imagej imagej 2.0.0-rc-67\n",
    "\n",
    "//create ImageJ object\n",
    "ij = new net.imagej.ImageJ()"
   ]
  },
  {
   "cell_type": "markdown",
   "metadata": {},
   "source": [
    "The `ascii` Op allows you to generate [ascii art](https://en.wikipedia.org/wiki/ASCII_art) from any image. Let's see how the Op is called:"
   ]
  },
  {
   "cell_type": "code",
   "execution_count": 2,
   "metadata": {},
   "outputs": [
    {
     "data": {
      "text/plain": [
       "Available operations:\n",
       "\t(String out) =\n",
       "\tnet.imagej.ops.image.ascii.DefaultASCII(\n",
       "\t\tIterableInterval in,\n",
       "\t\tRealType min?,\n",
       "\t\tRealType max?)"
      ]
     },
     "execution_count": 2,
     "metadata": {},
     "output_type": "execute_result"
    }
   ],
   "source": [
    "ij.op().help(\"ascii\")"
   ]
  },
  {
   "cell_type": "markdown",
   "metadata": {},
   "source": [
    "Note that you can also pass through a `RealType` minimum and maximum, which will allow you to \n",
    "\n",
    "Note that these ascii representations are quite large, so we will use a very small image:"
   ]
  },
  {
   "cell_type": "code",
   "execution_count": 3,
   "metadata": {},
   "outputs": [
    {
     "data": {
      "image/png": "[encoded data removed]"
     },
     "execution_count": 3,
     "metadata": {},
     "output_type": "execute_result"
    }
   ],
   "source": [
    "input = ij.op().run(\"create.img\", [150, 20])\n",
    "formula = \"63 * (Math.cos(0.3*p[0]) + Math.sin(0.3*p[1])) + 127\"\n",
    "ij.op().image().equation(input, formula)\n",
    "\n",
    "ij.notebook().display(input)"
   ]
  },
  {
   "cell_type": "code",
   "execution_count": 4,
   "metadata": {},
   "outputs": [
    {
     "data": {
      "text/plain": [
       ",,,--+oo******o++--,,,,,--+oo******o++--,,,,,--+oo******o++--,,,,,--+oo******o++--,,,,,--+oo******o++-,,,,,,--+oo*****oo++-,,,,,,--+oo*****oo++-,,,,,,\n",
       "..,,--++oo**oo++--,,...,,--+ooo**oo++-,,....,,--+ooo**oo++-,,....,,--+ooo**oo++-,,....,,--+ooo**oo++-,,....,,--+ooo**oo++-,,....,,--+ooo**oo++-,,....,\n",
       "....,--++oooo++--,.......,--++oooo++--,.......,--++oooo++-,,.......,--++oooo++-,,......,,--++oooo++-,,......,,--+ooooo++-,,......,,--+ooooo++-,,......\n",
       "   ..,--++++++--,..     .,,--++++++--,..     .,,--++++++--,..    ..,,--++++++--,..    ..,,-+++++++--,..    ..,,-+++++++--,..    ..,,-+++++++--,..    .\n",
       "   ..,,-++++++-,,..     ..,,-++++++-,,..     ..,--++++++-,,.      ..,--+++++--,,.      ..,--+++++--,,.      ..,--+++++--,,.      ..,--+++++--,,.      \n",
       "    .,,--++++--,,.       .,,--++++--,,.       .,,--++++--,,.      ..,,-+++++--,..      ..,,-+++++--,..      ..,,-+++++--,..      ..,--+++++--,..      \n",
       "    .,,--++++--,,.       .,,-+++++--,,.      ..,,-+++++--,,.      ..,,-+++++--,,.      ..,--+++++--,,.      ..,--+++++--,..      ..,--+++++--,..      \n",
       "   ..,--++++++--,..     ..,--++++++--,..     ..,--++++++-,,..     ..,--++++++-,,..     ..,--++++++-,,..     ..,--++++++-,,..     .,,--++++++-,,..     \n",
       "  ..,,-++oooo++-,,..   ..,,-++ooo+++-,,..   ..,,-++ooo+++-,,..   ..,,-++ooo+++-,,..   ..,--++ooo++--,,..   ..,--++ooo++--,,..   ..,--++ooo++--,...   .\n",
       "...,,-++oooooo++-,,.....,,-++oooooo+--,,.....,,-++oooooo+--,,.....,,-++oooooo+--,,.....,,-++oooooo+--,,.....,,-++oooooo+--,,.....,,-++oooooo+--,......\n",
       ".,,,-++oo****oo++-,,,.,,,-++oo****oo+--,,,.,,,-++oo****oo+--,,,.,,,-++oo****oo+--,,,.,,,-++oo****oo+--,,,.,,,-++oo****oo+--,,,.,,--++oo****oo+--,,,.,,\n",
       ",,--++oo**OO**oo++--,,,--++o***OO**oo+--,,,,--++o***OO**oo+--,,,,--++o***OO**oo+--,,,,--++o***OO**oo+--,,,,--++o***OO**oo+--,,,,--++o***OO**oo+--,,,,-\n",
       "---++o**OOOOOO*oo++-----++o**OOOOOO*oo++-----++o**OOOOOO*oo++-----++o**OOOOOO*oo++-----++o**OOOOOO*oo+------++o**OOOOO**oo+------++o**OOOOO**oo+------\n",
       "--++oo*OO####OO*oo++---++oo*OO####OO*oo++---++oo*OO####OO*oo++---++o**OO###OOO*oo++---++o**OO###OOO*oo++---++o**OO###OO**oo++---++o**OO###OO**oo++--++\n",
       "+++oo**O######O**oo+++++oo**O######O**oo+++++oo*OO######O**o++++++oo*OO#####OO**o++++++oo*OO#####OO**o++++++oo*OO#####OO**o++++++oo*OO#####OO**o++++++\n",
       "+++oo*OO######OO*oo+++++oo*OO######OO*oo+++++oo*OO######OO*oo+++++oo*OO######OO*oo+++++o**OO######OO*oo+++++o**OO######O**oo+++++o**O#######O**oo++++o\n",
       "+++oo*OO######OO*oo+++++oo*OO######OO*oo+++++oo*OO######OO*oo+++++o**OO######OO*oo+++++o**OO######OO*oo++++oo**O#######OO*oo++++oo**O#######O**oo++++o\n",
       "+++oo*OO######OO*oo+++++oo*OO######OO*oo+++++oo*OO######O**oo+++++oo*OO######O**oo+++++oo*OO######O**oo+++++oo*OO######O**oo+++++oo*OO######O**o++++++\n",
       "++++o**OO####OO**o+++++++o**OO####OO**o+++++++o**OO####OO*oo+++++++o**OO####OO*oo+++++++o**OO####OO*oo++++++oo**OO####OO*oo++++++oo**O#####OO*oo++++++\n",
       "---++o**OOOOOO**o++-----++o**OOOOOO**o++-----+oo**OOOOOO**o++-----+oo**OOOOOO**o++-----+oo**OOOOOO**o++----++oo*OOOOOOO**o++----++oo*OOOOOOO*oo++----+\n"
      ]
     },
     "execution_count": 4,
     "metadata": {},
     "output_type": "execute_result"
    }
   ],
   "source": [
    "import net.imglib2.type.numeric.integer.UnsignedByteType\n",
    "\n",
    "min = new UnsignedByteType(0)\n",
    "max = new UnsignedByteType(255)\n",
    "\n",
    "output = ij.op().run(\"ascii\", input, min, max)"
   ]
  }
 ],
 "metadata": {
  "kernelspec": {
   "display_name": "Groovy",
   "language": "groovy",
   "name": "groovy"
  },
  "language_info": {
   "codemirror_mode": "groovy",
   "file_extension": ".groovy",
   "mimetype": "",
   "name": "Groovy",
   "nbconverter_exporter": "",
   "version": "2.4.3"
  },
  "toc": {
   "base_numbering": 1,
   "nav_menu": {},
   "number_sections": false,
   "sideBar": false,
   "skip_h1_title": false,
   "title_cell": "Table of Contents",
   "title_sidebar": "Contents",
   "toc_cell": false,
   "toc_position": {},
   "toc_section_display": false,
   "toc_window_display": false
  }
 },
 "nbformat": 4,
 "nbformat_minor": 2
}
