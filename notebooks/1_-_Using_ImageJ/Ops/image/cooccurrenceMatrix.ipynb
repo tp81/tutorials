{
 "cells": [
  {
   "cell_type": "markdown",
   "metadata": {},
   "source": [
    "# Cooccurrence Matrix Op"
   ]
  },
  {
   "cell_type": "code",
   "execution_count": null,
   "metadata": {},
   "outputs": [],
   "source": [
    "//load ImageJ\n",
    "%classpath config resolver imagej.public https://maven.imagej.net/content/groups/public\n",
    "%classpath add mvn net.imagej imagej 2.0.0-rc-67\n",
    "\n",
    "//create ImageJ object\n",
    "ij = new net.imagej.ImageJ()"
   ]
  },
  {
   "cell_type": "markdown",
   "metadata": {},
   "source": [
    "This op creates a [Cooccurrence Matrix](https://en.wikipedia.org/wiki/Co-occurrence_matrix) of any input image. Let's see how the `Op` is called:"
   ]
  },
  {
   "cell_type": "code",
   "execution_count": null,
   "metadata": {},
   "outputs": [],
   "source": [
    "ij.op().help(\"cooccurrenceMatrix\")"
   ]
  },
  {
   "cell_type": "markdown",
   "metadata": {},
   "source": [
    "Note the parameters here:\n",
    "* `IterableInterval in`: the input image\n",
    "* `int nrGreyLevels`: the number of different data values within the values, used to compute the size of the output (where the output is a `double[nrGreyLevels][nrGreyLevels]`). For example, if your image is of `UnsignedByteType` and you know that every value in the range [0, 127] exists within the image then `nrGreyLevels` is `128`. However if you know the data only ranges from [0,72] then you can input `nrGreyLevels` as 73, saving memory. \n",
    "* `int distance`: the magnitude of the offeset from the current data location that you want to check for cooccurrence. For example, if we want to create a cooccurrence matrix of every data location `p`, located at `[x, y]` and the pixel diagonally offset from `p` at a distance of `[d0, d1]`, the `Op` will check pixels `p` and the pixel at location `[x + d0, y + d1]` for all pixels on the image. Each value of `orientation` is mutliplied by `distance` to determine that offset `[d0, d1]`.\n",
    "* `MatrixOrientation orientation`: denotes the **direction** on which to travel to find the offset pixel. There are separate `MatrixOrientation` classes for two- and three-dimensional cooccurrence matrices, and each have enums denoting the most common offsets, although you can still create a new MatrixOrientation2D or 3D with your own `[d0, d1(, d2)]` if you so choose.\n",
    "\n",
    "Also note that the output `double[]` contains the **percentage** of pairs that follow that pattern, not the **number** of pairs.\n",
    "\n",
    "Let's create a new input image:"
   ]
  },
  {
   "cell_type": "code",
   "execution_count": null,
   "metadata": {},
   "outputs": [],
   "source": [
    "import net.imglib2.type.numeric.integer.UnsignedByteType\n",
    "    \n",
    "dims = [100, 100] as int[]\n",
    "data = ij.op().run(\"create.img\", dims, new UnsignedByteType())\n",
    "\n",
    "cursor = data.cursor()\n",
    "while(cursor.hasNext()) cursor.next().set(((cursor.getIntPosition(0) + cursor.getIntPosition(1)) % 3) * 255)\n",
    "\n",
    "ij.notebook().display(data)"
   ]
  },
  {
   "cell_type": "markdown",
   "metadata": {},
   "source": [
    "This equation assigns two data locations that are horizontal neighbors with the maximum value of the type (where the modulus is 1 and 2), followed by an \"off\" pixel (where the modulus is 0). This works out well for cooccurrence between a data location at location `[x, y]` and a data location at location `[x + 1, y + 1]`. We should then expect to see large (equilavlent, to be precise) percentages of 1 and 1, 0 and 1, and 1 and 0 respectively, however no values of 0 and 0 respectively, since there are no data locations with a value of zero that also have a zero as a horizontal neighbor in this image."
   ]
  },
  {
   "cell_type": "code",
   "execution_count": null,
   "metadata": {},
   "outputs": [],
   "source": [
    "import net.imglib2.type.numeric.integer.UnsignedByteType\n",
    "import net.imagej.ops.image.cooccurrenceMatrix.MatrixOrientation2D\n",
    "\n",
    "//we only have values of 0 and 255\n",
    "nrGreyLevels = 2\n",
    "\n",
    "//we want an offset of one\n",
    "distance = 1\n",
    "\n",
    "//we need a MatrixOrientation2D of a horizontal orientation\n",
    "orientation = MatrixOrientation2D.HORIZONTAL\n",
    "\n",
    "output = ij.op().run(\"cooccurrenceMatrix\", data, nrGreyLevels, distance, orientation)"
   ]
  },
  {
   "cell_type": "markdown",
   "metadata": {},
   "source": [
    "Note that in this output the first value is `output[0, 0]`, and the last value is `output[1, 1]`. The output came out exactly as intended, with the pattern `[0, 0]` returning 0% of the total image (for the reasons described above) and all other patterns returning 33% of the patterns."
   ]
  }
 ],
 "metadata": {
  "kernelspec": {
   "display_name": "Groovy",
   "language": "groovy",
   "name": "groovy"
  },
  "language_info": {
   "codemirror_mode": "groovy",
   "file_extension": ".groovy",
   "mimetype": "",
   "name": "Groovy",
   "nbconverter_exporter": "",
   "version": "2.4.3"
  },
  "toc": {
   "base_numbering": 1,
   "nav_menu": {},
   "number_sections": false,
   "sideBar": false,
   "skip_h1_title": false,
   "title_cell": "Table of Contents",
   "title_sidebar": "Contents",
   "toc_cell": false,
   "toc_position": {},
   "toc_section_display": false,
   "toc_window_display": false
  }
 },
 "nbformat": 4,
 "nbformat_minor": 2
}
