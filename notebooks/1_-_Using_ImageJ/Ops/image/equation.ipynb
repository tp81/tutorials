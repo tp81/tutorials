{
 "cells": [
  {
   "cell_type": "markdown",
   "metadata": {},
   "source": [
    "## Equation-based Image Op"
   ]
  },
  {
   "cell_type": "code",
   "execution_count": null,
   "metadata": {},
   "outputs": [],
   "source": [
    "//load ImageJ\n",
    "%classpath config resolver imagej.public https://maven.imagej.net/content/groups/public\n",
    "%classpath add mvn net.imagej imagej 2.0.0-rc-67\n",
    "\n",
    "//create ImageJ object\n",
    "ij = new net.imagej.ImageJ()"
   ]
  },
  {
   "cell_type": "markdown",
   "metadata": {},
   "source": [
    "The `equation` op allows you to generate an image from a formula in JavaScript syntax.\n",
    "\n",
    "Such images can be useful for testing without needing an external image source, or a long and bulky list of numbers. Note that the `Op` can be slow, so it is not great for any repetitive process."
   ]
  },
  {
   "cell_type": "code",
   "execution_count": null,
   "metadata": {},
   "outputs": [],
   "source": [
    "ij.op().help('equation')"
   ]
  },
  {
   "cell_type": "markdown",
   "metadata": {},
   "source": [
    "The `Op` takes an `IterableInterval` output, and a `String` equation that is evaluated in JavaScript. The equation can contain:\n",
    "\n",
    "* image position (identified by `p[x]`, where x is the dimension we want the position from)\n",
    "* numbers\n",
    "* arithmetic operators (`+`, `-`, `*`, `/`, `%`)\n",
    "* anything in the [JavaScript Math Package](https://www.javascripture.com/Math)\n",
    "\n",
    "And for `BitType` images:\n",
    "\n",
    "* comparison operators (`==`, `<`, `>`, `<=`, `>=`, `!=`)\n",
    "* logical operators (`&&`, `||`, `!`) \n",
    "* bitwise operators (`&`, `|`, `^`, `~`, `<<`, `>>`, `>>>`)\n",
    "\n",
    "Let's create a blank output image, and then populate it using `equation`"
   ]
  },
  {
   "cell_type": "code",
   "execution_count": null,
   "metadata": {},
   "outputs": [],
   "source": [
    "import net.imglib2.FinalInterval\n",
    "import net.imglib2.type.numeric.integer.UnsignedByteType\n",
    "\n",
    "dims = new FinalInterval(200, 200)\n",
    "output = ij.op().create().img(dims, new UnsignedByteType())\n",
    "\n",
    "formula = \"63 * (Math.cos(0.3*p[0]) + Math.sin(0.3*p[1])) + 127\"\n",
    "ij.op().image().equation(output, formula)\n",
    "\n",
    "ij.notebook().display(output)"
   ]
  }
 ],
 "metadata": {
  "kernelspec": {
   "display_name": "Groovy",
   "language": "groovy",
   "name": "groovy"
  },
  "language_info": {
   "codemirror_mode": "groovy",
   "file_extension": ".groovy",
   "mimetype": "",
   "name": "Groovy",
   "nbconverter_exporter": "",
   "version": "2.4.3"
  },
  "toc": {
   "base_numbering": 1,
   "nav_menu": {},
   "number_sections": false,
   "sideBar": false,
   "skip_h1_title": false,
   "title_cell": "Table of Contents",
   "title_sidebar": "Contents",
   "toc_cell": false,
   "toc_position": {},
   "toc_section_display": false,
   "toc_window_display": false
  }
 },
 "nbformat": 4,
 "nbformat_minor": 2
}
