{
 "cells": [
  {
   "cell_type": "markdown",
   "metadata": {},
   "source": [
    "# Histogram Op"
   ]
  },
  {
   "cell_type": "code",
   "execution_count": null,
   "metadata": {},
   "outputs": [],
   "source": [
    "//load ImageJ\n",
    "%classpath config resolver imagej.public https://maven.imagej.net/content/groups/public\n",
    "%classpath add mvn net.imagej imagej 2.0.0-rc-67\n",
    "\n",
    "//create ImageJ object\n",
    "ij = new net.imagej.ImageJ()"
   ]
  },
  {
   "cell_type": "markdown",
   "metadata": {},
   "source": [
    "This `Op` creates a one-dimensional image representing a histogram of all of the data values within a particular image. Let's see how `histogram` is called:"
   ]
  },
  {
   "cell_type": "code",
   "execution_count": null,
   "metadata": {},
   "outputs": [],
   "source": [
    "ij.op().help(\"histogram\")"
   ]
  },
  {
   "cell_type": "markdown",
   "metadata": {},
   "source": [
    "Note that we can **(optionally)** specify a number of bins for the output histogrma. If we do not do so the `Op` will default to 256 bins.\n",
    "\n",
    "The first thing that we have to do is retrieve an input image:"
   ]
  },
  {
   "cell_type": "code",
   "execution_count": null,
   "metadata": {},
   "outputs": [],
   "source": [
    "input = ij.scifio().datasetIO().open(\"http://imagej.net/images/blobs.gif\")\n",
    "\n",
    "ij.notebook().display(input)"
   ]
  },
  {
   "cell_type": "markdown",
   "metadata": {},
   "source": [
    "Now that we have an input image we can pass it through to `histogram`. We created a simple function to turn our one-dimensional histogram into a two-dimensional histogram for easier viewing:"
   ]
  },
  {
   "cell_type": "code",
   "execution_count": null,
   "metadata": {},
   "outputs": [],
   "source": [
    "import net.imglib2.type.numeric.integer.UnsignedByteType\n",
    "import net.imglib2.type.logic.BitType\n",
    "import net.imglib2.histogram.Histogram1d\n",
    "\n",
    "//histogram is the one-dimensional histogram of the data, \n",
    "//scale is the number of points that correspond to one pixel height on the output two-dimensional histogram\n",
    "def twoDimensionHistogram(Histogram1d<UnsignedByteType> histogram, int scale) {\n",
    "    \n",
    "    maxValue = ij.op().stats().max(histogram)\n",
    "    dims = [histogram.dimension(0), maxValue.get() / scale] as int[]\n",
    "    output = ij.op().run(\"create.img\", dims, new BitType())\n",
    "    cursor = histogram.cursor()\n",
    "    outputRA = output.randomAccess()\n",
    "    while(cursor.hasNext()){\n",
    "        value = cursor.next().get()\n",
    "        outputRA.setPosition(cursor.getLongPosition(0), 0)\n",
    "        outputRA.setPosition(output.dimension(1), 1)\n",
    "        while(value > 0){\n",
    "            outputRA.get().setOne()\n",
    "            outputRA.move(-1, 1)\n",
    "            value-= scale\n",
    "        }\n",
    "    }\n",
    "    \n",
    "    return output\n",
    "}\n",
    "\n",
    "histogram = ij.op().run(\"histogram\", input)\n",
    "scale = 100\n",
    "histogram2D = twoDimensionHistogram(histogram, scale)\n",
    "\n",
    "ij.notebook().display(histogram2D)"
   ]
  },
  {
   "cell_type": "markdown",
   "metadata": {},
   "source": [
    "Note that blobs is a 5 bit image scaled up to 8 bits, causing most of the bins to show zero (since each value in blobs is a multiple of eight)"
   ]
  }
 ],
 "metadata": {
  "kernelspec": {
   "display_name": "Groovy",
   "language": "groovy",
   "name": "groovy"
  },
  "language_info": {
   "codemirror_mode": "groovy",
   "file_extension": ".groovy",
   "mimetype": "",
   "name": "Groovy",
   "nbconverter_exporter": "",
   "version": "2.4.3"
  },
  "toc": {
   "base_numbering": 1,
   "nav_menu": {},
   "number_sections": false,
   "sideBar": false,
   "skip_h1_title": false,
   "title_cell": "Table of Contents",
   "title_sidebar": "Contents",
   "toc_cell": false,
   "toc_position": {},
   "toc_section_display": false,
   "toc_window_display": false
  }
 },
 "nbformat": 4,
 "nbformat_minor": 2
}
