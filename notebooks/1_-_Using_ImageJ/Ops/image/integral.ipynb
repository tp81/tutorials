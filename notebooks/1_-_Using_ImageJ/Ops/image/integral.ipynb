{
 "cells": [
  {
   "cell_type": "markdown",
   "metadata": {},
   "source": [
    "# Integral Image Op"
   ]
  },
  {
   "cell_type": "code",
   "execution_count": 1,
   "metadata": {},
   "outputs": [
    {
     "name": "stdout",
     "output_type": "stream",
     "text": [
      "Added new repo: imagej.public\n"
     ]
    },
    {
     "data": {
      "application/vnd.jupyter.widget-view+json": {
       "model_id": "",
       "version_major": 2,
       "version_minor": 0
      },
      "method": "display_data"
     },
     "metadata": {},
     "output_type": "display_data"
    },
    {
     "data": {
      "application/vnd.jupyter.widget-view+json": {
       "model_id": "c129870a-f18d-49a8-a66b-99a318d5dedc",
       "version_major": 2,
       "version_minor": 0
      },
      "method": "display_data"
     },
     "metadata": {},
     "output_type": "display_data"
    },
    {
     "data": {
      "text/plain": [
       "net.imagej.ImageJ@4248b215"
      ]
     },
     "execution_count": 1,
     "metadata": {},
     "output_type": "execute_result"
    }
   ],
   "source": [
    "//load ImageJ\n",
    "%classpath config resolver imagej.public https://maven.imagej.net/content/groups/public\n",
    "%classpath add mvn net.imagej imagej 2.0.0-rc-67\n",
    "\n",
    "//create ImageJ object\n",
    "ij = new net.imagej.ImageJ()"
   ]
  },
  {
   "cell_type": "markdown",
   "metadata": {},
   "source": [
    "This op creates a [Summed Area Table](https://en.wikipedia.org/wiki/Summed-area_table) of any input image. Let's see how the `Op` is called:"
   ]
  },
  {
   "cell_type": "code",
   "execution_count": 5,
   "metadata": {},
   "outputs": [
    {
     "data": {
      "text/plain": [
       "Available operations:\n",
       "\t(RandomAccessibleInterval out?) =\n",
       "\tnet.imagej.ops.image.integral.DefaultIntegralImg(\n",
       "\t\tRandomAccessibleInterval out?,\n",
       "\t\tRandomAccessibleInterval in)\n",
       "\t(RandomAccessibleInterval out) =\n",
       "\tnet.imagej.ops.image.integral.WrappedIntegralImg(\n",
       "\t\tRandomAccessibleInterval in)"
      ]
     },
     "execution_count": 5,
     "metadata": {},
     "output_type": "execute_result"
    }
   ],
   "source": [
    "ij.op().help(\"integral\")"
   ]
  },
  {
   "cell_type": "markdown",
   "metadata": {},
   "source": [
    "The first thing that we have to do is preallocate an output image:"
   ]
  },
  {
   "cell_type": "code",
   "execution_count": 43,
   "metadata": {},
   "outputs": [
    {
     "data": {
      "image/png": "[encoded data removed]"
     },
     "execution_count": 43,
     "metadata": {},
     "output_type": "execute_result"
    }
   ],
   "source": [
    "import net.imglib2.type.numeric.integer.UnsignedByteType\n",
    "\n",
    "dims = [100, 100] as int[]\n",
    "output = ij.op().run(\"create.img\", dims, new UnsignedByteType())\n",
    "\n",
    "ij.notebook().display(output)"
   ]
  },
  {
   "cell_type": "markdown",
   "metadata": {},
   "source": [
    "Now that we have an output image we can create an `UnsignedByteType` and pass that (along with out output image) to `fill`:"
   ]
  },
  {
   "cell_type": "code",
   "execution_count": 48,
   "metadata": {},
   "outputs": [
    {
     "data": {
      "image/png": "[encoded data removed]"
     },
     "execution_count": 48,
     "metadata": {},
     "output_type": "execute_result"
    }
   ],
   "source": [
    "import net.imglib2.type.numeric.integer.UnsignedByteType\n",
    "\n",
    "ij.op().run(\"fill\", output, new UnsignedByteType(1))\n",
    "\n",
    "ij.notebook().display(output)"
   ]
  },
  {
   "cell_type": "code",
   "execution_count": 49,
   "metadata": {},
   "outputs": [
    {
     "data": {
      "image/png": "[encoded data removed]"
     },
     "execution_count": 49,
     "metadata": {},
     "output_type": "execute_result"
    }
   ],
   "source": [
    "integral = ij.op().run(\"integral\", output)\n",
    "\n",
    "ij.notebook().display(integral)"
   ]
  },
  {
   "cell_type": "markdown",
   "metadata": {},
   "source": [
    "Note that pixel is the sum of all of the pixels to the left and above that location in the input (which all have value `1`). Thus the pixels farther to the left and towards the top of the input image are relatively dark since the area of rectangles created between the origin and those pixels is much smaller than the area of rectangles between the origin and the pixels in the middle of the image."
   ]
  }
 ],
 "metadata": {
  "kernelspec": {
   "display_name": "Groovy",
   "language": "groovy",
   "name": "groovy"
  },
  "language_info": {
   "codemirror_mode": "groovy",
   "file_extension": ".groovy",
   "mimetype": "",
   "name": "Groovy",
   "nbconverter_exporter": "",
   "version": "2.4.3"
  },
  "toc": {
   "base_numbering": 1,
   "nav_menu": {},
   "number_sections": false,
   "sideBar": false,
   "skip_h1_title": false,
   "title_cell": "Table of Contents",
   "title_sidebar": "Contents",
   "toc_cell": false,
   "toc_position": {},
   "toc_section_display": false,
   "toc_window_display": false
  }
 },
 "nbformat": 4,
 "nbformat_minor": 2
}
