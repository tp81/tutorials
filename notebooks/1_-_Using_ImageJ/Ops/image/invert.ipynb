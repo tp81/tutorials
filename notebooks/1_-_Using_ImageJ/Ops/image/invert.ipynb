{
 "cells": [
  {
   "cell_type": "markdown",
   "metadata": {},
   "source": [
    "# Invert Op"
   ]
  },
  {
   "cell_type": "code",
   "execution_count": null,
   "metadata": {},
   "outputs": [],
   "source": [
    "//load ImageJ\n",
    "%classpath config resolver imagej.public https://maven.imagej.net/content/groups/public\n",
    "%classpath add mvn net.imagej imagej 2.0.0-rc-67\n",
    "\n",
    "//create ImageJ object\n",
    "ij = new net.imagej.ImageJ()"
   ]
  },
  {
   "cell_type": "markdown",
   "metadata": {},
   "source": [
    "The invert `Op` is used to reverse the colors of an image, whether it be white and black in grayscale or [across the color wheel](https://en.wikipedia.org/wiki/Color_wheel) in colored images."
   ]
  },
  {
   "cell_type": "code",
   "execution_count": null,
   "metadata": {},
   "outputs": [],
   "source": [
    "ij.op().help('invert')"
   ]
  },
  {
   "cell_type": "markdown",
   "metadata": {},
   "source": [
    "Note that there are two types of `invert`: `net.imagej.ops.image.invert` works on `IterableInterval`s (i.e. images), and the other, belonging to `net.imagej.ops.math.UnaryRealTypeMath`, works on `RealType`s (i.e. single values). In this notebook we will focus on the former.\n",
    "\n",
    "Let's find an image to invert:"
   ]
  },
  {
   "cell_type": "code",
   "execution_count": null,
   "metadata": {},
   "outputs": [],
   "source": [
    "input = ij.scifio().datasetIO().open(\"http://imagej.net/images/clown.png\")\n",
    "\n",
    "ij.notebook().display(input)"
   ]
  },
  {
   "cell_type": "markdown",
   "metadata": {},
   "source": [
    "`invert` takes an output and input image in its simplest case:"
   ]
  },
  {
   "cell_type": "code",
   "execution_count": null,
   "metadata": {},
   "outputs": [],
   "source": [
    "output = ij.op().create().img(input)\n",
    "\n",
    "ij.op().run(\"invert\", output, input)\n",
    "\n",
    "ij.notebook().display(output)"
   ]
  },
  {
   "cell_type": "markdown",
   "metadata": {},
   "source": [
    "If, however, it is desired to invert the image around a **different inversion point** than the middle of the type range, the user can specify a minimum and maximum value whose average becomes the new inversion point. Note that the minimum and maximum **do not** specify clamping values. For example, if it is desired to flip an 4-bit image around 4 (i.e. where 5 becomes 3) instead of around the middle value of 7.5 (i.e. where 5 becomes 10), this is possible. To perform this type of inversion the user would pass through 3 as the minimum and 5 as the maximum (or any two numbers such that the average is 4, really).\n",
    "\n",
    "Also, note that it is possible to specify only a minimum, but it **is not** possible to specify only a maximum, due to the order of the parameters in the signature of the method."
   ]
  },
  {
   "cell_type": "code",
   "execution_count": null,
   "metadata": {},
   "outputs": [],
   "source": [
    "import net.imglib2.type.numeric.integer.IntType\n",
    "\n",
    "//invert around 45\n",
    "maxValue = new IntType(30)\n",
    "minValue = new IntType(60)\n",
    "\n",
    "ij.op().run(\"invert\", output, input, minValue, maxValue)\n",
    "\n",
    "ij.notebook().display(output)"
   ]
  },
  {
   "cell_type": "code",
   "execution_count": null,
   "metadata": {},
   "outputs": [],
   "source": []
  }
 ],
 "metadata": {
  "kernelspec": {
   "display_name": "Groovy",
   "language": "groovy",
   "name": "groovy"
  },
  "language_info": {
   "codemirror_mode": "groovy",
   "file_extension": ".groovy",
   "mimetype": "",
   "name": "Groovy",
   "nbconverter_exporter": "",
   "version": "2.4.3"
  },
  "toc": {
   "base_numbering": 1,
   "nav_menu": {},
   "number_sections": false,
   "sideBar": false,
   "skip_h1_title": false,
   "title_cell": "Table of Contents",
   "title_sidebar": "Contents",
   "toc_cell": false,
   "toc_position": {},
   "toc_section_display": false,
   "toc_window_display": false
  }
 },
 "nbformat": 4,
 "nbformat_minor": 2
}
