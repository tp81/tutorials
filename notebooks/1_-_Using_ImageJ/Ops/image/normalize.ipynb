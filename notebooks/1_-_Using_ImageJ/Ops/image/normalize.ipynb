{
 "cells": [
  {
   "cell_type": "markdown",
   "metadata": {},
   "source": [
    "# Normalization Op"
   ]
  },
  {
   "cell_type": "code",
   "execution_count": null,
   "metadata": {},
   "outputs": [],
   "source": [
    "//load ImageJ\n",
    "%classpath config resolver imagej.public https://maven.imagej.net/content/groups/public\n",
    "%classpath add mvn net.imagej imagej 2.0.0-rc-67\n",
    "\n",
    "//create ImageJ object\n",
    "ij = new net.imagej.ImageJ()"
   ]
  },
  {
   "cell_type": "markdown",
   "metadata": {},
   "source": [
    "This `Op` normalizes the values of any given image from a specified minimum and maximum value and normalizes them to a new given minimum and maximum value:"
   ]
  },
  {
   "cell_type": "code",
   "execution_count": null,
   "metadata": {},
   "outputs": [],
   "source": [
    "ij.op().help(\"normalize\")"
   ]
  },
  {
   "cell_type": "markdown",
   "metadata": {},
   "source": [
    "Note that you are allowed to pass in `sourceMin` and `sourceMax`, specifying the **current** lower and upper bounds of your data. These will be linearly mapped to `targetMin` and `targetMax`. If none of the four values are passed through then the `Op` will choose `sourceMin` and `sourceMax` to be the minimum and maximum of your data and `targetMin` and `targetMax` to be the bounds of the type. We will do this in the following example. Let's say that you have some data that only covers a small range of your type interval:"
   ]
  },
  {
   "cell_type": "code",
   "execution_count": null,
   "metadata": {},
   "outputs": [],
   "source": [
    "import net.imglib2.type.numeric.integer.UnsignedByteType\n",
    "    \n",
    "dims = [100, 100] as int[]\n",
    "data = ij.op().run(\"create.img\", dims, new UnsignedByteType())\n",
    "\n",
    "formula = \"8 * (Math.cos(0.3*p[0]) + Math.sin(0.3*p[1])) + 16\"\n",
    "ij.op().image().equation(data, formula)\n",
    "\n",
    "ij.notebook().display(data)"
   ]
  },
  {
   "cell_type": "markdown",
   "metadata": {},
   "source": [
    "Let's say that you want to stack this data on top of another image, but this image contains data covering the full range of the type"
   ]
  },
  {
   "cell_type": "code",
   "execution_count": null,
   "metadata": {},
   "outputs": [],
   "source": [
    "import net.imglib2.type.numeric.integer.UnsignedByteType\n",
    "\n",
    "backgroundFormula = \"p[0] + p[1]\"\n",
    "background = ij.op().run(\"create.img\", dims, new UnsignedByteType())\n",
    "\n",
    "ij.op().run(\"equation\", background, backgroundFormula)\n",
    "\n",
    "ij.notebook().display(background)"
   ]
  },
  {
   "cell_type": "markdown",
   "metadata": {},
   "source": [
    "We cannot simply just stack the data on top of our background since the scale of our data is off and thus our data will be hidden by the background:"
   ]
  },
  {
   "cell_type": "code",
   "execution_count": null,
   "metadata": {},
   "outputs": [],
   "source": [
    "import net.imglib2.view.Views\n",
    "\n",
    "ij.notebook().display(Views.stack(data, background))"
   ]
  },
  {
   "cell_type": "markdown",
   "metadata": {},
   "source": [
    "If you stare at the darker section of that image the red is barely visible. This does not help us view both images at the same time. This can be fixed by normalizing our data beforehand:"
   ]
  },
  {
   "cell_type": "code",
   "execution_count": null,
   "metadata": {},
   "outputs": [],
   "source": [
    "import net.imglib2.view.Views\n",
    "\n",
    "normalizedData = ij.op().run(\"normalize\", data)\n",
    "\n",
    "//normalizedData is a ConvertedIterableInterval, so we have to copy the data into a RandomAccessibleInterval so that we can pass it to stack()\n",
    "//create an image (not ConvertedIterableInterval) of the same size as normalized data and of the destination (converted) type of normalizedData\n",
    "output = ij.op().run(\"create.img\", normalizedData, normalizedData.getDestinationType())\n",
    "//Copy the data from normalizedData to output\n",
    "ij.op().run(\"copy.iterableInterval\", output, normalizedData)\n",
    "\n",
    "ij.notebook().display(Views.stack(output, background))"
   ]
  }
 ],
 "metadata": {
  "kernelspec": {
   "display_name": "Groovy",
   "language": "groovy",
   "name": "groovy"
  },
  "language_info": {
   "codemirror_mode": "groovy",
   "file_extension": ".groovy",
   "mimetype": "",
   "name": "Groovy",
   "nbconverter_exporter": "",
   "version": "2.4.3"
  },
  "toc": {
   "base_numbering": 1,
   "nav_menu": {},
   "number_sections": false,
   "sideBar": false,
   "skip_h1_title": false,
   "title_cell": "Table of Contents",
   "title_sidebar": "Contents",
   "toc_cell": false,
   "toc_position": {},
   "toc_section_display": false,
   "toc_window_display": false
  }
 },
 "nbformat": 4,
 "nbformat_minor": 2
}
