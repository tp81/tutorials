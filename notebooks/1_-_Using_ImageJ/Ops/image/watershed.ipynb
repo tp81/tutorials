{
 "cells": [
  {
   "cell_type": "markdown",
   "metadata": {},
   "source": [
    "# Watershed Transformation"
   ]
  },
  {
   "cell_type": "code",
   "execution_count": null,
   "metadata": {},
   "outputs": [],
   "source": [
    "//load ImageJ\n",
    "%classpath config resolver imagej.public https://maven.imagej.net/content/groups/public\n",
    "%classpath add mvn net.imagej imagej 2.0.0-rc-67\n",
    "\n",
    "//create ImageJ object\n",
    "ij = new net.imagej.ImageJ()"
   ]
  },
  {
   "cell_type": "markdown",
   "metadata": {},
   "source": [
    "This `Op` performs the [Watershed Transformation](https://en.wikipedia.org/wiki/Watershed_(image_processing)) on a given image, separating an image into \"drainage basins\" based on the gradient magnitude of the image. The `Op` produces an `ImgLabeling` describing the various regions within the image. The `Op` is called as follows:"
   ]
  },
  {
   "cell_type": "code",
   "execution_count": null,
   "metadata": {},
   "outputs": [],
   "source": [
    "ij.op().help('watershed')"
   ]
  },
  {
   "cell_type": "markdown",
   "metadata": {},
   "source": [
    "There are a lot of different signatures provided with the `Op`, but all share some parameters:\n",
    "* `RandomAccessibleInterval in`: the input image\n",
    "* `boolean useEightConnectivity`: if `true`, the algorithm will consider all eight surrounding data locations (i.e. all adjacent and diagonal data locations) as neighbors, and if `false` will only consider the four adjacent data locations as neighbors.\n",
    "* `boolean drawWatersheds`: if `true`, the algorithm will label the watersheds with value `0` in the `ImgLabeling`; if `false` the algorithm will label the first region as `0` and will not label the watersheds.\n",
    "* `RandomAccessibleInterval mask`: A binary used only if we want to do the computations in a specific region of the image. The computations will then only be done in the regions set to `1`.\n",
    "\n",
    "Some of the `Op`s take one or more `sigma`s, used in the case that you want to perform a gaussian beforehand. This can be helpful if you find that you are getting many small, erroneous watersheds. Note that the in-`Op` Gaussians can only be done on binary inputs, so if you want to do a pre-Gaussian on a nonbinary image you will have to do it before passing the image to the `Op`."
   ]
  },
  {
   "cell_type": "code",
   "execution_count": null,
   "metadata": {},
   "outputs": [],
   "source": [
    "import net.imglib2.FinalInterval\n",
    "\n",
    "image = ij.scifio().datasetIO().open(\"http://imagej.net/images/blobs.gif\")\n",
    "\n",
    "w = image.dimension(0); h = image.dimension(1)\n",
    "slice = FinalInterval.createMinSize(0, 0, 0, w, h, 1)\n",
    "input = ij.op().run(\"crop\", image, slice, true)\n",
    "\n",
    "ij.notebook().display(input)"
   ]
  },
  {
   "cell_type": "markdown",
   "metadata": {},
   "source": [
    "Let's run a Gaussian on the image first so that we only get the major watersheds. Otherwise we will get a lot of smaller regions, instead of only the major ones that we want:"
   ]
  },
  {
   "cell_type": "code",
   "execution_count": null,
   "metadata": {},
   "outputs": [],
   "source": [
    "sigma = 4\n",
    "\n",
    "blurredImg = ij.op().run(\"gauss\", input, sigma)\n",
    "\n",
    "ij.notebook().display(blurredImg)"
   ]
  },
  {
   "cell_type": "markdown",
   "metadata": {},
   "source": [
    "Now that we have our input, we just have to define the other booleans before we call the `Op` and then we can run it and obtain the index `Img` that paints each `LabelRegion` in a different grayscale value."
   ]
  },
  {
   "cell_type": "code",
   "execution_count": null,
   "metadata": {},
   "outputs": [],
   "source": [
    "import net.imglib2.type.logic.BitType\n",
    "useEightConnectivity = false\n",
    "\n",
    "drawWatersheds = false\n",
    "\n",
    "labeling = ij.op().image().watershed( blurredImg, useEightConnectivity, drawWatersheds)\n",
    "\n",
    "//display the indexImg of the ImgLabeling\n",
    "indexImg = labeling.getIndexImg()\n",
    "\n",
    "ij.notebook().display(indexImg)"
   ]
  },
  {
   "cell_type": "markdown",
   "metadata": {},
   "source": [
    "Now let's paint all of the watersheds onto a blank `Img` so that we can overlay them on the original. We can obtain all of the `LabelRegion`s in the `ImgLabeling` using the `LabelRegions` class, and we can create `Boundary` objects from each `LabelRegion` that will iterate over the edge pixels:"
   ]
  },
  {
   "cell_type": "code",
   "execution_count": null,
   "metadata": {},
   "outputs": [],
   "source": [
    "import net.imagej.ops.Ops\n",
    "import net.imagej.ops.special.computer.Computers\n",
    "import net.imglib2.roi.boundary.Boundary\n",
    "import net.imglib2.roi.labeling.LabelRegions\n",
    "import net.imglib2.type.numeric.integer.UnsignedByteType\n",
    "import net.imglib2.IterableInterval\n",
    "\n",
    "//create the edge image\n",
    "edgesImg = ij.op().create().img(input, new UnsignedByteType())\n",
    "edgesImgRA = edgesImg.randomAccess()\n",
    "maxValue = edgesImg.firstElement().getMaxValue()\n",
    "\n",
    "//get the regions from the ImgLabeling\n",
    "regions = new LabelRegions(labeling)\n",
    "\n",
    "//paint each edge region onto the edges image\n",
    "for(region in regions){\n",
    "    Boundary b = new Boundary(region)\n",
    "    bcursor = b.cursor()\n",
    "    while(bcursor.hasNext()){\n",
    "        bcursor.fwd();\n",
    "        edgesImgRA.setPosition(bcursor.getIntPosition(0), 0)\n",
    "        edgesImgRA.setPosition(bcursor.getIntPosition(1), 1)\n",
    "        edgesImgRA.get().setReal(maxValue)\n",
    "    }\n",
    "}\n",
    "\n",
    "ij.notebook().display(edgesImg)"
   ]
  },
  {
   "cell_type": "markdown",
   "metadata": {},
   "source": [
    "Now we can overlay our watershed bounds onto the original image:"
   ]
  },
  {
   "cell_type": "code",
   "execution_count": null,
   "metadata": {},
   "outputs": [],
   "source": [
    "import net.imglib2.view.Views\n",
    "\n",
    "//stack the centers on the input image\n",
    "stack = Views.stack(input, edgesImg)\n",
    "\n",
    "//TODO place in table next to original\n",
    "ij.notebook().display(stack)\n"
   ]
  }
 ],
 "metadata": {
  "kernelspec": {
   "display_name": "Groovy",
   "language": "groovy",
   "name": "groovy"
  },
  "language_info": {
   "codemirror_mode": "groovy",
   "file_extension": ".groovy",
   "mimetype": "",
   "name": "Groovy",
   "nbconverter_exporter": "",
   "version": "2.4.3"
  },
  "toc": {
   "base_numbering": 1,
   "nav_menu": {},
   "number_sections": false,
   "sideBar": false,
   "skip_h1_title": false,
   "title_cell": "Table of Contents",
   "title_sidebar": "Contents",
   "toc_cell": false,
   "toc_position": {},
   "toc_section_display": false,
   "toc_window_display": false
  }
 },
 "nbformat": 4,
 "nbformat_minor": 2
}
