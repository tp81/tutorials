{
 "cells": [
  {
   "cell_type": "markdown",
   "metadata": {},
   "source": [
    "# join Op (WIP)"
   ]
  },
  {
   "cell_type": "code",
   "execution_count": null,
   "metadata": {},
   "outputs": [],
   "source": [
    "//load ImageJ\n",
    "%classpath config resolver imagej.public https://maven.imagej.net/content/groups/public\n",
    "%classpath add mvn net.imagej imagej 2.0.0-rc-67\n",
    "\n",
    "//create ImageJ object\n",
    "ij = new net.imagej.ImageJ()"
   ]
  },
  {
   "cell_type": "markdown",
   "metadata": {},
   "source": [
    "This `Op` can be used to clean up your code, if you find yourself needing to perform two different `Op`s in succession multiple times in a row."
   ]
  },
  {
   "cell_type": "code",
   "execution_count": null,
   "metadata": {},
   "outputs": [],
   "source": [
    "input = ij.scifio().datasetIO().open(\"http://imagej.net/images/clown.png\")\n",
    "ij.notebook().display(input)"
   ]
  },
  {
   "cell_type": "markdown",
   "metadata": {},
   "source": [
    "We can call the `Op` as follows:"
   ]
  },
  {
   "cell_type": "code",
   "execution_count": null,
   "metadata": {},
   "outputs": [],
   "source": [
    "ij.op().help('join')"
   ]
  },
  {
   "cell_type": "markdown",
   "metadata": {},
   "source": [
    "There are a lot of different options here, but the `join()` `Op`s really only come in two flavors:\n",
    "\n",
    "* `Join2`: These `Op`s take two `UnaryOp`s as arguments, as well as the input to the first `Op` and, in the case of `Computer` joiners, the output to the second `Op`.\n",
    "\n",
    "* `JoinN`: Similar to the `Join2`, it takes an input to the first `Op` and an output in the case of `Computer`s, however instead of taking two separate `Op`s as arguments `JoinN` takes a `List<UnaryComputerOp>` or a `List<UnaryInplaceOp>`. Note that with this flavor you cannot mix and match `Inplace` and `Computer` `Op`s like you could with `Join2`.\n",
    "\n",
    "Also note that `NullaryOp`s and `BinaryOp`s are not allowed."
   ]
  },
  {
   "cell_type": "markdown",
   "metadata": {},
   "source": [
    "Let's say that we want to make a `join()` `Op` that binarizes an image. This requires two steps to do, which makes this perfect for a `join()` `Op`. First we have to crop the image to make it grayscale, and then we have to make a new `BitType()` image using our grayscale image as a template."
   ]
  },
  {
   "cell_type": "code",
   "execution_count": null,
   "metadata": {},
   "outputs": [],
   "source": [
    "import net.imglib2.FinalInterval\n",
    "\n",
    "width = input.dimension(0); height = input.dimension(1)\n",
    "cropInterval = FinalInterval.createMinSize(0, 0, 0, width, height, 1)\n",
    "grayscaleOp = Computers.unary(\"\")"
   ]
  }
 ],
 "metadata": {
  "kernelspec": {
   "display_name": "Groovy",
   "language": "groovy",
   "name": "groovy"
  },
  "language_info": {
   "codemirror_mode": "groovy",
   "file_extension": ".groovy",
   "mimetype": "",
   "name": "Groovy",
   "nbconverter_exporter": "",
   "version": "2.4.3"
  },
  "toc": {
   "base_numbering": 1,
   "nav_menu": {},
   "number_sections": false,
   "sideBar": false,
   "skip_h1_title": false,
   "title_cell": "Table of Contents",
   "title_sidebar": "Contents",
   "toc_cell": false,
   "toc_position": {},
   "toc_section_display": false,
   "toc_window_display": false
  }
 },
 "nbformat": 4,
 "nbformat_minor": 2
}
