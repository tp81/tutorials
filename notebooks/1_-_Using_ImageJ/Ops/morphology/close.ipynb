{
 "cells": [
  {
   "cell_type": "markdown",
   "metadata": {},
   "source": [
    "## Close Op"
   ]
  },
  {
   "cell_type": "code",
   "execution_count": null,
   "metadata": {},
   "outputs": [],
   "source": [
    "//load ImageJ\n",
    "%classpath config resolver imagej.public https://maven.imagej.net/content/groups/public\n",
    "%classpath add mvn net.imagej imagej 2.0.0-rc-67\n",
    "\n",
    "//create ImageJ object\n",
    "ij = new net.imagej.ImageJ()"
   ]
  },
  {
   "cell_type": "markdown",
   "metadata": {},
   "source": [
    "This op performs [morphological closing](https://en.wikipedia.org/wiki/Closing_(morphology)) on any binary image. Let's see how the `Op` is called:"
   ]
  },
  {
   "cell_type": "code",
   "execution_count": null,
   "metadata": {},
   "outputs": [],
   "source": [
    "ij.op().help(\"close\")"
   ]
  },
  {
   "cell_type": "markdown",
   "metadata": {},
   "source": [
    "Note the parameters here:\n",
    "\n",
    "* `IterableInterval out`: the output image\n",
    "* `RandomAccessibleInterval in1`: the input image\n",
    "* `List in2`: this parameter contains all of the [`Shape`](http://javadoc.scijava.org/ImgLib2/net/imglib2/algorithm/neighborhood/Shape.html)s that the `Op` will use to close (i.e. for each `Shape` in `in2` close the input (or output of the last `close` if there are 2+ `Shape`s in `in2`)).\n",
    "\n",
    "We need to get a binary image to perform any morphological operations. Let's get a grayscale image and then binarize it using [the Huang Threshold Op](../threshold/threshold.ipynb#Huang-Thresholding):"
   ]
  },
  {
   "cell_type": "code",
   "execution_count": null,
   "metadata": {},
   "outputs": [],
   "source": [
    "input_full = ij.scifio().datasetIO().open(\"http://imagej.net/images/blobs.gif\")\n",
    "\n",
    "//input_full has 3 channels. We only need one.\n",
    "input = ij.op().run(\"hyperSliceView\", input_full, 2, 0)\n",
    "\n",
    "//invert the image so that the blobs are \"on\" and the background \"off\"\n",
    "inverted = ij.op().run(\"create.img\", input)\n",
    "ij.op().run(\"invert\", inverted, input)\n",
    "\n",
    "binaryInput = ij.op().run(\"threshold.huang\", inverted)\n",
    "\n",
    "ij.notebook().display(binaryInput)"
   ]
  },
  {
   "cell_type": "markdown",
   "metadata": {},
   "source": [
    "As it states in the Wikipedia article, closing an image will bridge small gaps between objects. The smaller the gap, the wider the bridge:"
   ]
  },
  {
   "cell_type": "code",
   "execution_count": null,
   "metadata": {},
   "outputs": [],
   "source": [
    "import net.imglib2.algorithm.neighborhood.HyperSphereShape\n",
    "\n",
    "//create the shape that we are going to dilate the image with\n",
    "shape = new HyperSphereShape(6)\n",
    "\n",
    "output = ij.op().run(\"close\", null, binaryInput, [shape])\n",
    "\n",
    "ij.notebook().display(output)"
   ]
  },
  {
   "cell_type": "markdown",
   "metadata": {},
   "source": [
    "To show the difference, let's [stack](../transform/stackView.ipynb) the images to see the difference:"
   ]
  },
  {
   "cell_type": "code",
   "execution_count": null,
   "metadata": {},
   "outputs": [],
   "source": [
    "import net.imglib2.img.Img\n",
    "\n",
    "list = new ArrayList<Img>()\n",
    " \n",
    "list.add(binaryInput)\n",
    "list.add(output)\n",
    "\n",
    "stacked = ij.op().run(\"stackView\", list)\n",
    "\n",
    "ij.notebook().display(stacked)"
   ]
  },
  {
   "cell_type": "markdown",
   "metadata": {},
   "source": [
    "Note the yellow regions denoting the original blobs as well as the green bridges between the blobs."
   ]
  }
 ],
 "metadata": {
  "kernelspec": {
   "display_name": "Groovy",
   "language": "groovy",
   "name": "groovy"
  },
  "language_info": {
   "codemirror_mode": "groovy",
   "file_extension": ".groovy",
   "mimetype": "",
   "name": "Groovy",
   "nbconverter_exporter": "",
   "version": "2.4.3"
  },
  "toc": {
   "base_numbering": 1,
   "nav_menu": {},
   "number_sections": false,
   "sideBar": false,
   "skip_h1_title": false,
   "title_cell": "Table of Contents",
   "title_sidebar": "Contents",
   "toc_cell": false,
   "toc_position": {},
   "toc_section_display": false,
   "toc_window_display": false
  }
 },
 "nbformat": 4,
 "nbformat_minor": 2
}
