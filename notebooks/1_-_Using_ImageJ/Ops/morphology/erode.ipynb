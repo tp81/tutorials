{
 "cells": [
  {
   "cell_type": "markdown",
   "metadata": {},
   "source": [
    "## Erode Op"
   ]
  },
  {
   "cell_type": "code",
   "execution_count": null,
   "metadata": {},
   "outputs": [],
   "source": [
    "//load ImageJ\n",
    "%classpath config resolver imagej.public https://maven.imagej.net/content/groups/public\n",
    "%classpath add mvn net.imagej imagej 2.0.0-rc-67\n",
    "\n",
    "//create ImageJ object\n",
    "ij = new net.imagej.ImageJ()"
   ]
  },
  {
   "cell_type": "markdown",
   "metadata": {},
   "source": [
    "This op performs [morphological erosion](https://en.wikipedia.org/wiki/Erosion_(morphology)) on any binary image. Let's see how the `Op` is called:"
   ]
  },
  {
   "cell_type": "code",
   "execution_count": null,
   "metadata": {},
   "outputs": [],
   "source": [
    "ij.op().help(\"erode\")"
   ]
  },
  {
   "cell_type": "markdown",
   "metadata": {},
   "source": [
    "Note the parameters here:\n",
    "\n",
    "* `IterableInterval out`: the output image\n",
    "* `RandomAccessibleInterval in1`: the input image\n",
    "* `Shape in2`: the [`Shape`](http://javadoc.scijava.org/ImgLib2/net/imglib2/algorithm/neighborhood/Shape.html) that the `Op` will use to dilate each edge point of a structure. Note that in the Wikipedia article linked in the previous cell a circle was used; there are many other options (such as a rectangle) that are also available in ImageJ-Ops.\n",
    "* `List in2`: this parameter, only used in `ListErode`, contains a list of `Shape`s each used once in a series of erosions (i.e. for each `Shape` in the `List` call `DefaultErode` using the input (from the last `erode` if not the first) and that `Shape`)\n",
    "* `boolean isFull`: an **optional** parameter that the user can set to tell the `Op` if the **dimensions of the output** are bigger than the dimensions of the input **plus** the radius of the `Shape` parameter. This parameter should **never** be set to true if **no output is given**, since this will cause the output to be translated and therefore inaccurate.\n",
    "* `OutOfBoundsFactory f`: an **optional** parameter that tells the `Op` how to extend the input (so that the `Shape` can be applied outside each of the input's edge values without error). If no `OutOfBoundsFactory` is given all values outside the input `Interval` are set to the \"off\" value of the binary image.\n",
    "\n",
    "We need to get a binary image to perform any morphological operations. Let's get a grayscale image and then binarize it using [the Huang Threshold Op](../threshold/threshold.ipynb#Huang-Thresholding):"
   ]
  },
  {
   "cell_type": "code",
   "execution_count": null,
   "metadata": {},
   "outputs": [],
   "source": [
    "input_full = ij.scifio().datasetIO().open(\"http://imagej.net/images/blobs.gif\")\n",
    "\n",
    "//input_full has 3 channels. We only need one.\n",
    "input = ij.op().run(\"hyperSliceView\", input_full, 2, 0)\n",
    "\n",
    "//invert the image so that the blobs are \"on\" and the background \"off\"\n",
    "inverted = ij.op().run(\"create.img\", input)\n",
    "ij.op().run(\"invert\", inverted, input)\n",
    "\n",
    "binaryInput = ij.op().run(\"threshold.huang\", inverted)\n",
    "\n",
    "ij.notebook().display(binaryInput)"
   ]
  },
  {
   "cell_type": "markdown",
   "metadata": {},
   "source": [
    "Now that we have our image, let's erode it :"
   ]
  },
  {
   "cell_type": "code",
   "execution_count": null,
   "metadata": {},
   "outputs": [],
   "source": [
    "import net.imglib2.algorithm.neighborhood.HyperSphereShape\n",
    "\n",
    "//create the shape that we are going to dilate the image with\n",
    "shape = new HyperSphereShape(4)\n",
    "\n",
    "output = ij.op().run(\"erode\", null, binaryInput, shape, false)\n",
    "\n",
    "ij.notebook().display(output)"
   ]
  },
  {
   "cell_type": "markdown",
   "metadata": {},
   "source": [
    "To show the difference, let's [stack](../transform/stackView.ipynb) the images to see the difference:"
   ]
  },
  {
   "cell_type": "code",
   "execution_count": null,
   "metadata": {},
   "outputs": [],
   "source": [
    "import net.imglib2.img.Img\n",
    "\n",
    "list = new ArrayList<Img>()\n",
    " \n",
    "list.add(binaryInput)\n",
    "list.add(output)\n",
    "\n",
    "stacked = ij.op().run(\"stackView\", list)\n",
    "\n",
    "ij.notebook().display(stacked)"
   ]
  },
  {
   "cell_type": "markdown",
   "metadata": {},
   "source": [
    "Note the yellow regions, where the red original image and the green eroded image are the same, as well as the red borders that show where the erosion occurred."
   ]
  }
 ],
 "metadata": {
  "kernelspec": {
   "display_name": "Groovy",
   "language": "groovy",
   "name": "groovy"
  },
  "language_info": {
   "codemirror_mode": "groovy",
   "file_extension": ".groovy",
   "mimetype": "",
   "name": "Groovy",
   "nbconverter_exporter": "",
   "version": "2.4.3"
  },
  "toc": {
   "base_numbering": 1,
   "nav_menu": {},
   "number_sections": false,
   "sideBar": false,
   "skip_h1_title": false,
   "title_cell": "Table of Contents",
   "title_sidebar": "Contents",
   "toc_cell": false,
   "toc_position": {},
   "toc_section_display": false,
   "toc_window_display": false
  }
 },
 "nbformat": 4,
 "nbformat_minor": 2
}
