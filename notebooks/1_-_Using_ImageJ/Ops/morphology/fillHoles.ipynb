{
 "cells": [
  {
   "cell_type": "markdown",
   "metadata": {},
   "source": [
    "## FillHoles Op"
   ]
  },
  {
   "cell_type": "code",
   "execution_count": null,
   "metadata": {},
   "outputs": [],
   "source": [
    "//load ImageJ\n",
    "%classpath config resolver imagej.public https://maven.imagej.net/content/groups/public\n",
    "%classpath add mvn net.imagej imagej 2.0.0-rc-67\n",
    "\n",
    "//create ImageJ object\n",
    "ij = new net.imagej.ImageJ()"
   ]
  },
  {
   "cell_type": "markdown",
   "metadata": {},
   "source": [
    "This `Op` fills in any holes (defined as a group of \"off\" pixels surrounded \"on\" pixels on all sides) in a binary image. The `Op` is called as follows:"
   ]
  },
  {
   "cell_type": "code",
   "execution_count": null,
   "metadata": {},
   "outputs": [],
   "source": [
    "ij.op().help(\"fillHoles\")"
   ]
  },
  {
   "cell_type": "markdown",
   "metadata": {},
   "source": [
    "Note the parameters here:\n",
    "\n",
    "* `RandomAccessibleInterval out`: the **(optional)** output image.\n",
    "* `RandomAccessibleInterval in1`: the input image\n",
    "* `Shape structElement`: an **optional** parameter that defines how large of a space the `Op` searches when filling the holes. When the `Op` finds an \"off\" value that it determines is not an edge it will attempt to fill that \"off\" pixel and any neighboring values (where the `Neighborhood` is defined by this `Shape`) that are also \"off\" and not separated from the current value by an \"on\" pixel. Most of the time no value needs to be passed through, so thus we leave this parameter out of the notebook. \n",
    "\n",
    "We need to get a binary image to perform any morphological operations. Let's get a grayscale image and then binarize it using [the Huang Threshold Op](../threshold/threshold.ipynb#Huang-Thresholding):"
   ]
  },
  {
   "cell_type": "code",
   "execution_count": null,
   "metadata": {},
   "outputs": [],
   "source": [
    "input_full = ij.scifio().datasetIO().open(\"http://imagej.net/images/blobs.gif\")\n",
    "\n",
    "    //input_full has 3 channels. We only need one.\n",
    "    input = ij.op().run(\"hyperSliceView\", input_full, 2, 0)\n",
    "\n",
    "    binaryInput = ij.op().run(\"threshold.huang\", input)\n",
    "\n",
    "ij.notebook().display(binaryInput)"
   ]
  },
  {
   "cell_type": "markdown",
   "metadata": {},
   "source": [
    "Now that we have our image, let's fill in all of these holes. Note that the blobs that are on the edges of the image aren't really \"holes\" (since they are not surrounded by \"on\" pixels on all sides\", thus they will not be filled in:"
   ]
  },
  {
   "cell_type": "code",
   "execution_count": null,
   "metadata": {},
   "outputs": [],
   "source": [
    "import net.imglib2.algorithm.neighborhood.RectangleShape\n",
    "\n",
    "output = ij.op().run(\"fillHoles\", null, binaryInput)\n",
    "\n",
    "ij.notebook().display(output)"
   ]
  },
  {
   "cell_type": "markdown",
   "metadata": {},
   "source": [
    "To show the difference, let's [stack](../transform/stackView.ipynb) the images to see the difference:"
   ]
  },
  {
   "cell_type": "code",
   "execution_count": null,
   "metadata": {},
   "outputs": [],
   "source": [
    "import net.imglib2.img.Img\n",
    "\n",
    "list = new ArrayList<Img>()\n",
    " \n",
    "list.add(binaryInput)\n",
    "list.add(output)\n",
    "\n",
    "stacked = ij.op().run(\"stackView\", list)\n",
    "\n",
    "ij.notebook().display(stacked)"
   ]
  },
  {
   "cell_type": "markdown",
   "metadata": {},
   "source": [
    "Note the yellow regions where no blobs are found, as well as the green regions, where the holes (\"off\" in the red image) are now filled in (\"on\" in the green image)"
   ]
  }
 ],
 "metadata": {
  "kernelspec": {
   "display_name": "Groovy",
   "language": "groovy",
   "name": "groovy"
  },
  "language_info": {
   "codemirror_mode": "groovy",
   "file_extension": ".groovy",
   "mimetype": "",
   "name": "Groovy",
   "nbconverter_exporter": "",
   "version": "2.4.3"
  },
  "toc": {
   "base_numbering": 1,
   "nav_menu": {},
   "number_sections": false,
   "sideBar": false,
   "skip_h1_title": false,
   "title_cell": "Table of Contents",
   "title_sidebar": "Contents",
   "toc_cell": false,
   "toc_position": {},
   "toc_section_display": false,
   "toc_window_display": false
  }
 },
 "nbformat": 4,
 "nbformat_minor": 2
}
