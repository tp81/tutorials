{
 "cells": [
  {
   "cell_type": "markdown",
   "metadata": {},
   "source": [
    "## thinning Ops"
   ]
  },
  {
   "cell_type": "code",
   "execution_count": 1,
   "metadata": {},
   "outputs": [
    {
     "name": "stdout",
     "output_type": "stream",
     "text": [
      "Added new repo: imagej.public\n"
     ]
    },
    {
     "data": {
      "application/vnd.jupyter.widget-view+json": {
       "model_id": "",
       "version_major": 2,
       "version_minor": 0
      },
      "method": "display_data"
     },
     "metadata": {},
     "output_type": "display_data"
    },
    {
     "data": {
      "application/vnd.jupyter.widget-view+json": {
       "model_id": "e58164ae-16a1-48ac-8826-0c3801db9500",
       "version_major": 2,
       "version_minor": 0
      },
      "method": "display_data"
     },
     "metadata": {},
     "output_type": "display_data"
    },
    {
     "data": {
      "text/plain": [
       "net.imagej.ImageJ@1fed040c"
      ]
     },
     "execution_count": 1,
     "metadata": {},
     "output_type": "execute_result"
    }
   ],
   "source": [
    "//load ImageJ\n",
    "%classpath config resolver imagej.public https://maven.imagej.net/content/groups/public\n",
    "%classpath add mvn net.imagej imagej 2.0.0-rc-67\n",
    "\n",
    "//create ImageJ object\n",
    "ij = new net.imagej.ImageJ()"
   ]
  },
  {
   "cell_type": "markdown",
   "metadata": {},
   "source": [
    "This op performs [morphological thinning](https://en.wikipedia.org/wiki/Thinning_(morphology)) on any binary image. If you are not familiar with the concept of thinning, check out [skeletonization](https://en.wikipedia.org/wiki/Topological_skeleton), a very similar concept. Let's see how the `Op` is called:"
   ]
  },
  {
   "cell_type": "code",
   "execution_count": 2,
   "metadata": {},
   "outputs": [
    {
     "data": {
      "text/plain": [
       "Available operations:\n",
       "\t(RandomAccessibleInterval out?) =\n",
       "\tnet.imagej.ops.morphology.thin.ThinGuoHall(\n",
       "\t\tRandomAccessibleInterval out?,\n",
       "\t\tRandomAccessibleInterval in)"
      ]
     },
     "execution_count": 2,
     "metadata": {},
     "output_type": "execute_result"
    }
   ],
   "source": [
    "ij.op().help(\"thinGuoHall\")"
   ]
  },
  {
   "cell_type": "markdown",
   "metadata": {},
   "source": [
    "The thinning `Ops` are pretty straight forward, where all we need is an input image (as well as a preallocated output, if you have one).\n",
    "\n",
    "We need to get a binary image to perform any morphological operations. Let's get a grayscale image and then binarize it using [the Huang Threshold Op](../threshold/threshold.ipynb#Huang-Thresholding):"
   ]
  },
  {
   "cell_type": "code",
   "execution_count": 3,
   "metadata": {},
   "outputs": [
    {
     "name": "stdout",
     "output_type": "stream",
     "text": [
      "[INFO] Verifying GIF format\n",
      "[INFO] Reading dimensions\n",
      "[INFO] Reading data blocks\n"
     ]
    },
    {
     "data": {
      "image/png": "[encoded data removed]"
     },
     "execution_count": 3,
     "metadata": {},
     "output_type": "execute_result"
    }
   ],
   "source": [
    "import net.imglib2.FinalInterval\n",
    "\n",
    "input_full = ij.scifio().datasetIO().open(\"http://imagej.net/images/logo.gif\")\n",
    "\n",
    "//input_full has 3 channels. We only need one.\n",
    "input = ij.op().run(\"hyperSliceView\", input_full, 2, 0)\n",
    "\n",
    "//invert the image so that the blobs are \"on\" and the background \"off\"\n",
    "inverted = ij.op().run(\"create.img\", input)\n",
    "ij.op().run(\"invert\", inverted, input)\n",
    "\n",
    "binary = ij.op().run(\"threshold.huang\", inverted)\n",
    "\n",
    "ij.notebook().display(binary)"
   ]
  },
  {
   "cell_type": "markdown",
   "metadata": {},
   "source": [
    "Now that we have our image, let's thin it using all four of the thinning `Op`s so that we can see the difference between each one:"
   ]
  },
  {
   "cell_type": "code",
   "execution_count": 4,
   "metadata": {},
   "outputs": [
    {
     "data": {
      "image/png": "[encoded data removed]"
     },
     "execution_count": 4,
     "metadata": {},
     "output_type": "execute_result"
    }
   ],
   "source": [
    "guoHall = ij.op().run(\"thinGuoHall\", null, binary)\n",
    "\n",
    "ij.notebook().display(guoHall)"
   ]
  },
  {
   "cell_type": "code",
   "execution_count": 5,
   "metadata": {},
   "outputs": [
    {
     "data": {
      "image/png": "[encoded data removed]"
     },
     "execution_count": 5,
     "metadata": {},
     "output_type": "execute_result"
    }
   ],
   "source": [
    "hilditch = ij.op().run(\"thinHilditch\", null, binary)\n",
    "\n",
    "ij.notebook().display(hilditch)"
   ]
  },
  {
   "cell_type": "code",
   "execution_count": 6,
   "metadata": {},
   "outputs": [
    {
     "data": {
      "image/png": "[encoded data removed]"
     },
     "execution_count": 6,
     "metadata": {},
     "output_type": "execute_result"
    }
   ],
   "source": [
    "morphological = ij.op().run(\"thinMorphological\", null, binary)\n",
    "\n",
    "ij.notebook().display(morphological)"
   ]
  },
  {
   "cell_type": "code",
   "execution_count": 7,
   "metadata": {},
   "outputs": [
    {
     "data": {
      "image/png": "[encoded data removed]"
     },
     "execution_count": 7,
     "metadata": {},
     "output_type": "execute_result"
    }
   ],
   "source": [
    "zhangSuen = ij.op().run(\"thinZhangSuen\", null, binary)\n",
    "\n",
    "ij.notebook().display(zhangSuen)"
   ]
  }
 ],
 "metadata": {
  "kernelspec": {
   "display_name": "Groovy",
   "language": "groovy",
   "name": "groovy"
  },
  "language_info": {
   "codemirror_mode": "groovy",
   "file_extension": ".groovy",
   "mimetype": "",
   "name": "Groovy",
   "nbconverter_exporter": "",
   "version": "2.4.3"
  },
  "toc": {
   "base_numbering": 1,
   "nav_menu": {},
   "number_sections": false,
   "sideBar": false,
   "skip_h1_title": false,
   "title_cell": "Table of Contents",
   "title_sidebar": "Contents",
   "toc_cell": false,
   "toc_position": {},
   "toc_section_display": false,
   "toc_window_display": false
  }
 },
 "nbformat": 4,
 "nbformat_minor": 2
}
