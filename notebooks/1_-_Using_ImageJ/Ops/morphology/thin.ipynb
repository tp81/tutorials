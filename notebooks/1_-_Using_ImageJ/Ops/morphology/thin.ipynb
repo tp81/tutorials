{
 "cells": [
  {
   "cell_type": "markdown",
   "metadata": {},
   "source": [
    "## thinning Ops"
   ]
  },
  {
   "cell_type": "code",
   "execution_count": null,
   "metadata": {},
   "outputs": [],
   "source": [
    "//load ImageJ\n",
    "%classpath config resolver imagej.public https://maven.imagej.net/content/groups/public\n",
    "%classpath add mvn net.imagej imagej 2.0.0-rc-67\n",
    "\n",
    "//create ImageJ object\n",
    "ij = new net.imagej.ImageJ()"
   ]
  },
  {
   "cell_type": "markdown",
   "metadata": {},
   "source": [
    "This op performs [morphological thinning](https://en.wikipedia.org/wiki/Thinning_(morphology)) on any binary image. If you are not familiar with the concept of thinning, check out [skeletonization](https://en.wikipedia.org/wiki/Topological_skeleton), a very similar concept. Let's see how the `Op` is called:"
   ]
  },
  {
   "cell_type": "code",
   "execution_count": null,
   "metadata": {},
   "outputs": [],
   "source": [
    "ij.op().help(\"thinGuoHall\")"
   ]
  },
  {
   "cell_type": "markdown",
   "metadata": {},
   "source": [
    "The thinning `Ops` are pretty straight forward, where all we need is an input image (as well as a preallocated output, if you have one).\n",
    "\n",
    "We need to get a binary image to perform any morphological operations. Let's get a grayscale image and then binarize it using [the Huang Threshold Op](../threshold/threshold.ipynb#Huang-Thresholding):"
   ]
  },
  {
   "cell_type": "code",
   "execution_count": null,
   "metadata": {},
   "outputs": [],
   "source": [
    "import net.imglib2.FinalInterval\n",
    "\n",
    "input_full = ij.scifio().datasetIO().open(\"http://imagej.net/images/logo.gif\")\n",
    "\n",
    "//input_full has 3 channels. We only need one.\n",
    "input = ij.op().run(\"hyperSliceView\", input_full, 2, 0)\n",
    "\n",
    "//invert the image so that the blobs are \"on\" and the background \"off\"\n",
    "inverted = ij.op().run(\"create.img\", input)\n",
    "ij.op().run(\"invert\", inverted, input)\n",
    "\n",
    "binary = ij.op().run(\"threshold.huang\", inverted)\n",
    "\n",
    "ij.notebook().display(binary)"
   ]
  },
  {
   "cell_type": "markdown",
   "metadata": {},
   "source": [
    "Now that we have our image, let's thin it using all four of the thinning `Op`s so that we can see the difference between each one:"
   ]
  },
  {
   "cell_type": "code",
   "execution_count": null,
   "metadata": {},
   "outputs": [],
   "source": [
    "guoHall = ij.op().run(\"thinGuoHall\", null, binary)\n",
    "\n",
    "ij.notebook().display(guoHall)"
   ]
  },
  {
   "cell_type": "code",
   "execution_count": null,
   "metadata": {},
   "outputs": [],
   "source": [
    "hilditch = ij.op().run(\"thinHilditch\", null, binary)\n",
    "\n",
    "ij.notebook().display(hilditch)"
   ]
  },
  {
   "cell_type": "code",
   "execution_count": null,
   "metadata": {},
   "outputs": [],
   "source": [
    "morphological = ij.op().run(\"thinMorphological\", null, binary)\n",
    "\n",
    "ij.notebook().display(morphological)"
   ]
  },
  {
   "cell_type": "code",
   "execution_count": null,
   "metadata": {},
   "outputs": [],
   "source": [
    "zhangSuen = ij.op().run(\"thinZhangSuen\", null, binary)\n",
    "\n",
    "ij.notebook().display(zhangSuen)"
   ]
  }
 ],
 "metadata": {
  "kernelspec": {
   "display_name": "Groovy",
   "language": "groovy",
   "name": "groovy"
  },
  "language_info": {
   "codemirror_mode": "groovy",
   "file_extension": ".groovy",
   "mimetype": "",
   "name": "Groovy",
   "nbconverter_exporter": "",
   "version": "2.4.3"
  },
  "toc": {
   "base_numbering": 1,
   "nav_menu": {},
   "number_sections": false,
   "sideBar": false,
   "skip_h1_title": false,
   "title_cell": "Table of Contents",
   "title_sidebar": "Contents",
   "toc_cell": false,
   "toc_position": {},
   "toc_section_display": false,
   "toc_window_display": false
  }
 },
 "nbformat": 4,
 "nbformat_minor": 2
}
