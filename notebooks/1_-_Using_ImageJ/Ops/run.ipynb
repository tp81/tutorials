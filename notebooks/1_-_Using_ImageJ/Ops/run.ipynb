{
 "cells": [
  {
   "cell_type": "markdown",
   "metadata": {},
   "source": [
    "# Run Op (WIP: Not really started (at least we have the framework here though)"
   ]
  },
  {
   "cell_type": "code",
   "execution_count": null,
   "metadata": {},
   "outputs": [],
   "source": [
    "//load ImageJ\n",
    "%classpath config resolver imagej.public https://maven.imagej.net/content/groups/public\n",
    "%classpath add mvn net.imagej imagej 2.0.0-rc-67\n",
    "\n",
    "//create ImageJ object\n",
    "ij = new net.imagej.ImageJ()"
   ]
  },
  {
   "cell_type": "markdown",
   "metadata": {},
   "source": [
    "This op has the information you need if you know the operation that you want to do but do not know what you need to run it. Let's say, for example, that we want to run a Gaussian on [this image](http://imagej.net/images/abe.tif):"
   ]
  },
  {
   "cell_type": "code",
   "execution_count": null,
   "metadata": {},
   "outputs": [],
   "source": [
    "input = ij.scifio().datasetIO().open(\"http://imagej.net/images/abe.tif\")\n",
    "ij.notebook().display(input)"
   ]
  },
  {
   "cell_type": "markdown",
   "metadata": {},
   "source": [
    "we now have our image, but what else do we need to have to run our Gaussian? Using the Help Op, we can easily find out:"
   ]
  },
  {
   "cell_type": "code",
   "execution_count": null,
   "metadata": {},
   "outputs": [],
   "source": [
    "ij.op().help('gauss')"
   ]
  },
  {
   "cell_type": "markdown",
   "metadata": {},
   "source": [
    "Something of importance to note here: The `?` seen in the op signatures above implies that the associated parameter is optional. There are many reasons that an optional parameter is allowed: some Ops can create their own output but will allow you to pass through your own if you so choose, some Ops can have additional \n",
    "\n",
    "Our image is a `RandomAccessibleInterval`, so we are going to want to choose between the second and third choices in that list. Let's use the third choice, so that we can pass through a different `sigma` for each dimension if we want to. \n",
    "\n",
    "Note that the first parameter `out` and the `RandomAccessibleInterval` that we are assigning the result of the `Op` to are both optional. This is due to the fact that ImageJ-Ops is smart enough (in such cases) to either create an output and return it once finished or to take an output image as a parameter and populate it, then returning nothing. Since we have to choose one of these two options to get the output, let's not create an output image beforehand and just let the `Op` do the work. \n",
    "\n",
    "We are also allowed to pass through an `OutOfBoundsFactory` if we want to, which will change the way the Gaussian deals with the edges of the image, however this is a little complicated for the scope of this tutorial so we will leave it out."
   ]
  },
  {
   "cell_type": "code",
   "execution_count": null,
   "metadata": {},
   "outputs": [],
   "source": [
    "//sigmas for Gaussian\n",
    "sigmas = [2, 2] as double[]\n",
    "\n",
    "output = ij.op().filter().gauss(input, sigmas)\n",
    "\n",
    "ij.notebook().display(output)"
   ]
  },
  {
   "cell_type": "markdown",
   "metadata": {},
   "source": [
    "If you want to see a list of all of the different `Ops` that ImageJ-Ops has to offer, you can check them out [here](../ImageJ_Ops.ipynb)."
   ]
  }
 ],
 "metadata": {
  "kernelspec": {
   "display_name": "Groovy",
   "language": "groovy",
   "name": "groovy"
  },
  "language_info": {
   "codemirror_mode": "groovy",
   "file_extension": ".groovy",
   "mimetype": "",
   "name": "Groovy",
   "nbconverter_exporter": "",
   "version": "2.4.3"
  },
  "toc": {
   "base_numbering": 1,
   "nav_menu": {},
   "number_sections": false,
   "sideBar": false,
   "skip_h1_title": false,
   "title_cell": "Table of Contents",
   "title_sidebar": "Contents",
   "toc_cell": false,
   "toc_position": {},
   "toc_section_display": false,
   "toc_window_display": false
  }
 },
 "nbformat": 4,
 "nbformat_minor": 2
}
