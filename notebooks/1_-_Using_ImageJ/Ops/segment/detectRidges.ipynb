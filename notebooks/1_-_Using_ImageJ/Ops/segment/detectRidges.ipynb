{
 "cells": [
  {
   "cell_type": "markdown",
   "metadata": {},
   "source": [
    "# Ridge Detection"
   ]
  },
  {
   "cell_type": "code",
   "execution_count": null,
   "metadata": {},
   "outputs": [],
   "source": [
    "//load ImageJ\n",
    "%classpath config resolver imagej.public https://maven.imagej.net/content/groups/public\n",
    "%classpath add mvn net.imagej imagej 2.0.0-rc-67\n",
    "\n",
    "//create ImageJ object\n",
    "ij = new net.imagej.ImageJ()"
   ]
  },
  {
   "cell_type": "markdown",
   "metadata": {},
   "source": [
    "This notebook contains tutorials on both `segment.detectRidges()` and `segment.detectJunctions()`, two closely related `Op`s. Note that this `Op` is separater from Thorsten Wagner's [Ridge Detection Plugin](https://imagej.net/Ridge_Detection)."
   ]
  },
  {
   "cell_type": "code",
   "execution_count": null,
   "metadata": {},
   "outputs": [],
   "source": [
    "ij.op().help('detectRidges')"
   ]
  },
  {
   "cell_type": "code",
   "execution_count": null,
   "metadata": {},
   "outputs": [],
   "source": [
    "ij.op().help('detectJunctions')"
   ]
  },
  {
   "cell_type": "markdown",
   "metadata": {},
   "source": [
    "Here we have an image of a line graph ([Source](http://imagej.net/images/LineGraph.jpg)). We will invert the image for use later on."
   ]
  },
  {
   "cell_type": "code",
   "execution_count": null,
   "metadata": {},
   "outputs": [],
   "source": [
    "input = ij.scifio().datasetIO().open(\"https://imagej.net/images/LineGraph.jpg\")\n",
    "ij.notebook().display(input)                             "
   ]
  },
  {
   "cell_type": "markdown",
   "metadata": {},
   "source": [
    "We will invert the image and crop the image so that we only get the graph:"
   ]
  },
  {
   "cell_type": "code",
   "execution_count": null,
   "metadata": {},
   "outputs": [],
   "source": [
    "import net.imglib2.FinalInterval\n",
    "\n",
    "inverted = ij.op().create().img(input)\n",
    "ij.op().run(\"invert\", inverted, input)\n",
    "slice = FinalInterval.createMinMax(82, 20, 487, 282)\n",
    "cropped = ij.op().run(\"crop\", inverted, slice, true)\n",
    "ij.notebook().display(cropped)        "
   ]
  },
  {
   "cell_type": "markdown",
   "metadata": {},
   "source": [
    "Let's say that we want to find the intersections of the lines in the graph. To do this we first have to get a list of all of the lines, which can be done using `segment.detectRidges()`. The parameters required for `detectRidges()` can sometimes be confusing to a first-time user of the algorithm, so here is an explanation of what each of the confusing parameters signifies:\n",
    "\n",
    "* `width`: This parameter describes the length of the diameter of the lines that we wish to extract, i.e. from left edge to right edge (NOT center to edge).\n",
    "\n",
    "* `highThreshold`: This parameter describes the minimum pixel value at which the algorithm is allowed to declare a new line. The algorithm forms ridges by first finding the most \"line-like\" point and then recursively adding points to the line along both directions until the line ends. It then moves to the next most \"line-like\" point. We can estimate the value at which the most \"line-like\" point is actually not a line point at all by picking **a pixel value that is close (but a bit less than) the highest average pixel value on the lines**.\n",
    "\n",
    "* `lowThreshold`: This parameter describes the minimum pixel value that the algorithm will consider a \"line point\". When adding "
   ]
  },
  {
   "cell_type": "code",
   "execution_count": null,
   "metadata": {},
   "outputs": [],
   "source": [
    "//all of these parameters are easy to find in Fiji or in ImageJ\n",
    "\n",
    "//the width of the line, from edge to edge\n",
    "width = 1.3\n",
    "\n",
    "//the higher threshold value declares the minimum starting value upon which a line can be declared. \n",
    "//i.e. every line found by the algorithm must contain a pixel value at least as high as this value.\n",
    "highContrast = 150\n",
    "\n",
    "//the lower threshold value declares the minimum value that is considered a line point.\n",
    "//i.e. the algorithm will only consider a pixel value as a possible line point if it is above this value.\n",
    "lowContrast = 30\n",
    "\n",
    "//the minimum ridge length to be returned by the algorithm. \n",
    "//Useful to filter out skeletonized ridge ends and ridges caused by noise.\n",
    "ridgeLengthMin = 10\n",
    "\n",
    "lines = ij.op().run(\"detectRidges\", cropped, width, lowContrast, highContrast, ridgeLengthMin)\n",
    "\n",
    "println(lines.size())"
   ]
  },
  {
   "cell_type": "markdown",
   "metadata": {},
   "source": [
    "Let's paint all of the lines that we found onto a blank image so that we can compare to the original:"
   ]
  },
  {
   "cell_type": "code",
   "execution_count": null,
   "metadata": {},
   "outputs": [],
   "source": [
    "import net.imglib2.view.Views\n",
    "\n",
    "//create img\n",
    "linesImg = ij.op().create().img(cropped)\n",
    "linesImgRA = linesImg.randomAccess()\n",
    "maxValue = linesImg.firstElement().getMaxValue()\n",
    "\n",
    "//paint each line onto the img\n",
    "for(line in lines){\n",
    "    //get each point\n",
    "    for(int i = 0; i < line.numVertices(); i++){\n",
    "        point = line.vertex(i)\n",
    "        x = point.getDoublePosition(0) as int\n",
    "        linesImgRA.setPosition(x, 0)\n",
    "        y = point.getDoublePosition(1) as int\n",
    "        linesImgRA.setPosition(y, 1)\n",
    "        linesImgRA.get().setReal(maxValue)\n",
    "    }\n",
    "}\n",
    "\n",
    "//combine the two images into one image with two channels\n",
    "composite = Views.stack(cropped, linesImg)\n",
    "\n",
    "ij.notebook().display(composite)"
   ]
  },
  {
   "cell_type": "markdown",
   "metadata": {},
   "source": [
    "Now to find the intersections we have to use `detectJunctions`:"
   ]
  },
  {
   "cell_type": "code",
   "execution_count": null,
   "metadata": {},
   "outputs": [],
   "source": [
    "import net.imglib2.view.Views\n",
    "\n",
    "threshold = Math.sqrt(2)\n",
    "\n",
    "junctions = ij.op().run(\"detectJunctions\", lines, threshold)\n",
    "junctionsImg = ij.op().create().img(cropped)\n",
    "junctionsImgRA = junctionsImg.randomAccess()\n",
    "\n",
    "println(junctions.size())\n",
    "\n",
    "for(junction in junctions){\n",
    "    x = junction.getDoublePosition(0) as int\n",
    "    y = junction.getDoublePosition(1) as int\n",
    "    for(int dx = -5; dx < 6; dx++){\n",
    "        for(int dy = -5; dy < 6; dy++){\n",
    "            junctionsImgRA.setPosition(x + dx, 0)\n",
    "            junctionsImgRA.setPosition(y + dy, 1)\n",
    "            junctionsImgRA.get().setReal(maxValue)\n",
    "        }\n",
    "    }\n",
    "}\n",
    "\n",
    "completeComposite = Views.stack(cropped, linesImg, junctionsImg)\n",
    "\n",
    "ij.notebook().display(completeComposite)"
   ]
  },
  {
   "cell_type": "markdown",
   "metadata": {},
   "source": [
    "Note that (for the most part) `detectJunctions` was able to find all of the junctions in the image (as well as some faulty junctions that might be able to be removed by smoothing `detectRidges`' parameters)."
   ]
  }
 ],
 "metadata": {
  "kernelspec": {
   "display_name": "Groovy",
   "language": "groovy",
   "name": "groovy"
  },
  "language_info": {
   "codemirror_mode": "groovy",
   "file_extension": ".groovy",
   "mimetype": "",
   "name": "Groovy",
   "nbconverter_exporter": "",
   "version": "2.4.3"
  },
  "toc": {
   "base_numbering": 1,
   "nav_menu": {},
   "number_sections": false,
   "sideBar": false,
   "skip_h1_title": false,
   "title_cell": "Table of Contents",
   "title_sidebar": "Contents",
   "toc_cell": false,
   "toc_position": {},
   "toc_section_display": false,
   "toc_window_display": false
  }
 },
 "nbformat": 4,
 "nbformat_minor": 2
}
