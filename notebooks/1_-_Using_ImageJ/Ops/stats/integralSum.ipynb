{
 "cells": [
  {
   "cell_type": "markdown",
   "metadata": {},
   "source": [
    "## Integral Sum"
   ]
  },
  {
   "cell_type": "code",
   "execution_count": 1,
   "metadata": {},
   "outputs": [
    {
     "name": "stdout",
     "output_type": "stream",
     "text": [
      "Added new repo: imagej.public\n"
     ]
    },
    {
     "data": {
      "application/vnd.jupyter.widget-view+json": {
       "model_id": "",
       "version_major": 2,
       "version_minor": 0
      },
      "method": "display_data"
     },
     "metadata": {},
     "output_type": "display_data"
    },
    {
     "data": {
      "application/vnd.jupyter.widget-view+json": {
       "model_id": "05a2e99f-7cb0-4a0e-a297-37126c6697cc",
       "version_major": 2,
       "version_minor": 0
      },
      "method": "display_data"
     },
     "metadata": {},
     "output_type": "display_data"
    },
    {
     "data": {
      "text/plain": [
       "net.imagej.ImageJ@50987afc"
      ]
     },
     "execution_count": 1,
     "metadata": {},
     "output_type": "execute_result"
    }
   ],
   "source": [
    "//load ImageJ\n",
    "%classpath config resolver imagej.public https://maven.imagej.net/content/groups/public\n",
    "%classpath add mvn net.imagej imagej 2.0.0-rc-67\n",
    "\n",
    "//create ImageJ object\n",
    "ij = new net.imagej.ImageJ()"
   ]
  },
  {
   "cell_type": "markdown",
   "metadata": {},
   "source": [
    "This `Op` calculates the sum of a subregion of an `Img` using a [Summed-area table](https://en.wikipedia.org/wiki/Summed-area_table), a procedure that . This notebook will differ from the flow of most of the other `stats` `Op`s since this `Op` is a little more complicated; let's call `help()` to see how it is called:"
   ]
  },
  {
   "cell_type": "code",
   "execution_count": 5,
   "metadata": {},
   "outputs": [
    {
     "data": {
      "text/plain": [
       "Available operations:\n",
       "\t(DoubleType out?) =\n",
       "\tnet.imagej.ops.stats.IntegralSum(\n",
       "\t\tDoubleType out?,\n",
       "\t\tRectangleNeighborhood in)"
      ]
     },
     "execution_count": 5,
     "metadata": {},
     "output_type": "execute_result"
    }
   ],
   "source": [
    "ij.op().help('integralSum')"
   ]
  },
  {
   "cell_type": "markdown",
   "metadata": {},
   "source": [
    "As you can see the `Op` takes a [`RectangleNeighborhood`] (INSERT LINK) as input. This is because the `Op` calculated the sum over a given subregion of the `Img`, something that a `RectangleNeighborhood` is designed to provide. Let's start by creating an `Img`:"
   ]
  },
  {
   "cell_type": "code",
   "execution_count": 6,
   "metadata": {},
   "outputs": [
    {
     "data": {
      "image/png": "[encoded data removed]"
     },
     "execution_count": 6,
     "metadata": {},
     "output_type": "execute_result"
    }
   ],
   "source": [
    "ramp = ij.op().run(\"create.img\", [150, 100])\n",
    "formula = \"p[0] + p[1]\"\n",
    "ij.op().image().equation(ramp, formula)\n",
    "\n",
    "ij.notebook().display(ramp)"
   ]
  },
  {
   "cell_type": "markdown",
   "metadata": {},
   "source": [
    "Now that we have an `Img` we can create a `RectangleNeighborhood` (using a `RectangleNeighborhoodFactory`) to pass through to the `Op`:"
   ]
  },
  {
   "cell_type": "code",
   "execution_count": 12,
   "metadata": {},
   "outputs": [
    {
     "data": {
      "text/plain": [
       "net.imglib2.algorithm.neighborhood.RectangleNeighborhood@7e879fff"
      ]
     },
     "execution_count": 12,
     "metadata": {},
     "output_type": "execute_result"
    }
   ],
   "source": [
    "import net.imglib2.algorithm.neighborhood.RectangleNeighborhood\n",
    "\n",
    "//our current position in the neighborhood. This is not really important in this use case \n",
    "//since all we care about is the region as a whole (since we are summing each pixel), \n",
    "//however in other applications it can be useful.\n",
    "position = [5, 5] as long[]\n",
    "\n",
    "//The top left corner of the neighborhood\n",
    "min = [0, 0] as long[]\n",
    "\n",
    "//The bottom right corner of the neighborhood\n",
    "max = [10, 10] as long[]\n",
    "\n",
    "//An Interval object that defines the span of the image. This is, again, \n",
    "//not really important for our use case, ut we can pass through our ramp image since\n",
    "//all Imgs are Intervals\n",
    "span = ramp\n",
    "\n",
    "//A RandomAccess that allows us to access all of the data values of our Img\n",
    "randomAccess = ramp.randomAccess()\n",
    "\n",
    "neighborhood = RectangleNeighborhood.factory().create(position, min, max, span, randomAccess)"
   ]
  },
  {
   "cell_type": "markdown",
   "metadata": {},
   "source": [
    "Now that we have our `RectangleNeighborhood` we can pass it through to `integralSum()`:"
   ]
  },
  {
   "cell_type": "code",
   "execution_count": 10,
   "metadata": {},
   "outputs": [
    {
     "data": {
      "text/plain": [
       "0.0"
      ]
     },
     "execution_count": 10,
     "metadata": {},
     "output_type": "execute_result"
    }
   ],
   "source": [
    "import net.imglib2.type.numeric.real.DoubleType\n",
    "\n",
    "output = new DoubleType()\n",
    "\n",
    "ij.op().stats().integralSum(output, neighborhood)\n",
    "\n",
    "output"
   ]
  },
  {
   "cell_type": "code",
   "execution_count": null,
   "metadata": {},
   "outputs": [],
   "source": []
  }
 ],
 "metadata": {
  "kernelspec": {
   "display_name": "Groovy",
   "language": "groovy",
   "name": "groovy"
  },
  "language_info": {
   "codemirror_mode": "groovy",
   "file_extension": ".groovy",
   "mimetype": "",
   "name": "Groovy",
   "nbconverter_exporter": "",
   "version": "2.4.3"
  },
  "toc": {
   "base_numbering": 1,
   "nav_menu": {},
   "number_sections": false,
   "sideBar": false,
   "skip_h1_title": false,
   "title_cell": "Table of Contents",
   "title_sidebar": "Contents",
   "toc_cell": false,
   "toc_position": {},
   "toc_section_display": false,
   "toc_window_display": false
  }
 },
 "nbformat": 4,
 "nbformat_minor": 2
}
