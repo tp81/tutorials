{
 "cells": [
  {
   "cell_type": "markdown",
   "metadata": {},
   "source": [
    "## Quantile"
   ]
  },
  {
   "cell_type": "code",
   "execution_count": null,
   "metadata": {},
   "outputs": [],
   "source": [
    "//load ImageJ\n",
    "%classpath config resolver imagej.public https://maven.imagej.net/content/groups/public\n",
    "%classpath add mvn net.imagej imagej 2.0.0-rc-67\n",
    "\n",
    "//create ImageJ object\n",
    "ij = new net.imagej.ImageJ()"
   ]
  },
  {
   "cell_type": "markdown",
   "metadata": {},
   "source": [
    "Given a decimal `x` such that `0 <= x < 100`, this `Op` provides the `x * 100`th [Quantile](https://en.wikipedia.org/wiki/Percentile) on any [`Iterable`](https://docs.oracle.com/javase/8/docs/api/java/lang/Iterable.html). This `Op` is used by the [`percentile`](percentile.ipynb) `Op`, and most times it is preferable to use `percentile` instead."
   ]
  },
  {
   "cell_type": "code",
   "execution_count": null,
   "metadata": {},
   "outputs": [],
   "source": [
    "sinusoid32 = ij.op().run(\"create.img\", [150, 100])\n",
    "formula = \"63 * (Math.cos(0.3*p[0]) + Math.sin(0.3*p[1])) + 127\"\n",
    "ij.op().image().equation(sinusoid32, formula)\n",
    "\n",
    "ij.notebook().display(sinusoid32)"
   ]
  },
  {
   "cell_type": "markdown",
   "metadata": {},
   "source": [
    "All `Img`s are `Iterable`s, so we can just pass through the `Img` to `quantile()`:"
   ]
  },
  {
   "cell_type": "code",
   "execution_count": null,
   "metadata": {},
   "outputs": [],
   "source": [
    "import net.imglib2.type.numeric.real.DoubleType\n",
    "\n",
    "percents = [0, 0.25, 0.5, 0.75, 0.999]\n",
    "\n",
    "for(percent in percents)\n",
    "    println(((percent * 100) as int) + \"th quantile = \" + ij.op().stats().quantile(sinusoid32, percent))"
   ]
  }
 ],
 "metadata": {
  "kernelspec": {
   "display_name": "Groovy",
   "language": "groovy",
   "name": "groovy"
  },
  "language_info": {
   "codemirror_mode": "groovy",
   "file_extension": ".groovy",
   "mimetype": "",
   "name": "Groovy",
   "nbconverter_exporter": "",
   "version": "2.4.3"
  },
  "toc": {
   "base_numbering": 1,
   "nav_menu": {},
   "number_sections": false,
   "sideBar": false,
   "skip_h1_title": false,
   "title_cell": "Table of Contents",
   "title_sidebar": "Contents",
   "toc_cell": false,
   "toc_position": {},
   "toc_section_display": false,
   "toc_window_display": false
  }
 },
 "nbformat": 4,
 "nbformat_minor": 2
}
