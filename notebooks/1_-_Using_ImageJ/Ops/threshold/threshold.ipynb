{
 "cells": [
  {
   "cell_type": "markdown",
   "metadata": {},
   "source": [
    "# Thresholding"
   ]
  },
  {
   "cell_type": "code",
   "execution_count": null,
   "metadata": {},
   "outputs": [],
   "source": [
    "//load ImageJ\n",
    "%classpath config resolver imagej.public https://maven.imagej.net/content/groups/public\n",
    "%classpath add mvn net.imagej imagej 2.0.0-rc-67\n",
    "\n",
    "//create ImageJ object\n",
    "ij = new net.imagej.ImageJ()"
   ]
  },
  {
   "cell_type": "markdown",
   "metadata": {},
   "source": [
    "There are many cases in which you might want a binary image. For example, let's say you want to binarize this image:"
   ]
  },
  {
   "cell_type": "code",
   "execution_count": null,
   "metadata": {},
   "outputs": [],
   "source": [
    "input = ij.scifio().datasetIO().open(\"http://imagej.net/images/lymp.tif\")\n",
    "\n",
    "ij.notebook().display(input)"
   ]
  },
  {
   "cell_type": "markdown",
   "metadata": {},
   "source": [
    "Fortunately for you, ImageJ-Ops features many different algorithms that can be used to do so. Let's take a look at them!"
   ]
  },
  {
   "cell_type": "markdown",
   "metadata": {},
   "source": [
    "# [Huang Thresholding](https://imagej.net/Auto_Threshold#Huang)"
   ]
  },
  {
   "cell_type": "code",
   "execution_count": null,
   "metadata": {},
   "outputs": [],
   "source": [
    "huang = ij.op().run(\"threshold.huang\", input)\n",
    "\n",
    "//TODO compare to original\n",
    "ij.notebook().display(huang)"
   ]
  },
  {
   "cell_type": "markdown",
   "metadata": {},
   "source": [
    "## IJ1 Thresholding"
   ]
  },
  {
   "cell_type": "code",
   "execution_count": null,
   "metadata": {},
   "outputs": [],
   "source": [
    "ij1 = ij.op().run(\"threshold.ij1\", input)\n",
    "\n",
    "//TODO compare to original\n",
    "ij.notebook().display(ij1)"
   ]
  },
  {
   "cell_type": "markdown",
   "metadata": {},
   "source": [
    "## [Intermodes Thresholding](https://imagej.net/Auto_Threshold#Intermodes)"
   ]
  },
  {
   "cell_type": "code",
   "execution_count": null,
   "metadata": {},
   "outputs": [],
   "source": [
    "intermodes = ij.op().run(\"threshold.intermodes\", input)\n",
    "\n",
    "//TODO compare to original\n",
    "ij.notebook().display(intermodes)"
   ]
  },
  {
   "cell_type": "markdown",
   "metadata": {},
   "source": [
    "# [IsoData](https://imagej.net/Auto_Threshold#IsoData)"
   ]
  },
  {
   "cell_type": "code",
   "execution_count": null,
   "metadata": {},
   "outputs": [],
   "source": [
    "isoData = ij.op().run(\"threshold.isoData\", input)\n",
    "\n",
    "//TODO compare to original\n",
    "ij.notebook().display(isoData)"
   ]
  },
  {
   "cell_type": "markdown",
   "metadata": {},
   "source": [
    "# [Li](https://imagej.net/Auto_Threshold#Li)"
   ]
  },
  {
   "cell_type": "code",
   "execution_count": null,
   "metadata": {},
   "outputs": [],
   "source": [
    "li = ij.op().run(\"threshold.li\", input)\n",
    "\n",
    "//TODO compare to original\n",
    "ij.notebook().display(li)"
   ]
  },
  {
   "cell_type": "markdown",
   "metadata": {},
   "source": [
    "# [MaxEntropy](https://imagej.net/Auto_Threshold#MaxEntropy)"
   ]
  },
  {
   "cell_type": "code",
   "execution_count": null,
   "metadata": {},
   "outputs": [],
   "source": [
    "maxEntropy = ij.op().run(\"threshold.maxEntropy\", input)\n",
    "\n",
    "//TODO compare to original\n",
    "ij.notebook().display(maxEntropy)"
   ]
  },
  {
   "cell_type": "markdown",
   "metadata": {},
   "source": [
    "# [Mean](https://imagej.net/Auto_Threshold#Mean)"
   ]
  },
  {
   "cell_type": "code",
   "execution_count": null,
   "metadata": {},
   "outputs": [],
   "source": [
    "mean = ij.op().run(\"threshold.mean\", input)\n",
    "\n",
    "//TODO compare to original\n",
    "ij.notebook().display(mean)"
   ]
  },
  {
   "cell_type": "markdown",
   "metadata": {},
   "source": [
    "# [MinError](https://imagej.net/Auto_Threshold#MinError.28I.29)"
   ]
  },
  {
   "cell_type": "code",
   "execution_count": null,
   "metadata": {},
   "outputs": [],
   "source": [
    "minError = ij.op().run(\"threshold.minError\", input)\n",
    "\n",
    "//TODO compare to original\n",
    "ij.notebook().display(minError)"
   ]
  },
  {
   "cell_type": "markdown",
   "metadata": {},
   "source": [
    "# [Minimum](https://imagej.net/Auto_Threshold#Minimum)"
   ]
  },
  {
   "cell_type": "code",
   "execution_count": null,
   "metadata": {},
   "outputs": [],
   "source": [
    "minimum = ij.op().run(\"threshold.minimum\", input)\n",
    "\n",
    "//TODO compare to original\n",
    "ij.notebook().display(minimum)"
   ]
  },
  {
   "cell_type": "markdown",
   "metadata": {},
   "source": [
    "# [Moments](https://imagej.net/Auto_Threshold#Moments)"
   ]
  },
  {
   "cell_type": "code",
   "execution_count": null,
   "metadata": {},
   "outputs": [],
   "source": [
    "moments = ij.op().run(\"threshold.moments\", input)\n",
    "\n",
    "//TODO compare to original\n",
    "ij.notebook().display(moments)"
   ]
  },
  {
   "cell_type": "markdown",
   "metadata": {},
   "source": [
    "# [Otsu](https://imagej.net/Auto_Threshold#Otsu)"
   ]
  },
  {
   "cell_type": "code",
   "execution_count": null,
   "metadata": {},
   "outputs": [],
   "source": [
    "otsu = ij.op().run(\"threshold.otsu\", input)\n",
    "\n",
    "//TODO compare to original\n",
    "ij.notebook().display(otsu)"
   ]
  },
  {
   "cell_type": "markdown",
   "metadata": {},
   "source": [
    "# [Percentile](https://imagej.net/Auto_Threshold#Percentile)"
   ]
  },
  {
   "cell_type": "code",
   "execution_count": null,
   "metadata": {},
   "outputs": [],
   "source": [
    "percentile = ij.op().run(\"threshold.percentile\", input)\n",
    "\n",
    "//TODO compare to original\n",
    "ij.notebook().display(percentile)"
   ]
  },
  {
   "cell_type": "markdown",
   "metadata": {},
   "source": [
    "# [RenyiEntropy](https://imagej.net/Auto_Threshold#RenyiEntropy)"
   ]
  },
  {
   "cell_type": "code",
   "execution_count": null,
   "metadata": {},
   "outputs": [],
   "source": [
    "renyiEntropy = ij.op().run(\"threshold.renyiEntropy\", input)\n",
    "\n",
    "//TODO compare to original\n",
    "ij.notebook().display(renyiEntropy)"
   ]
  },
  {
   "cell_type": "markdown",
   "metadata": {},
   "source": [
    "# [Shanbhag](https://imagej.net/Auto_Threshold#Shanbhag)"
   ]
  },
  {
   "cell_type": "code",
   "execution_count": null,
   "metadata": {},
   "outputs": [],
   "source": [
    "shanbhag = ij.op().run(\"threshold.shanbhag\", input)\n",
    "\n",
    "//TODO compare to original\n",
    "ij.notebook().display(shanbhag)"
   ]
  },
  {
   "cell_type": "markdown",
   "metadata": {},
   "source": [
    "# [Triangle](https://imagej.net/Auto_Threshold#Triangle)"
   ]
  },
  {
   "cell_type": "code",
   "execution_count": null,
   "metadata": {},
   "outputs": [],
   "source": [
    "triangle = ij.op().run(\"threshold.triangle\", input)\n",
    "\n",
    "//TODO compare to original\n",
    "ij.notebook().display(triangle)"
   ]
  },
  {
   "cell_type": "markdown",
   "metadata": {},
   "source": [
    "# [Yen](https://imagej.net/Auto_Threshold#Yen)"
   ]
  },
  {
   "cell_type": "code",
   "execution_count": null,
   "metadata": {},
   "outputs": [],
   "source": [
    "yen = ij.op().run(\"threshold.yen\", input)\n",
    "\n",
    "//TODO compare to original\n",
    "ij.notebook().display(yen)"
   ]
  }
 ],
 "metadata": {
  "kernelspec": {
   "display_name": "Groovy",
   "language": "groovy",
   "name": "groovy"
  },
  "language_info": {
   "codemirror_mode": "groovy",
   "file_extension": ".groovy",
   "mimetype": "",
   "name": "Groovy",
   "nbconverter_exporter": "",
   "version": "2.4.3"
  },
  "toc": {
   "base_numbering": 1,
   "nav_menu": {},
   "number_sections": false,
   "sideBar": false,
   "skip_h1_title": false,
   "title_cell": "Table of Contents",
   "title_sidebar": "Contents",
   "toc_cell": false,
   "toc_position": {},
   "toc_section_display": false,
   "toc_window_display": false
  }
 },
 "nbformat": 4,
 "nbformat_minor": 2
}
