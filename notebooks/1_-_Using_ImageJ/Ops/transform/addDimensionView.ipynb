{
 "cells": [
  {
   "cell_type": "markdown",
   "metadata": {},
   "source": [
    "## AddDimensionView Op"
   ]
  },
  {
   "cell_type": "code",
   "execution_count": 1,
   "metadata": {},
   "outputs": [
    {
     "name": "stdout",
     "output_type": "stream",
     "text": [
      "Added new repo: imagej.public\n"
     ]
    },
    {
     "data": {
      "application/vnd.jupyter.widget-view+json": {
       "model_id": "",
       "version_major": 2,
       "version_minor": 0
      },
      "method": "display_data"
     },
     "metadata": {},
     "output_type": "display_data"
    },
    {
     "data": {
      "application/vnd.jupyter.widget-view+json": {
       "model_id": "35d2ccb1-ab42-449b-bc78-52c35316448c",
       "version_major": 2,
       "version_minor": 0
      },
      "method": "display_data"
     },
     "metadata": {},
     "output_type": "display_data"
    },
    {
     "data": {
      "text/plain": [
       "net.imagej.ImageJ@3baf5137"
      ]
     },
     "execution_count": 1,
     "metadata": {},
     "output_type": "execute_result"
    }
   ],
   "source": [
    "//load ImageJ\n",
    "%classpath config resolver imagej.public https://maven.imagej.net/content/groups/public\n",
    "%classpath add mvn net.imagej imagej 2.0.0-rc-67\n",
    "\n",
    "//create ImageJ object\n",
    "ij = new net.imagej.ImageJ()"
   ]
  },
  {
   "cell_type": "markdown",
   "metadata": {},
   "source": [
    "This `Op` wraps the `Views.addDimension()` method of ImgLib2, adding another dimension to a n-dimensional `RandomAccessible` or `RandomAccessibleInterval`. Let's see how the `Op` is called: "
   ]
  },
  {
   "cell_type": "code",
   "execution_count": 2,
   "metadata": {},
   "outputs": [
    {
     "data": {
      "text/plain": [
       "Available operations:\n",
       "\t(IntervalView out) =\n",
       "\tnet.imagej.ops.transform.addDimensionView.AddDimensionViewMinMax(\n",
       "\t\tRandomAccessibleInterval in,\n",
       "\t\tlong minOfNewDim,\n",
       "\t\tlong maxOfNewDim)\n",
       "\t(MixedTransformView out) =\n",
       "\tnet.imagej.ops.transform.addDimensionView.DefaultAddDimensionView(\n",
       "\t\tRandomAccessible in)"
      ]
     },
     "execution_count": 2,
     "metadata": {},
     "output_type": "execute_result"
    }
   ],
   "source": [
    "ij.op().help('addDimensionView')"
   ]
  },
  {
   "cell_type": "markdown",
   "metadata": {},
   "source": [
    "Note that if our image is on an `Interval` then we have to pass through minimum and maximum coordinates for the new dimension that we are adding. Let's show this with an image:"
   ]
  },
  {
   "cell_type": "code",
   "execution_count": 3,
   "metadata": {},
   "outputs": [
    {
     "data": {
      "image/png": "[encoded data removed]"
     },
     "execution_count": 3,
     "metadata": {},
     "output_type": "execute_result"
    }
   ],
   "source": [
    "import net.imglib2.FinalInterval\n",
    "import net.imglib2.img.Img\n",
    "import net.imglib2.type.numeric.integer.UnsignedByteType\n",
    "\n",
    "dims = new FinalInterval(200, 150)\n",
    "\n",
    "input = ij.op().create().img(dims, new UnsignedByteType())\n",
    "equation = \"127 * Math.sin(p[0] / 4) + 128\"\n",
    "ij.op().run(\"equation\", input, equation)\n",
    "\n",
    "ij.notebook().display(input)"
   ]
  },
  {
   "cell_type": "markdown",
   "metadata": {},
   "source": [
    "Here is a two-dimensional image. Let's make it 3 dimensional. Because it is on an `Interval` we will have to pass through a minimum and a maximum:"
   ]
  },
  {
   "cell_type": "code",
   "execution_count": 4,
   "metadata": {},
   "outputs": [
    {
     "name": "stdout",
     "output_type": "stream",
     "text": [
      "[199, 149, 1]\n"
     ]
    },
    {
     "data": {
      "image/png": "[encoded data removed]"
     },
     "execution_count": 4,
     "metadata": {},
     "output_type": "execute_result"
    }
   ],
   "source": [
    "minimum = 0\n",
    "maximum = 1\n",
    "\n",
    "largerImg = ij.op().run(\"addDimensionView\", input, minimum, maximum)\n",
    "\n",
    "max = new long[largerImg.numDimensions()]\n",
    "\n",
    "largerImg.max(max)\n",
    "\n",
    "println(Arrays.toString(max))\n",
    "\n",
    "ij.notebook().display(largerImg)"
   ]
  },
  {
   "cell_type": "markdown",
   "metadata": {},
   "source": [
    "Now we have **color**! Note that the image displays as yellow because `addDimension` **does not** actually create any new data locations. Instead the `Op` **discards any information about the new dimension** when accessing the value at that location, thus leaving any `(x, y, z)` coordinate that we intend on accessing with the `(x, y)` coordinate that we know we have data for. Let's drive this point home with an example:"
   ]
  },
  {
   "cell_type": "code",
   "execution_count": 5,
   "metadata": {},
   "outputs": [
    {
     "data": {
      "image/png": "[encoded data removed]"
     },
     "execution_count": 5,
     "metadata": {},
     "output_type": "execute_result"
    }
   ],
   "source": [
    "cursor = largerImg.cursor()\n",
    "while(cursor.hasNext()){\n",
    "    cursor.fwd()\n",
    "    if(cursor.getLongPosition(2) == 0){\n",
    "        //if we are in the first z slice DO NOTHING\n",
    "    }\n",
    "    if(cursor.getLongPosition(2) == 1){\n",
    "        //if we are in the second z slice create a ramp\n",
    "        cursor.get().set(((cursor.getLongPosition(0) + cursor.getLongPosition(1)) / 2) as byte)\n",
    "    }\n",
    "}\n",
    "\n",
    "ij.notebook().display(largerImg)"
   ]
  },
  {
   "cell_type": "markdown",
   "metadata": {},
   "source": [
    "Note that our old sin pattern is completely overwritten. This is because (as stated above) `addDimension` creates an image where any reference to the new dimension is **dropped** when accessing a particular value. Better said,\n",
    "\n",
    "1. Even though in the last code segment we are only changing the value when the cursor is in the second z slice our `Op` our output image does **not** actually have a third dimension, instead dropping that third coordinate and then accessing the two-dimensional image at that point. This is why the sin pattern is overwritten in **both** slices.\n",
    "2. The image is yellow because as far as the our display method knows our image has two dimensions (which are painted as red and green), however because this image is really just a two-dimensional image with the cursor dropping the third dimension, we are getting the same intensity values for each slice (i.e. color). Equal amounts of red and green make yellow, hence the yellow image."
   ]
  }
 ],
 "metadata": {
  "kernelspec": {
   "display_name": "Groovy",
   "language": "groovy",
   "name": "groovy"
  },
  "language_info": {
   "codemirror_mode": "groovy",
   "file_extension": ".groovy",
   "mimetype": "",
   "name": "Groovy",
   "nbconverter_exporter": "",
   "version": "2.4.3"
  },
  "toc": {
   "base_numbering": 1,
   "nav_menu": {},
   "number_sections": false,
   "sideBar": false,
   "skip_h1_title": false,
   "title_cell": "Table of Contents",
   "title_sidebar": "Contents",
   "toc_cell": false,
   "toc_position": {},
   "toc_section_display": false,
   "toc_window_display": false
  }
 },
 "nbformat": 4,
 "nbformat_minor": 2
}
