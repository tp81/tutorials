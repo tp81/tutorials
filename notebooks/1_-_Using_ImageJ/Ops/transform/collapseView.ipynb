{
 "cells": [
  {
   "cell_type": "markdown",
   "metadata": {},
   "source": [
    "## CollapseView Op"
   ]
  },
  {
   "cell_type": "code",
   "execution_count": null,
   "metadata": {},
   "outputs": [],
   "source": [
    "//load ImageJ\n",
    "%classpath config resolver imagej.public https://maven.imagej.net/content/groups/public\n",
    "%classpath add jar /home/gabe/code/imagej/imagej-common/target/imagej-common-0.27.0-SNAPSHOT.jar\n",
    "%classpath add jar /home/gabe/code/gselzer/imagej-notebook/target/imagej-notebook-0.3.0-SNAPSHOT.jar\n",
    "%classpath add mvn net.imagej imagej 2.0.0-rc-67\n",
    "\n",
    "//create ImageJ object\n",
    "ij = new net.imagej.ImageJ()"
   ]
  },
  {
   "cell_type": "markdown",
   "metadata": {},
   "source": [
    "This `Op` wraps the `Views.collapse()` method of ImgLib2, collapsing the n-th dimension of a `RandomAccessible` or `RandomAccessibleInterval` into a [`Composite`](http://javadoc.scijava.org/ImgLib2/net/imglib2/view/composite/Composite.html), returning a (n-1) dimensional `RandomAccessible` or `RandomAccessibleInterval` or type `Composite`."
   ]
  },
  {
   "cell_type": "code",
   "execution_count": null,
   "metadata": {},
   "outputs": [],
   "source": [
    "ij.op().help('collapseView')"
   ]
  },
  {
   "cell_type": "markdown",
   "metadata": {},
   "source": [
    "One situation in which `collapseView` can be helpful is in the case that you have an image with 3 channels that you would like to convert to `ARGBType`:"
   ]
  },
  {
   "cell_type": "code",
   "execution_count": null,
   "metadata": {},
   "outputs": [],
   "source": [
    "input = ij.scifio().datasetIO().open(\"http://imagej.net/images/clown.png\")\n",
    "\n",
    "input"
   ]
  },
  {
   "cell_type": "markdown",
   "metadata": {},
   "source": [
    "Note that this image has 3 channels:"
   ]
  },
  {
   "cell_type": "code",
   "execution_count": null,
   "metadata": {},
   "outputs": [],
   "source": [
    "import net.imglib2.util.Intervals\n",
    "\n",
    "Arrays.toString( Intervals.dimensionsAsIntArray( input ) ) "
   ]
  },
  {
   "cell_type": "markdown",
   "metadata": {},
   "source": [
    "Let's convert this image to `ARGBType`. First we have to collapse the image into `Composite`s using [`collapseView`](collapseView.ipynb). Note that we have to cast our `Img` to a `RandomAccessibleInterval`. This is because `Img` extends both `RandomAccessibleInterval` and `RandomAccessible`, thus causing confusion on the part of the `Op` matcher:"
   ]
  },
  {
   "cell_type": "code",
   "execution_count": null,
   "metadata": {},
   "outputs": [],
   "source": [
    "import net.imglib2.view.Views\n",
    "\n",
    "collapsed = ij.op().run(\"collapseView\", input);\n",
    "\n",
    "//note that collapsed contains GenericComposites at each pixel, so we cannot display it (thus needing the null)\n",
    "null"
   ]
  },
  {
   "cell_type": "markdown",
   "metadata": {},
   "source": [
    "Now that we have our collapsed image we can use ImgLib2's [`Converter`](http://javadoc.scijava.org/ImgLib2/net/imglib2/converter/Converter.html) to take the values of the `GenericComposite` image from `collapseView` and convert them into `ARGBType`:"
   ]
  },
  {
   "cell_type": "code",
   "execution_count": null,
   "metadata": {},
   "outputs": [],
   "source": [
    "import net.imglib2.converter.Converter\n",
    "import net.imglib2.converter.Converters\n",
    "import net.imglib2.RandomAccessibleInterval\n",
    "import net.imglib2.type.numeric.ARGBType\n",
    "import net.imglib2.type.numeric.integer.UnsignedByteType\n",
    "import net.imglib2.view.composite.GenericComposite\n",
    "\n",
    "//create the GenericComposite to ARGBType Converter\n",
    "converter = new Converter<GenericComposite<UnsignedByteType>, ARGBType>() {\n",
    "    @Override\n",
    "    public void convert(GenericComposite<UnsignedByteType> input, ARGBType output) {\n",
    "        red = input.get(0).get()\n",
    "        green = input.get(1).get()\n",
    "        blue = input.get(2).get()\n",
    "        alpha = 0\n",
    "        value = output.rgba(red, green, blue, alpha)\n",
    "        output.set(value)\n",
    "    }\n",
    "}\n",
    "\n",
    "//use Converters and our new converter above to convert the GenericComposite image into an ARGBType image\n",
    "converted = Converters.convert( collapsed, converter, new ARGBType() )"
   ]
  },
  {
   "cell_type": "markdown",
   "metadata": {},
   "source": [
    "Now that we have our `ARGBType` image, let's check the dimensions again:"
   ]
  },
  {
   "cell_type": "code",
   "execution_count": null,
   "metadata": {},
   "outputs": [],
   "source": [
    "import net.imglib2.util.Intervals\n",
    "\n",
    "Arrays.toString( Intervals.dimensionsAsIntArray( converted ) ) "
   ]
  },
  {
   "cell_type": "markdown",
   "metadata": {},
   "source": [
    "Note that we have one dimension fewer than when we started before."
   ]
  }
 ],
 "metadata": {
  "kernelspec": {
   "display_name": "Groovy",
   "language": "groovy",
   "name": "groovy"
  },
  "language_info": {
   "codemirror_mode": "groovy",
   "file_extension": ".groovy",
   "mimetype": "",
   "name": "Groovy",
   "nbconverter_exporter": "",
   "version": "2.4.3"
  },
  "toc": {
   "base_numbering": 1,
   "nav_menu": {},
   "number_sections": false,
   "sideBar": false,
   "skip_h1_title": false,
   "title_cell": "Table of Contents",
   "title_sidebar": "Contents",
   "toc_cell": false,
   "toc_position": {},
   "toc_section_display": false,
   "toc_window_display": false
  }
 },
 "nbformat": 4,
 "nbformat_minor": 2
}
