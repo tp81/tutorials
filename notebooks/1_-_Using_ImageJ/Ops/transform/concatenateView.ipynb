{
 "cells": [
  {
   "cell_type": "markdown",
   "metadata": {},
   "source": [
    "## ConcatenateView Op"
   ]
  },
  {
   "cell_type": "code",
   "execution_count": null,
   "metadata": {},
   "outputs": [],
   "source": [
    "//load ImageJ\n",
    "%classpath config resolver imagej.public https://maven.imagej.net/content/groups/public\n",
    "%classpath add mvn net.imagej imagej 2.0.0-rc-67\n",
    "\n",
    "//create ImageJ object\n",
    "ij = new net.imagej.ImageJ()"
   ]
  },
  {
   "cell_type": "markdown",
   "metadata": {},
   "source": [
    "This `Op` wraps the `Views.concatenate()` method of ImgLib2, taking a `List` of n-dimensional `RandomAccessibleInterval`s with the same size in every dimension except one and **laying them side by side in the one dimension with different sizes** to form a single n-dimensional `RandomAccessibleInterval`. Let's see how this `Op` is called:"
   ]
  },
  {
   "cell_type": "code",
   "execution_count": null,
   "metadata": {},
   "outputs": [],
   "source": [
    "ij.op().help('concatenateView')"
   ]
  },
  {
   "cell_type": "markdown",
   "metadata": {},
   "source": [
    "We will look at the latter of the two, for this notebook. Let's start by creating a few two-dimensional images with the same height but different widths:"
   ]
  },
  {
   "cell_type": "code",
   "execution_count": null,
   "metadata": {},
   "outputs": [],
   "source": [
    "import net.imglib2.FinalInterval\n",
    "import net.imglib2.img.Img\n",
    "import net.imglib2.type.numeric.integer.UnsignedByteType\n",
    "\n",
    "dims1 = new FinalInterval(200, 150)\n",
    "\n",
    "imgList = new ArrayList<Img>()\n",
    "\n",
    "input1 = ij.op().create().img(dims1, new UnsignedByteType())\n",
    "equation1 = \"127 * Math.sin(p[0] / 4) + 128\"\n",
    "ij.op().run(\"equation\", input1, equation1)\n",
    "\n",
    "imgList.add(input1)\n",
    "\n",
    "ij.notebook().display(input1)"
   ]
  },
  {
   "cell_type": "code",
   "execution_count": null,
   "metadata": {},
   "outputs": [],
   "source": [
    "import net.imglib2.FinalInterval\n",
    "import net.imglib2.img.Img\n",
    "import net.imglib2.type.numeric.integer.UnsignedByteType\n",
    "\n",
    "dims2 = new FinalInterval(400, 150)\n",
    "\n",
    "input2 = ij.op().create().img(dims2, new UnsignedByteType())\n",
    "equation2 = \"63 *( Math.sin(p[0] / 4) + Math.cos(p[1] / 4) ) + 127\"\n",
    "ij.op().run(\"equation\", input2, equation2)\n",
    "\n",
    "imgList.add(input2)\n",
    "\n",
    "ij.notebook().display(input2)"
   ]
  },
  {
   "cell_type": "code",
   "execution_count": null,
   "metadata": {},
   "outputs": [],
   "source": [
    "import net.imglib2.FinalInterval\n",
    "import net.imglib2.img.Img\n",
    "import net.imglib2.type.numeric.integer.UnsignedByteType\n",
    "\n",
    "dims3 = new FinalInterval(100, 150)\n",
    "\n",
    "input3 = ij.op().create().img(dims3, new UnsignedByteType())\n",
    "equation3 = \"p[0] + p[1]\"\n",
    "ij.op().run(\"equation\", input3, equation3)\n",
    "\n",
    "imgList.add(input3)\n",
    "\n",
    "ij.notebook().display(input3)"
   ]
  },
  {
   "cell_type": "markdown",
   "metadata": {},
   "source": [
    "We can concatenate the images by passing `imgList` through to `concatenate()`. The `concatenationAxis` is the first axis (`concatenationAxis = 0`), since we want to lay them down side by side, not on top of each other (in this case, we would want `concatenationAxis = 1)`:"
   ]
  },
  {
   "cell_type": "code",
   "execution_count": null,
   "metadata": {},
   "outputs": [],
   "source": [
    "concatenationAxis = 0\n",
    "\n",
    "concatenated = ij.op().run(\"concatenateView\", imgList, concatenationAxis)\n",
    "\n",
    "ij.notebook().display(concatenated)"
   ]
  }
 ],
 "metadata": {
  "kernelspec": {
   "display_name": "Groovy",
   "language": "groovy",
   "name": "groovy"
  },
  "language_info": {
   "codemirror_mode": "groovy",
   "file_extension": ".groovy",
   "mimetype": "",
   "name": "Groovy",
   "nbconverter_exporter": "",
   "version": "2.4.3"
  },
  "toc": {
   "base_numbering": 1,
   "nav_menu": {},
   "number_sections": false,
   "sideBar": false,
   "skip_h1_title": false,
   "title_cell": "Table of Contents",
   "title_sidebar": "Contents",
   "toc_cell": false,
   "toc_position": {},
   "toc_section_display": false,
   "toc_window_display": false
  }
 },
 "nbformat": 4,
 "nbformat_minor": 2
}
