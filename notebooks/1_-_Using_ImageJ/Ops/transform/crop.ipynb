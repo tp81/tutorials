{
 "cells": [
  {
   "cell_type": "markdown",
   "metadata": {},
   "source": [
    "## Crop Op"
   ]
  },
  {
   "cell_type": "code",
   "execution_count": null,
   "metadata": {},
   "outputs": [],
   "source": [
    "//load ImageJ\n",
    "%classpath config resolver imagej.public https://maven.imagej.net/content/groups/public\n",
    "%classpath add mvn net.imagej imagej 2.0.0-rc-67\n",
    "\n",
    "//create ImageJ object\n",
    "ij = new net.imagej.ImageJ()"
   ]
  },
  {
   "cell_type": "markdown",
   "metadata": {},
   "source": [
    "This `Op` wraps the `Views.crop()` method of ImgLib2, returning a subregion of any input `RandomAccessibleInterval` or `Img`:"
   ]
  },
  {
   "cell_type": "code",
   "execution_count": null,
   "metadata": {},
   "outputs": [],
   "source": [
    "ij.op().help('crop')"
   ]
  },
  {
   "cell_type": "markdown",
   "metadata": {},
   "source": [
    "Note the parameters here:\n",
    "* `ImgPlus`/`RandomAccessibleInterval` `in1`: the input\n",
    "* `Interval in2`: this is the `Interval` that defines the subregion that you want. We will show how to create this below.\n",
    "* `boolean dropSingleDimensions?`: this optional parameter lets the `Op` remove any dimensions of length `1` if `dropSingleDimensions` is `true`, resulting in a 2-D image instead of a fake 3-D image.\n",
    "\n",
    "Let's get an image to show this off:"
   ]
  },
  {
   "cell_type": "code",
   "execution_count": null,
   "metadata": {},
   "outputs": [],
   "source": [
    "input = ij.scifio().datasetIO().open(\"http://imagej.net/images/clown.jpg\")\n",
    "\n",
    "ij.notebook().display(input)"
   ]
  },
  {
   "cell_type": "markdown",
   "metadata": {},
   "source": [
    "Let's take a look at that nose of his. We have to create a `FinalInterval`, and we will use `FinalInterval.createMinSize()` to do this. The `createMinSize()` function takes `2*n` parameters, where `n` is the number of the dimensions of the image. The first `n` parameters specify the minimum of the `Interval`, and the second `n` parameters specify the size (with the minimum included). So if, for example, you are working with a colored image in 3 channels, the size in the third dimension must be three to get all 3 colors. Note that we have 3 dimensions (width, height, color), so we will have 6 parameters:"
   ]
  },
  {
   "cell_type": "code",
   "execution_count": null,
   "metadata": {},
   "outputs": [],
   "source": [
    "import net.imglib2.FinalInterval\n",
    "\n",
    "interval = FinalInterval.createMinSize(15, 75, 0, 110, 100, 3)"
   ]
  },
  {
   "cell_type": "markdown",
   "metadata": {},
   "source": [
    "Now we pass the `FinalInterval` and the `Img` into the `Op`:"
   ]
  },
  {
   "cell_type": "code",
   "execution_count": null,
   "metadata": {},
   "outputs": [],
   "source": [
    "cropped = ij.op().transform().crop(input, interval, true)\n",
    "\n",
    "ij.notebook().display(cropped)"
   ]
  }
 ],
 "metadata": {
  "kernelspec": {
   "display_name": "Groovy",
   "language": "groovy",
   "name": "groovy"
  },
  "language_info": {
   "codemirror_mode": "groovy",
   "file_extension": ".groovy",
   "mimetype": "",
   "name": "Groovy",
   "nbconverter_exporter": "",
   "version": "2.4.3"
  },
  "toc": {
   "base_numbering": 1,
   "nav_menu": {},
   "number_sections": false,
   "sideBar": false,
   "skip_h1_title": false,
   "title_cell": "Table of Contents",
   "title_sidebar": "Contents",
   "toc_cell": false,
   "toc_position": {},
   "toc_section_display": false,
   "toc_window_display": false
  }
 },
 "nbformat": 4,
 "nbformat_minor": 2
}
