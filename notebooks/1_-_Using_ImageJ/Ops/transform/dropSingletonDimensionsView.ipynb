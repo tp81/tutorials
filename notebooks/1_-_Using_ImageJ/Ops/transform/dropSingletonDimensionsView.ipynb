{
 "cells": [
  {
   "cell_type": "markdown",
   "metadata": {},
   "source": [
    "## DropSingletonDimensionsView Op"
   ]
  },
  {
   "cell_type": "code",
   "execution_count": null,
   "metadata": {},
   "outputs": [],
   "source": [
    "//load ImageJ\n",
    "%classpath config resolver imagej.public https://maven.imagej.net/content/groups/public\n",
    "%classpath add mvn net.imagej imagej 2.0.0-rc-67\n",
    "\n",
    "//create ImageJ object\n",
    "ij = new net.imagej.ImageJ()"
   ]
  },
  {
   "cell_type": "markdown",
   "metadata": {},
   "source": [
    "This `Op` wraps the `Views.dropSingletonDimensions()` method of ImgLib2, removing any dimensions of size one from a `RandomAccessibleInterval`. Let's see how the `Op` is called:"
   ]
  },
  {
   "cell_type": "code",
   "execution_count": null,
   "metadata": {},
   "outputs": [],
   "source": [
    "ij.op().help('dropSingletonDimensionsView')"
   ]
  },
  {
   "cell_type": "markdown",
   "metadata": {},
   "source": [
    "All we need is a `RandomAccessibleInterval` to work on:"
   ]
  },
  {
   "cell_type": "code",
   "execution_count": null,
   "metadata": {},
   "outputs": [],
   "source": [
    "input = ij.scifio().datasetIO().open(\"http://imagej.net/images/clown.jpg\")\n",
    "\n",
    "ij.notebook().display(input)"
   ]
  },
  {
   "cell_type": "markdown",
   "metadata": {},
   "source": [
    "Note that a lot of `transform` `Op`s that cut down dimensions give the option to drop the single dimensions. We won't let them do this in this notebook so that we can illustrate the `Op`."
   ]
  },
  {
   "cell_type": "code",
   "execution_count": null,
   "metadata": {},
   "outputs": [],
   "source": [
    "import net.imglib2.FinalInterval\n",
    "\n",
    "interval = FinalInterval.createMinSize(0, 0, 0, input.dimension(0), input.dimension(1), 1)\n",
    "\n",
    "//the third argument, false, is for the dropSingleDimensions parameter. We don't want to drop them, hence false.\n",
    "cropped = ij.op().transform().crop(input, interval, false)\n",
    "\n",
    "ij.notebook().display(cropped)"
   ]
  },
  {
   "cell_type": "markdown",
   "metadata": {},
   "source": [
    "Let's take a look at the dimensions of this cropped image:"
   ]
  },
  {
   "cell_type": "code",
   "execution_count": null,
   "metadata": {},
   "outputs": [],
   "source": [
    "max = new long[cropped.numDimensions()]\n",
    "\n",
    "//since the minimum of the image will be at (0, 0), we can find the dimensions by looking at max.\n",
    "cropped.max(max)\n",
    "\n",
    "Arrays.toString(max)"
   ]
  },
  {
   "cell_type": "markdown",
   "metadata": {},
   "source": [
    "Note the third dimension's maximum is `0`, implying that there is one element in the third dimension. This is really just all that a two dimensional image is, so we can simplify this image by dropping the third dimension:"
   ]
  },
  {
   "cell_type": "code",
   "execution_count": null,
   "metadata": {},
   "outputs": [],
   "source": [
    "twoDimensional = ij.op().run(\"dropSingletonDimensionsView\", cropped)\n",
    "\n",
    "ij.notebook().display(twoDimensional)"
   ]
  },
  {
   "cell_type": "markdown",
   "metadata": {},
   "source": [
    "Looks exactly the same. Let's check the max again:"
   ]
  },
  {
   "cell_type": "code",
   "execution_count": null,
   "metadata": {},
   "outputs": [],
   "source": [
    "max = new long[twoDimensional.numDimensions()]\n",
    "\n",
    "//since the minimum of the image will be at (0, 0), we can find the dimensions by looking at max.\n",
    "twoDimensional.max(max)\n",
    "\n",
    "Arrays.toString(max)"
   ]
  },
  {
   "cell_type": "markdown",
   "metadata": {},
   "source": [
    "Now the third dimension was dropped, yielding a truly two-dimensional image."
   ]
  }
 ],
 "metadata": {
  "kernelspec": {
   "display_name": "Groovy",
   "language": "groovy",
   "name": "groovy"
  },
  "language_info": {
   "codemirror_mode": "groovy",
   "file_extension": ".groovy",
   "mimetype": "",
   "name": "Groovy",
   "nbconverter_exporter": "",
   "version": "2.4.3"
  },
  "toc": {
   "base_numbering": 1,
   "nav_menu": {},
   "number_sections": false,
   "sideBar": false,
   "skip_h1_title": false,
   "title_cell": "Table of Contents",
   "title_sidebar": "Contents",
   "toc_cell": false,
   "toc_position": {},
   "toc_section_display": false,
   "toc_window_display": false
  }
 },
 "nbformat": 4,
 "nbformat_minor": 2
}
