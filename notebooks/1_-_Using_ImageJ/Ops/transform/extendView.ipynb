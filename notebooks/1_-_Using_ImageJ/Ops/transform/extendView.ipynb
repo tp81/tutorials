{
 "cells": [
  {
   "cell_type": "markdown",
   "metadata": {},
   "source": [
    "## ExtendView Op"
   ]
  },
  {
   "cell_type": "code",
   "execution_count": null,
   "metadata": {},
   "outputs": [],
   "source": [
    "//load ImageJ\n",
    "%classpath config resolver imagej.public https://maven.imagej.net/content/groups/public\n",
    "%classpath add mvn net.imagej imagej 2.0.0-rc-67\n",
    "\n",
    "//create ImageJ object\n",
    "ij = new net.imagej.ImageJ()"
   ]
  },
  {
   "cell_type": "markdown",
   "metadata": {},
   "source": [
    "This `Op` wraps the `Views.extend()` method of ImgLib2, removing the borders of any `RandomAccessibleInterval` (which transforms it into a `RandomAccessible`). Let's see how it is called:"
   ]
  },
  {
   "cell_type": "code",
   "execution_count": null,
   "metadata": {},
   "outputs": [],
   "source": [
    "ij.op().help('extendView')"
   ]
  },
  {
   "cell_type": "markdown",
   "metadata": {},
   "source": [
    "Note that this `Op` takes an [`OutOfBoundsFactory`](http://javadoc.scijava.org/ImgLib2/net/imglib2/outofbounds/OutOfBoundsFactory.html) as input. The `OutOfBoundsFactory` gives `extendValue` a strategy for populating all of the new pixels outside of the original image. Most of the classes extending `OutOfBoundsFactory` already have their own `transform.extend()` `Op`, but this `Op` can be used if you define your own, or if you are not sure beforehand on which `OutOfBoundsFactory` to use. For this notebook, however, we will just use an `OutOfBoundsFactory` that is already defined, for simplicity."
   ]
  },
  {
   "cell_type": "code",
   "execution_count": null,
   "metadata": {},
   "outputs": [],
   "source": [
    "input = ij.scifio().datasetIO().open(\"http://imagej.net/images/clown.png\")\n",
    "\n",
    "ij.notebook().display(input)"
   ]
  },
  {
   "cell_type": "markdown",
   "metadata": {},
   "source": [
    "Let's find a more interesting section instead of running the `Op` on the whole image:"
   ]
  },
  {
   "cell_type": "code",
   "execution_count": null,
   "metadata": {},
   "outputs": [],
   "source": [
    "import net.imglib2.FinalInterval\n",
    "region = FinalInterval.createMinSize(30, 17, 0, 85, 78, 3)\n",
    "\n",
    "eye = ij.op().run(\"crop\", input, region)\n",
    "\n",
    "ij.notebook().display(eye)"
   ]
  },
  {
   "cell_type": "markdown",
   "metadata": {},
   "source": [
    "Now that we have a smaller section, let's extend the border. We have to create an `OutOfBoundsFactory`, so let's use [`OutOfBoundsMirrorExpWindowingFactory`](http://javadoc.scijava.org/ImgLib2/net/imglib2/outofbounds/OutOfBoundsMirrorExpWindowingFactory.html), an `OutOfBoundsFactory` that mirrors the image like `extendMirror`, however after a given distance (the default is `6`, but the constructor can take any `int`) the image fades to zero. We will also use `pad` so that we can see the new pixels:"
   ]
  },
  {
   "cell_type": "code",
   "execution_count": null,
   "metadata": {},
   "outputs": [],
   "source": [
    "def pad(image, extended, t, r, b, l) {\n",
    "  min = new long[image.numDimensions()]\n",
    "  max = new long[image.numDimensions()]\n",
    "  image.min(min)\n",
    "  image.max(max)\n",
    "  min[0] -= l; min[1] -= t; max[0] += r; max[1] += b\n",
    "  return ij.op().run(\"intervalView\", extended, min, max)\n",
    "}\n",
    "\n",
    "import net.imglib2.outofbounds.OutOfBoundsMirrorExpWindowingFactory\n",
    "factory = new OutOfBoundsMirrorExpWindowingFactory(20)\n",
    "\n",
    "extended = ij.op().run(\"extendView\", eye, factory)\n",
    "\n",
    "//let's extend our image out 20 pixels on each side\n",
    "padLength = 40\n",
    "padded = pad(eye, extended, padLength, padLength, padLength, padLength)\n",
    "\n",
    "ij.notebook().display(padded)"
   ]
  }
 ],
 "metadata": {
  "kernelspec": {
   "display_name": "Groovy",
   "language": "groovy",
   "name": "groovy"
  },
  "language_info": {
   "codemirror_mode": "groovy",
   "file_extension": ".groovy",
   "mimetype": "",
   "name": "Groovy",
   "nbconverter_exporter": "",
   "version": "2.4.3"
  },
  "toc": {
   "base_numbering": 1,
   "nav_menu": {},
   "number_sections": false,
   "sideBar": false,
   "skip_h1_title": false,
   "title_cell": "Table of Contents",
   "title_sidebar": "Contents",
   "toc_cell": false,
   "toc_position": {},
   "toc_section_display": false,
   "toc_window_display": false
  }
 },
 "nbformat": 4,
 "nbformat_minor": 2
}
