{
 "cells": [
  {
   "cell_type": "markdown",
   "metadata": {},
   "source": [
    "## ExtendZeroView Op"
   ]
  },
  {
   "cell_type": "code",
   "execution_count": null,
   "metadata": {},
   "outputs": [],
   "source": [
    "//load ImageJ\n",
    "%classpath config resolver imagej.public https://maven.imagej.net/content/groups/public\n",
    "%classpath add mvn net.imagej imagej 2.0.0-rc-67\n",
    "\n",
    "//create ImageJ object\n",
    "ij = new net.imagej.ImageJ()"
   ]
  },
  {
   "cell_type": "markdown",
   "metadata": {},
   "source": [
    "This `Op` wraps the `Views.extendZero()` method of ImgLib2, removing the borders of any `RandomAccessibleInterval` (which transforms it into a `RandomAccessible`) and filling in all the new pixels with `0`. Let's see how it is called:"
   ]
  },
  {
   "cell_type": "code",
   "execution_count": null,
   "metadata": {},
   "outputs": [],
   "source": [
    "ij.op().help('extendZeroView')"
   ]
  },
  {
   "cell_type": "markdown",
   "metadata": {},
   "source": [
    "Since this `Op` can't really vary using parameters because of its strict definition, we only have to pass through an input."
   ]
  },
  {
   "cell_type": "code",
   "execution_count": null,
   "metadata": {},
   "outputs": [],
   "source": [
    "input = ij.scifio().datasetIO().open(\"http://imagej.net/images/clown.png\")\n",
    "\n",
    "ij.notebook().display(input)"
   ]
  },
  {
   "cell_type": "markdown",
   "metadata": {},
   "source": [
    "Let's find a more interesting section instead of running the `Op` on the whole image:"
   ]
  },
  {
   "cell_type": "code",
   "execution_count": null,
   "metadata": {},
   "outputs": [],
   "source": [
    "import net.imglib2.FinalInterval\n",
    "region = FinalInterval.createMinSize(30, 17, 0, 85, 78, 3)\n",
    "\n",
    "eye = ij.op().run(\"crop\", input, region)\n",
    "\n",
    "ij.notebook().display(eye)"
   ]
  },
  {
   "cell_type": "markdown",
   "metadata": {},
   "source": [
    "Now that we have a smaller section, let's extend the border. We will also use `pad` so that we can see the new pixels:"
   ]
  },
  {
   "cell_type": "code",
   "execution_count": null,
   "metadata": {},
   "outputs": [],
   "source": [
    "def pad(image, extended, t, r, b, l) {\n",
    "  min = new long[image.numDimensions()]\n",
    "  max = new long[image.numDimensions()]\n",
    "  image.min(min)\n",
    "  image.max(max)\n",
    "  min[0] -= l; min[1] -= t; max[0] += r; max[1] += b\n",
    "  return ij.op().run(\"intervalView\", extended, min, max)\n",
    "}\n",
    "\n",
    "extended = ij.op().run(\"extendZeroView\", eye)\n",
    "\n",
    "//let's extend our image out 20 pixels on each side\n",
    "padLength = 40\n",
    "padded = pad(eye, extended, padLength, padLength, padLength, padLength)\n",
    "\n",
    "ij.notebook().display(padded)"
   ]
  }
 ],
 "metadata": {
  "kernelspec": {
   "display_name": "Groovy",
   "language": "groovy",
   "name": "groovy"
  },
  "language_info": {
   "codemirror_mode": "groovy",
   "file_extension": ".groovy",
   "mimetype": "",
   "name": "Groovy",
   "nbconverter_exporter": "",
   "version": "2.4.3"
  },
  "toc": {
   "base_numbering": 1,
   "nav_menu": {},
   "number_sections": false,
   "sideBar": false,
   "skip_h1_title": false,
   "title_cell": "Table of Contents",
   "title_sidebar": "Contents",
   "toc_cell": false,
   "toc_position": {},
   "toc_section_display": false,
   "toc_window_display": false
  }
 },
 "nbformat": 4,
 "nbformat_minor": 2
}
