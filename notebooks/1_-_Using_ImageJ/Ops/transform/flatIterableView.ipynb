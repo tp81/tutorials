{
 "cells": [
  {
   "cell_type": "markdown",
   "metadata": {},
   "source": [
    "## FlatIterableView Op"
   ]
  },
  {
   "cell_type": "code",
   "execution_count": 1,
   "metadata": {},
   "outputs": [
    {
     "name": "stdout",
     "output_type": "stream",
     "text": [
      "Added new repo: imagej.public\n"
     ]
    },
    {
     "data": {
      "application/vnd.jupyter.widget-view+json": {
       "model_id": "",
       "version_major": 2,
       "version_minor": 0
      },
      "method": "display_data"
     },
     "metadata": {},
     "output_type": "display_data"
    },
    {
     "data": {
      "application/vnd.jupyter.widget-view+json": {
       "model_id": "961533fc-65e5-454d-9449-3b9126f8f83c",
       "version_major": 2,
       "version_minor": 0
      },
      "method": "display_data"
     },
     "metadata": {},
     "output_type": "display_data"
    },
    {
     "data": {
      "text/plain": [
       "net.imagej.ImageJ@3baf5137"
      ]
     },
     "execution_count": 1,
     "metadata": {},
     "output_type": "execute_result"
    }
   ],
   "source": [
    "//load ImageJ\n",
    "%classpath config resolver imagej.public https://maven.imagej.net/content/groups/public\n",
    "%classpath add mvn net.imagej imagej 2.0.0-rc-67\n",
    "\n",
    "//create ImageJ object\n",
    "ij = new net.imagej.ImageJ()"
   ]
  },
  {
   "cell_type": "markdown",
   "metadata": {},
   "source": [
    "This `Op` wraps the `Views.flatIterable()` method of ImgLib2, taking any `RandomAccessibleInterval` and providing an `IterableInterval` output that iterates with a [`FlatIterationOrder`](http://javadoc.scijava.org/ImgLib2/net/imglib2/FlatIterationOrder.html) (where an increment in the cursor increases the position in the first dimension by 1, then, when the cursor is at the last position in a particular dimension, the cursor resets the position in the first dimension to 0 and increments the position in the second dimension). This can be particularily useful if it is of vital importance that you iterate an image in this method, as there are some types of images (for example, [`CellImg`](http://javadoc.scijava.org/ImgLib2/net/imglib2/img/cell/CellImg.html)) that do not iterate in this order."
   ]
  },
  {
   "cell_type": "code",
   "execution_count": 2,
   "metadata": {},
   "outputs": [
    {
     "data": {
      "text/plain": [
       "Available operations:\n",
       "\t(IterableInterval out) =\n",
       "\tnet.imagej.ops.transform.flatIterableView.DefaultFlatIterableView(\n",
       "\t\tRandomAccessibleInterval in)"
      ]
     },
     "execution_count": 2,
     "metadata": {},
     "output_type": "execute_result"
    }
   ],
   "source": [
    "ij.op().help('flatIterableView')"
   ]
  },
  {
   "cell_type": "markdown",
   "metadata": {},
   "source": [
    "Let's create a `CellImg` and iterate over it, to show that this iteration order is not flat. We will assign a unique, increasing value to each pixel to show the order:"
   ]
  },
  {
   "cell_type": "code",
   "execution_count": 3,
   "metadata": {},
   "outputs": [
    {
     "data": {
      "image/png": "[encoded data removed]"
     },
     "execution_count": 3,
     "metadata": {},
     "output_type": "execute_result"
    }
   ],
   "source": [
    "import net.imglib2.type.numeric.real.FloatType\n",
    "import net.imglib2.img.cell.CellImgFactory\n",
    "import net.imglib2.interpolation.randomaccess.NearestNeighborInterpolatorFactory\n",
    "\n",
    "//note that the factory is constructed with the type of the image and then the size of the cells within the image.\n",
    "//This has nothing to do with the size of the image itself.\n",
    "imgFactory = new CellImgFactory(new FloatType(), 80, 80)\n",
    "\n",
    "//here we create the image (with the numbers denoting the image size)\n",
    "cellImg = imgFactory.create(100, 100)\n",
    "\n",
    "cursor = cellImg.cursor()\n",
    "\n",
    "value = 1\n",
    "\n",
    "while(cursor.hasNext()){\n",
    "    cursor.next().set(value++)\n",
    "}\n",
    "\n",
    "ij.notebook().display(cellImg)"
   ]
  },
  {
   "cell_type": "markdown",
   "metadata": {},
   "source": [
    "As you can see, there is in fact a ramp within each of the cells, however the `Cursor` did **not** iterate in a flat iteration order. Let's transform this `CellImg` using `flatIterable` and create a ramp across the whole image:"
   ]
  },
  {
   "cell_type": "code",
   "execution_count": 4,
   "metadata": {},
   "outputs": [
    {
     "data": {
      "image/png": "[encoded data removed]"
     },
     "execution_count": 4,
     "metadata": {},
     "output_type": "execute_result"
    }
   ],
   "source": [
    "flat = ij.op().run(\"flatIterableView\", cellImg)\n",
    "\n",
    "flatIterableCursor = flat.cursor()\n",
    "\n",
    "value = 1\n",
    "\n",
    "while(flatIterableCursor.hasNext()){\n",
    "    flatIterableCursor.next().set(value++)\n",
    "}\n",
    "\n",
    "ij.notebook().display(flat)"
   ]
  },
  {
   "cell_type": "markdown",
   "metadata": {},
   "source": [
    "Note that `flatIterable` is one of the transform `Op`s, and all such `Op`s return a [`View`](http://javadoc.scijava.org/ImgLib2/net/imglib2/view/Views.html). This `View` actually updates the underlying image (i.e. `cellImg`), and as such if we look at `cellImg` it is exactly the same as `flat`, a reason as to why `flatIterable` can be very useful:"
   ]
  },
  {
   "cell_type": "code",
   "execution_count": 5,
   "metadata": {},
   "outputs": [
    {
     "data": {
      "image/png": "[encoded data removed]"
     },
     "execution_count": 5,
     "metadata": {},
     "output_type": "execute_result"
    }
   ],
   "source": [
    "ij.notebook().display(cellImg)"
   ]
  }
 ],
 "metadata": {
  "kernelspec": {
   "display_name": "Groovy",
   "language": "groovy",
   "name": "groovy"
  },
  "language_info": {
   "codemirror_mode": "groovy",
   "file_extension": ".groovy",
   "mimetype": "",
   "name": "Groovy",
   "nbconverter_exporter": "",
   "version": "2.4.3"
  },
  "toc": {
   "base_numbering": 1,
   "nav_menu": {},
   "number_sections": false,
   "sideBar": false,
   "skip_h1_title": false,
   "title_cell": "Table of Contents",
   "title_sidebar": "Contents",
   "toc_cell": false,
   "toc_position": {},
   "toc_section_display": false,
   "toc_window_display": false
  }
 },
 "nbformat": 4,
 "nbformat_minor": 2
}
