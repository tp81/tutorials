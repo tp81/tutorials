{
 "cells": [
  {
   "cell_type": "markdown",
   "metadata": {},
   "source": [
    "## HyperSliceView Op"
   ]
  },
  {
   "cell_type": "code",
   "execution_count": null,
   "metadata": {},
   "outputs": [],
   "source": [
    "//load ImageJ\n",
    "%classpath config resolver imagej.public https://maven.imagej.net/content/groups/public\n",
    "%classpath add mvn net.imagej imagej 2.0.0-rc-67\n",
    "\n",
    "//create ImageJ object\n",
    "ij = new net.imagej.ImageJ()"
   ]
  },
  {
   "cell_type": "markdown",
   "metadata": {},
   "source": [
    "This `Op` wraps the `Views.hyperSlice()` method of ImgLib2, taking one (N-1)-dimensional slice out of a N-dimensional `RandomAccessibleInterval`. Let's see how this `Op` is called:"
   ]
  },
  {
   "cell_type": "code",
   "execution_count": null,
   "metadata": {},
   "outputs": [],
   "source": [
    "ij.op().help('hyperSliceView')"
   ]
  },
  {
   "cell_type": "markdown",
   "metadata": {},
   "source": [
    "Let's outline the parameters, since this can be a bit confusing:\n",
    "* `RandomAccessibleInterval`/`RandomAccessible` `in`: The input image\n",
    "* `int d`: the dimension that we are going to make cuts in\n",
    "* `long pos`: the position along dimension 'd' that we want to extract\n",
    "\n",
    "Let's grab an 3-dimensional `Img` to illustrate this:"
   ]
  },
  {
   "cell_type": "code",
   "execution_count": null,
   "metadata": {},
   "outputs": [],
   "source": [
    "import net.imglib2.util.Intervals\n",
    "\n",
    "input = ij.scifio().datasetIO().open(\"http://imagej.net/images/peppers.gif\")\n",
    "\n",
    "ij.notebook().display(input)"
   ]
  },
  {
   "cell_type": "markdown",
   "metadata": {},
   "source": [
    "Let's say that we really only care about those green peppers. We can then simplify the image by taking a `hyperslice` through the second dimension, taking out the second (green) channel and leaving the red and blue ones behind. Since we are going to be taking out a channel (as opposed to taking out a certain width or height), `d` will be set to `2`, and because we want the green channel (as opposed to the red or blue channel), `pos` will (also) be set to `2`:"
   ]
  },
  {
   "cell_type": "code",
   "execution_count": null,
   "metadata": {},
   "outputs": [],
   "source": [
    "//dimension that we are slicing\n",
    "dimension = 2\n",
    "\n",
    "//slice from dimension that we want\n",
    "pos = 1\n",
    "\n",
    "output = ij.op().run(\"hyperSliceView\", input, dimension, pos)\n",
    "\n",
    "ij.notebook().display(output)"
   ]
  }
 ],
 "metadata": {
  "kernelspec": {
   "display_name": "Groovy",
   "language": "groovy",
   "name": "groovy"
  },
  "language_info": {
   "codemirror_mode": "groovy",
   "file_extension": ".groovy",
   "mimetype": "",
   "name": "Groovy",
   "nbconverter_exporter": "",
   "version": "2.4.3"
  },
  "toc": {
   "base_numbering": 1,
   "nav_menu": {},
   "number_sections": false,
   "sideBar": false,
   "skip_h1_title": false,
   "title_cell": "Table of Contents",
   "title_sidebar": "Contents",
   "toc_cell": false,
   "toc_position": {},
   "toc_section_display": false,
   "toc_window_display": false
  }
 },
 "nbformat": 4,
 "nbformat_minor": 2
}
