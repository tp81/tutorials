{
 "cells": [
  {
   "cell_type": "markdown",
   "metadata": {},
   "source": [
    "## IntervalView Op"
   ]
  },
  {
   "cell_type": "code",
   "execution_count": null,
   "metadata": {},
   "outputs": [],
   "source": [
    "//load ImageJ\n",
    "%classpath config resolver imagej.public https://maven.imagej.net/content/groups/public\n",
    "%classpath add mvn net.imagej imagej 2.0.0-rc-67\n",
    "\n",
    "//create ImageJ object\n",
    "ij = new net.imagej.ImageJ()"
   ]
  },
  {
   "cell_type": "markdown",
   "metadata": {},
   "source": [
    "This `Op` wraps the `Views.interval()` method of ImgLib2, creating an [`Interval`](http://javadoc.scijava.org/ImgLib2/net/imglib2/Interval.html) over any [`RandomAccessible`](http://javadoc.scijava.org/ImgLib2/net/imglib2/RandomAccessible.html). Often times `intervalView` is needed before calling an `Op` that requires a `RandomAccessibleInterval`, but the input that we want to pass through does not have the required `Interval`. Let's see how it is called:"
   ]
  },
  {
   "cell_type": "code",
   "execution_count": null,
   "metadata": {},
   "outputs": [],
   "source": [
    "ij.op().help('intervalView')"
   ]
  },
  {
   "cell_type": "markdown",
   "metadata": {},
   "source": [
    "As you can see we can either create our `Interval` beforehand, or we can just pass through a minimum and maximum and let the `Op` do the `Interval` creation for us. We will use the latter option in our example. Let's get an input image:"
   ]
  },
  {
   "cell_type": "code",
   "execution_count": null,
   "metadata": {},
   "outputs": [],
   "source": [
    "input = ij.scifio().datasetIO().open(\"http://imagej.net/images/clown.png\")\n",
    "\n",
    "ij.notebook().display(input)"
   ]
  },
  {
   "cell_type": "markdown",
   "metadata": {},
   "source": [
    "Let's find a more interesting section instead of running the `Op` on the whole image:"
   ]
  },
  {
   "cell_type": "code",
   "execution_count": null,
   "metadata": {},
   "outputs": [],
   "source": [
    "import net.imglib2.FinalInterval\n",
    "region = FinalInterval.createMinSize(30, 17, 0, 85, 78, 3)\n",
    "\n",
    "eye = ij.op().run(\"crop\", input, region)\n",
    "\n",
    "ij.notebook().display(eye)"
   ]
  },
  {
   "cell_type": "markdown",
   "metadata": {},
   "source": [
    "One of the easiest ways of getting a `RandomAccessible` is through using [`extendView`](extendView.ipynb) or any similar `Op`s."
   ]
  },
  {
   "cell_type": "code",
   "execution_count": null,
   "metadata": {},
   "outputs": [],
   "source": [
    "extended = ij.op().run(\"extendZeroView\", eye)\n",
    "\n",
    "ij.notebook().display(extended)"
   ]
  },
  {
   "cell_type": "markdown",
   "metadata": {},
   "source": [
    "Note that the above `display()` call errors, since `display` cannot display a `RandomAccessible` (i.e. an infinite image). This is one example where `intervalView` (on line 9) comes in handy (and this is why you see `intervalView` so many times in the notebooks):"
   ]
  },
  {
   "cell_type": "code",
   "execution_count": null,
   "metadata": {},
   "outputs": [],
   "source": [
    "//this function adds t pixels to the top of the given image interval, \n",
    "// r pixels to the right, b pixels to the bottom, and l pixels to the left:\n",
    "def pad(image, extended, t, r, b, l) {\n",
    "  min = new long[image.numDimensions()]\n",
    "  max = new long[image.numDimensions()]\n",
    "  image.min(min)\n",
    "  image.max(max)\n",
    "  min[0] -= l; min[1] -= t; max[0] += r; max[1] += b\n",
    "  return ij.op().run(\"intervalView\", extended, min, max)\n",
    "}\n",
    "\n",
    "//let's extend our image out 20 pixels on each side\n",
    "padLength = 40\n",
    "padded = pad(eye, extended, padLength, padLength, padLength, padLength)\n",
    "\n",
    "ij.notebook().display(padded)"
   ]
  },
  {
   "cell_type": "markdown",
   "metadata": {},
   "source": [
    "And now that can be passed to `display`."
   ]
  }
 ],
 "metadata": {
  "kernelspec": {
   "display_name": "Groovy",
   "language": "groovy",
   "name": "groovy"
  },
  "language_info": {
   "codemirror_mode": "groovy",
   "file_extension": ".groovy",
   "mimetype": "",
   "name": "Groovy",
   "nbconverter_exporter": "",
   "version": "2.4.3"
  },
  "toc": {
   "base_numbering": 1,
   "nav_menu": {},
   "number_sections": false,
   "sideBar": false,
   "skip_h1_title": false,
   "title_cell": "Table of Contents",
   "title_sidebar": "Contents",
   "toc_cell": false,
   "toc_position": {},
   "toc_section_display": false,
   "toc_window_display": false
  }
 },
 "nbformat": 4,
 "nbformat_minor": 2
}
