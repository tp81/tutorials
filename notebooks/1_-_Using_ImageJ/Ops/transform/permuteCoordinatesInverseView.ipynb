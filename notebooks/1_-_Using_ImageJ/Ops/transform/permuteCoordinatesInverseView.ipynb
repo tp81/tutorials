{
 "cells": [
  {
   "cell_type": "markdown",
   "metadata": {},
   "source": [
    "## PermuteCoordinatesInverseView Op"
   ]
  },
  {
   "cell_type": "code",
   "execution_count": null,
   "metadata": {},
   "outputs": [],
   "source": [
    "//load ImageJ\n",
    "%classpath config resolver imagej.public https://maven.imagej.net/content/groups/public\n",
    "%classpath add mvn net.imagej imagej 2.0.0-rc-67\n",
    "\n",
    "//create ImageJ object\n",
    "ij = new net.imagej.ImageJ()"
   ]
  },
  {
   "cell_type": "markdown",
   "metadata": {},
   "source": [
    "This `Op` wraps the `Views.permuteCoordinatesInverse()` method of ImgLib2, performing a [bijective permutation](https://en.wikipedia.org/wiki/Bijection) on the coordinates of any `RandomAccessibleInterval`. This `Op` is the inverse of [`permuteCoordinatesView`](permuteCoordinatesView.ipynb), meaning that it can undo the permutation caused by `permuteCoordinatesView`. Let's see how this `Op` is called:"
   ]
  },
  {
   "cell_type": "code",
   "execution_count": null,
   "metadata": {},
   "outputs": [],
   "source": [
    "ij.op().help('permuteCoordinatesInverseView')"
   ]
  },
  {
   "cell_type": "markdown",
   "metadata": {},
   "source": [
    "Let's look at the parameters of the `Op`:\n",
    "\n",
    "* `RandomAccessibleInterval in`: the input image\n",
    "* `int[] permutation`: an array defining a mapping of coordinates. The mapping is defined as follows: if `i` is any given column/row in an image, then `i` is mapped to `permutation[i]`. So if we have an `Img` of size `[5, 5]` and `permutation = [4, 3, 2, 1, 0]`, then column and row 0 are mapped to 4, column and row 1 are mapped to 3, and so on. However if `permutation = [1, 1, 1, 1, 1]` (which is in fact allowed by `permuteCoordinatesView`, then column and row 0 are mapped to 1, then  column and row 1 are mapped to 1, then column and row 2 are mapped to 1, and so on, matching all of the columns to the 2nd column in the `in`. This is not particularly useful, but it is something to be noted. Note that the array **must** be **equal in size** to the dimensions that are to be permuted, as determined by the value (or absence) of `d`.\n",
    "* `int d`: an **optional** parameter telling the `Op` which dimension to perform the permutation in. If parameter is not passed through then the `Op` will attempt to permute all of the dimensions."
   ]
  },
  {
   "cell_type": "code",
   "execution_count": null,
   "metadata": {},
   "outputs": [],
   "source": [
    "input = ij.scifio().datasetIO().open(\"http://imagej.net/images/ij-icon.gif\")\n",
    "\n",
    "ij.notebook().display(input)"
   ]
  },
  {
   "cell_type": "markdown",
   "metadata": {},
   "source": [
    "Let's say we have a [permuted](permuteCoordinatesView.ipynb) image that we did some work on:"
   ]
  },
  {
   "cell_type": "code",
   "execution_count": null,
   "metadata": {},
   "outputs": [],
   "source": [
    "permutation = [ 16, 17, 18, 19, 20, 21, 22, 23, 24, 25, 26, 27, 28, 29, 30, 31, 0, 1, 2, 3, 4, 5, 6, 7, 8, 9, 10, 11, 12, 13, 14, 8] as int[]\n",
    "\n",
    "permuted = ij.op().run(\"permuteCoordinatesView\", input, permutation, 0)\n",
    "\n",
    "ij.notebook().display(permuted)"
   ]
  },
  {
   "cell_type": "markdown",
   "metadata": {},
   "source": [
    "Now that we have done our work on the image we want to revert the columns back to normal. Instead of using `permuteCoordinatesView` again, which would cause us to have to create another `permutation` array, we can just pass the same array to `permuteCoordinatesInverseView` to revert the image:"
   ]
  },
  {
   "cell_type": "code",
   "execution_count": null,
   "metadata": {},
   "outputs": [],
   "source": [
    "permutedBack = ij.op().run(\"permuteCoordinatesInverseView\", permuted, inverse, 0)\n",
    "\n",
    "ij.notebook().display(permutedBack)"
   ]
  }
 ],
 "metadata": {
  "kernelspec": {
   "display_name": "Groovy",
   "language": "groovy",
   "name": "groovy"
  },
  "language_info": {
   "codemirror_mode": "groovy",
   "file_extension": ".groovy",
   "mimetype": "",
   "name": "Groovy",
   "nbconverter_exporter": "",
   "version": "2.4.3"
  },
  "toc": {
   "base_numbering": 1,
   "nav_menu": {},
   "number_sections": false,
   "sideBar": false,
   "skip_h1_title": false,
   "title_cell": "Table of Contents",
   "title_sidebar": "Contents",
   "toc_cell": false,
   "toc_position": {},
   "toc_section_display": false,
   "toc_window_display": false
  }
 },
 "nbformat": 4,
 "nbformat_minor": 2
}
