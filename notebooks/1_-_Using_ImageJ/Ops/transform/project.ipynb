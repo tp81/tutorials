{
 "cells": [
  {
   "cell_type": "markdown",
   "metadata": {},
   "source": [
    "## Project Op"
   ]
  },
  {
   "cell_type": "code",
   "execution_count": null,
   "metadata": {},
   "outputs": [],
   "source": [
    "//load ImageJ\n",
    "%classpath config resolver imagej.public https://maven.imagej.net/content/groups/public\n",
    "%classpath add mvn net.imagej imagej 2.0.0-rc-67\n",
    "\n",
    "//create ImageJ object\n",
    "ij = new net.imagej.ImageJ()"
   ]
  },
  {
   "cell_type": "markdown",
   "metadata": {},
   "source": [
    "This `Op` takes an N-dimensional `RandomAccessibleInterval` as input and performs an operation defined by the user along each line of pixels in a given dimension, producing for each line a value that is then stored in a provided (N-1)-dimensional output. `project` is called as follows:"
   ]
  },
  {
   "cell_type": "code",
   "execution_count": null,
   "metadata": {},
   "outputs": [],
   "source": [
    "ij.op().help('project')"
   ]
  },
  {
   "cell_type": "markdown",
   "metadata": {},
   "source": [
    "Note that all of the `project` `Op`s take the same parameters, so the choice on which `Op` to run is left to the `Op` Matcher."
   ]
  },
  {
   "cell_type": "code",
   "execution_count": null,
   "metadata": {},
   "outputs": [],
   "source": [
    "input = ij.scifio().datasetIO().open(\"http://imagej.net/images/clown.jpg\")\n",
    "\n",
    "ij.notebook().display(input)"
   ]
  },
  {
   "cell_type": "markdown",
   "metadata": {},
   "source": [
    "This clown has 3 channels, which are expressed as a third dimension. If we want to do some stats on the channels, we can use `project` to provide a image representation. Note that we have to create an `Op` instance (which we will call `statsOp`) that tells `project` what to do. Let's find the mean of all of the channels, which provides a nice grayscale image:"
   ]
  },
  {
   "cell_type": "code",
   "execution_count": null,
   "metadata": {},
   "outputs": [],
   "source": [
    "import net.imglib2.FinalInterval\n",
    "\n",
    "//create the output using only the first two dimensions of the input\n",
    "interval = new FinalInterval(input.dimension(0), input.dimension(1))\n",
    "imgType = input.firstElement()\n",
    "projected = ij.op().create().img(interval, imgType)\n",
    "\n",
    "//create the stats Op instance using op()\n",
    "statsOp = ij.op().op(\"stats.mean\", input)\n",
    "\n",
    "//do the projection in the second dimension\n",
    "projectDim = 2\n",
    "\n",
    "ij.op().run(\"project\", projected, input, statsOp, projectDim)\n",
    "\n",
    "ij.notebook().display(projected)"
   ]
  },
  {
   "cell_type": "markdown",
   "metadata": {},
   "source": [
    "There are many other [`stats` `Op`s](../stats) that can be used through `project`, but all `UnaryComputerOp`s can be used by `project`."
   ]
  }
 ],
 "metadata": {
  "kernelspec": {
   "display_name": "Groovy",
   "language": "groovy",
   "name": "groovy"
  },
  "language_info": {
   "codemirror_mode": "groovy",
   "file_extension": ".groovy",
   "mimetype": "",
   "name": "Groovy",
   "nbconverter_exporter": "",
   "version": "2.4.3"
  },
  "toc": {
   "base_numbering": 1,
   "nav_menu": {},
   "number_sections": false,
   "sideBar": false,
   "skip_h1_title": false,
   "title_cell": "Table of Contents",
   "title_sidebar": "Contents",
   "toc_cell": false,
   "toc_position": {},
   "toc_section_display": false,
   "toc_window_display": false
  }
 },
 "nbformat": 4,
 "nbformat_minor": 2
}
