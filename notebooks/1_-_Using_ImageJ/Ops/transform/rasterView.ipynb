{
 "cells": [
  {
   "cell_type": "markdown",
   "metadata": {},
   "source": [
    "## RasterView Op (WIP, Half completed)"
   ]
  },
  {
   "cell_type": "code",
   "execution_count": 1,
   "metadata": {},
   "outputs": [
    {
     "name": "stdout",
     "output_type": "stream",
     "text": [
      "Added new repo: imagej.public\n"
     ]
    },
    {
     "data": {
      "application/vnd.jupyter.widget-view+json": {
       "model_id": "",
       "version_major": 2,
       "version_minor": 0
      },
      "method": "display_data"
     },
     "metadata": {},
     "output_type": "display_data"
    },
    {
     "data": {
      "application/vnd.jupyter.widget-view+json": {
       "model_id": "b2c5f4ce-661f-4a2b-b89b-51f5bc46f862",
       "version_major": 2,
       "version_minor": 0
      },
      "method": "display_data"
     },
     "metadata": {},
     "output_type": "display_data"
    },
    {
     "data": {
      "text/plain": [
       "net.imagej.ImageJ@7b00c550"
      ]
     },
     "execution_count": 1,
     "metadata": {},
     "output_type": "execute_result"
    }
   ],
   "source": [
    "//load ImageJ\n",
    "%classpath config resolver imagej.public https://maven.imagej.net/content/groups/public\n",
    "%classpath add mvn net.imagej imagej 2.0.0-rc-67\n",
    "\n",
    "//create ImageJ object\n",
    "ij = new net.imagej.ImageJ()"
   ]
  },
  {
   "cell_type": "markdown",
   "metadata": {},
   "source": [
    "This `Op` wraps the `Views.raster()` method of ImgLib2, converting a [`RealRandomAccessible`](http://javadoc.scijava.org/ImgLib2/net/imglib2/RealRandomAccessible.html) into a [`RandomAccessible`](http://javadoc.scijava.org/ImgLib2/net/imglib2/RandomAccessible.html). In other words, this `Op` converts an image in real space (i.e. data values at non-integer locations) into an image in integer space."
   ]
  },
  {
   "cell_type": "code",
   "execution_count": 2,
   "metadata": {},
   "outputs": [
    {
     "data": {
      "text/plain": [
       "Available operations:\n",
       "\t(RandomAccessibleOnRealRandomAccessible out) =\n",
       "\tnet.imagej.ops.transform.rasterView.DefaultRasterView(\n",
       "\t\tRealRandomAccessible in)"
      ]
     },
     "execution_count": 2,
     "metadata": {},
     "output_type": "execute_result"
    }
   ],
   "source": [
    "ij.op().help('rasterView')"
   ]
  },
  {
   "cell_type": "markdown",
   "metadata": {},
   "source": [
    "Lots of times the `RealRandomAccessible` will come from [`interpolateView`](interpolateView.ipynb). Note that we cannot (yet) display the `RealRandomAccessible` in the notebooks, so for now we will display the input:"
   ]
  },
  {
   "cell_type": "code",
   "execution_count": 3,
   "metadata": {},
   "outputs": [
    {
     "ename": "expecting ')', found ',' @ line 4, column 63.   Accessible<DoubleType>(2, (pos, val) -> ",
     "evalue": "expecting ')', found ',' @ line 4, column 63.   Accessible<DoubleType>(2, (pos, val) -> ",
     "output_type": "error",
     "traceback": [
      "\u001b[1;31mexpecting ')', found ',' @ line 4, column 63.   Accessible<DoubleType>(2, (pos, val) -> \u001b[0;0m",
      "\u001b[1;31m                                 ^\u001b[0;0m",
      "\u001b[1;31m\u001b[0;0m",
      "\u001b[1;31m1 error\u001b[0;0m",
      "\u001b[1;31m\u001b[0;0m",
      "\u001b[0;31m\tat com.twosigma.beakerx.groovy.evaluator.GroovyCodeRunner.call(GroovyCodeRunner.java:55)\u001b[0;0m",
      "\u001b[0;31m\tat com.twosigma.beakerx.groovy.evaluator.GroovyCodeRunner.call(GroovyCodeRunner.java:32)\u001b[0;0m"
     ]
    }
   ],
   "source": [
    "import net.imglib2.position.FunctionRealRandomAccessible\n",
    "import net.imglib2.type.numeric.real.DoubleType\n",
    "\n",
    "realImg = new FunctionRealRandomAccessible<DoubleType>(2, (pos, val) -> val.set(1), DoubleType::new);"
   ]
  },
  {
   "cell_type": "code",
   "execution_count": 4,
   "metadata": {},
   "outputs": [
    {
     "name": "stdout",
     "output_type": "stream",
     "text": [
      "[INFO] Verifying GIF format\n",
      "[INFO] Reading dimensions\n",
      "[INFO] Reading data blocks\n"
     ]
    },
    {
     "data": {
      "image/png": "[encoded data removed]"
     },
     "execution_count": 4,
     "metadata": {},
     "output_type": "execute_result"
    }
   ],
   "source": [
    "import net.imglib2.interpolation.randomaccess.NearestNeighborInterpolatorFactory\n",
    "import net.imglib2.interpolation.randomaccess.NLinearInterpolatorFactory\n",
    "import net.imglib2.interpolation.randomaccess.LanczosInterpolatorFactory\n",
    "\n",
    "input = ij.scifio().datasetIO().open(\"http://imagej.net/images/ij-icon.gif\")\n",
    "\n",
    "extended = ij.op().run(\"extendZeroView\", input)\n",
    "interpolated= ij.op().run(\"interpolateView\", extended, new LanczosInterpolatorFactory())\n",
    "\n",
    "ij.notebook().display(input)"
   ]
  },
  {
   "cell_type": "markdown",
   "metadata": {},
   "source": [
    "Note that we can however interrogate decimal coordinates:"
   ]
  },
  {
   "cell_type": "code",
   "execution_count": 5,
   "metadata": {},
   "outputs": [
    {
     "name": "stdout",
     "output_type": "stream",
     "text": [
      "174.0\n"
     ]
    },
    {
     "data": {
      "text/plain": [
       "null"
      ]
     },
     "execution_count": 5,
     "metadata": {},
     "output_type": "execute_result"
    }
   ],
   "source": [
    "access = interpolated.realRandomAccess()\n",
    "\n",
    "//coordinates to interrogate\n",
    "x = 16.6 as double\n",
    "y = 10.2 as double\n",
    "\n",
    "//set the randomAccess to x in the first dimension and y in the second\n",
    "access.setPosition(x, 0)\n",
    "access.setPosition(y, 1)\n",
    "\n",
    "println(access.get().getRealDouble())"
   ]
  },
  {
   "cell_type": "markdown",
   "metadata": {},
   "source": [
    "Let's return to a `RandomAccessibleInterval` using `rasterView` and `intervalView`. Note that we have to use `intervalView` as well because `ij.notebook().display()` needs to have an `Interval` to display (i.e. it cannot display an unbounded image), and `rasterView` only returns an image extending `RandomAccessible` (i.e. an unbounded image):"
   ]
  },
  {
   "cell_type": "code",
   "execution_count": 6,
   "metadata": {},
   "outputs": [
    {
     "ename": "java.lang.ArrayIndexOutOfBoundsException",
     "evalue": " 41",
     "output_type": "error",
     "traceback": [
      "\u001b[1;31mjava.lang.ArrayIndexOutOfBoundsException: 41\u001b[0;0m",
      "\u001b[1;31m\tat net.imglib2.interpolation.randomaccess.LanczosInterpolator.lookUpLanczos(LanczosInterpolator.java:224)\u001b[0;0m",
      "\u001b[1;31m\tat net.imglib2.interpolation.randomaccess.LanczosInterpolator.get(LanczosInterpolator.java:188)\u001b[0;0m",
      "\u001b[1;31m\tat net.imglib2.interpolation.randomaccess.LanczosInterpolator.get(LanczosInterpolator.java:50)\u001b[0;0m",
      "\u001b[1;31m\tat net.imglib2.view.RandomAccessibleOnRealRandomAccessible$RandomAccessOnRealRandomAccessible.get(RandomAccessibleOnRealRandomAccessible.java:194)\u001b[0;0m",
      "\u001b[1;31m\tat net.imglib2.util.Util.getTypeFromInterval(Util.java:766)\u001b[0;0m",
      "\u001b[1;31m\tat net.imagej.notebook.DefaultNotebookService.isNarrowType(DefaultNotebookService.java:269)\u001b[0;0m",
      "\u001b[1;31m\tat net.imagej.notebook.DefaultNotebookService.display(DefaultNotebookService.java:97)\u001b[0;0m",
      "\u001b[1;31m\tat net.imagej.notebook.NotebookService.display(NotebookService.java:113)\u001b[0;0m",
      "\u001b[1;31m\tat net.imagej.notebook.NotebookService$display$0.call(Unknown Source)\u001b[0;0m",
      "\u001b[1;31m\tat this cell line 5\u001b[0;0m",
      "\u001b[0;31m\tat com.twosigma.beakerx.groovy.evaluator.GroovyCodeRunner.runScript(GroovyCodeRunner.java:94)\u001b[0;0m",
      "\u001b[0;31m\tat com.twosigma.beakerx.groovy.evaluator.GroovyCodeRunner.call(GroovyCodeRunner.java:59)\u001b[0;0m",
      "\u001b[0;31m\tat com.twosigma.beakerx.groovy.evaluator.GroovyCodeRunner.call(GroovyCodeRunner.java:32)\u001b[0;0m"
     ]
    }
   ],
   "source": [
    "rastered = ij.op().run(\"rasterView\", interpolated)\n",
    "\n",
    "intervaled = ij.op().run(\"intervalView\", rastered, input)\n",
    "\n",
    "ij.notebook().display(intervaled)"
   ]
  }
 ],
 "metadata": {
  "kernelspec": {
   "display_name": "Groovy",
   "language": "groovy",
   "name": "groovy"
  },
  "language_info": {
   "codemirror_mode": "groovy",
   "file_extension": ".groovy",
   "mimetype": "",
   "name": "Groovy",
   "nbconverter_exporter": "",
   "version": "2.4.3"
  },
  "toc": {
   "base_numbering": 1,
   "nav_menu": {},
   "number_sections": false,
   "sideBar": false,
   "skip_h1_title": false,
   "title_cell": "Table of Contents",
   "title_sidebar": "Contents",
   "toc_cell": false,
   "toc_position": {},
   "toc_section_display": false,
   "toc_window_display": false
  }
 },
 "nbformat": 4,
 "nbformat_minor": 2
}
