{
 "cells": [
  {
   "cell_type": "markdown",
   "metadata": {},
   "source": [
    "## RotateView Op"
   ]
  },
  {
   "cell_type": "code",
   "execution_count": null,
   "metadata": {},
   "outputs": [],
   "source": [
    "//load ImageJ\n",
    "%classpath config resolver imagej.public https://maven.imagej.net/content/groups/public\n",
    "%classpath add mvn net.imagej imagej 2.0.0-rc-67\n",
    "\n",
    "//create ImageJ object\n",
    "ij = new net.imagej.ImageJ()"
   ]
  },
  {
   "cell_type": "markdown",
   "metadata": {},
   "source": [
    "This `Op` wraps the `Views.rotate()` method of ImgLib2, rotating one axis of an image to become another axis. The `Op` is called as follows:"
   ]
  },
  {
   "cell_type": "code",
   "execution_count": null,
   "metadata": {},
   "outputs": [],
   "source": [
    "ij.op().help('rotateView')"
   ]
  },
  {
   "cell_type": "markdown",
   "metadata": {},
   "source": [
    "Let's get an image so that we can show this `Op` in action:"
   ]
  },
  {
   "cell_type": "code",
   "execution_count": null,
   "metadata": {},
   "outputs": [],
   "source": [
    "input = ij.scifio().datasetIO().open(\"https://imagej.net/images/baboon.jpg\")\n",
    "\n",
    "ij.notebook().display(input)"
   ]
  },
  {
   "cell_type": "markdown",
   "metadata": {},
   "source": [
    "Let's say that we want to rotate this monkey 90 degrees clockwise. This requires changing axis 0 to become axis 1:"
   ]
  },
  {
   "cell_type": "code",
   "execution_count": null,
   "metadata": {},
   "outputs": [],
   "source": [
    "fromAxis = 0\n",
    "toAxis = 1\n",
    "\n",
    "rotated = ij.op().run(\"rotateView\", input, fromAxis, toAxis)\n",
    "\n",
    "ij.notebook().display(rotated)"
   ]
  },
  {
   "cell_type": "markdown",
   "metadata": {},
   "source": [
    "If we want to rotate the monkey by 90 degrees counterclockwise, we can change axis 1 to become axis 0:"
   ]
  },
  {
   "cell_type": "code",
   "execution_count": null,
   "metadata": {},
   "outputs": [],
   "source": [
    "fromAxis = 1\n",
    "toAxis = 0\n",
    "\n",
    "rotated = ij.op().run(\"rotateView\", input, fromAxis, toAxis)\n",
    "\n",
    "ij.notebook().display(rotated)"
   ]
  },
  {
   "cell_type": "markdown",
   "metadata": {},
   "source": [
    "Note that the outputs, `IntervalView` and `MixedTransformView`, extend the inputs required, `IterableInterval` and `RandomAccessible` respectively. Thus if we want to turn this monkey upside down we can run `rotate()` on the output of our last cell:"
   ]
  },
  {
   "cell_type": "code",
   "execution_count": null,
   "metadata": {},
   "outputs": [],
   "source": [
    "fromAxis = 1\n",
    "toAxis = 0\n",
    "\n",
    "rotatedAgain = ij.op().run(\"rotateView\", rotated, fromAxis, toAxis)\n",
    "\n",
    "ij.notebook().display(rotatedAgain)"
   ]
  },
  {
   "cell_type": "markdown",
   "metadata": {},
   "source": [
    "Finally, it is important to note that `rotate()` can rotate any of an image's dimensions. Thus we can rotate the channel axis (dimension two) to a visible axis as well:"
   ]
  },
  {
   "cell_type": "code",
   "execution_count": null,
   "metadata": {},
   "outputs": [],
   "source": [
    "fromAxis = 2\n",
    "toAxis = 1\n",
    "\n",
    "rotated = ij.op().run(\"rotateView\", input, fromAxis, toAxis)\n",
    "\n",
    "ij.notebook().display(rotated)"
   ]
  }
 ],
 "metadata": {
  "kernelspec": {
   "display_name": "Groovy",
   "language": "groovy",
   "name": "groovy"
  },
  "language_info": {
   "codemirror_mode": "groovy",
   "file_extension": ".groovy",
   "mimetype": "",
   "name": "Groovy",
   "nbconverter_exporter": "",
   "version": "2.4.3"
  },
  "toc": {
   "base_numbering": 1,
   "nav_menu": {},
   "number_sections": false,
   "sideBar": false,
   "skip_h1_title": false,
   "title_cell": "Table of Contents",
   "title_sidebar": "Contents",
   "toc_cell": false,
   "toc_position": {},
   "toc_section_display": false,
   "toc_window_display": false
  }
 },
 "nbformat": 4,
 "nbformat_minor": 2
}
