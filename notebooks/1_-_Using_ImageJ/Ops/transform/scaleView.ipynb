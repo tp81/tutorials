{
 "cells": [
  {
   "cell_type": "markdown",
   "metadata": {},
   "source": [
    "## ScaleView Op"
   ]
  },
  {
   "cell_type": "code",
   "execution_count": null,
   "metadata": {},
   "outputs": [],
   "source": [
    "//load ImageJ\n",
    "%classpath config resolver imagej.public https://maven.imagej.net/content/groups/public\n",
    "%classpath add mvn net.imagej imagej 2.0.0-rc-67\n",
    "\n",
    "//create ImageJ object\n",
    "ij = new net.imagej.ImageJ()"
   ]
  },
  {
   "cell_type": "markdown",
   "metadata": {},
   "source": [
    "This `Op` wraps the `Views.scale()` method of ImgLib2, enlarging the image by a set of scale factors. Let's see how the `Op` is called: through the use of an [interpolator](https://en.wikipedia.org/wiki/Interpolation) and an [`OutOfBoundsFactory`](http://javadoc.scijava.org/ImgLib2/net/imglib2/outofbounds/OutOfBoundsFactory.html). "
   ]
  },
  {
   "cell_type": "code",
   "execution_count": null,
   "metadata": {},
   "outputs": [],
   "source": [
    "ij.op().help('scaleView')"
   ]
  },
  {
   "cell_type": "markdown",
   "metadata": {},
   "source": [
    "Note that the `Op` takes the following parameters:\n",
    "* `RandomAccessibleInterval in`: the input image\n",
    "* `double[] scaleFactors`: an array an element for each dimension that describes the factor to which that dimension is to be increased by (i.e. a value of 2 implies that the corresponding dimension should be twice as large in the output)\n",
    "* `InterpolatorFactory interpolator`: this Object tells the `Op` how to [interpolate](https://en.wikipedia.org/wiki/Interpolation) the spaces in between the known data points. There are many different types of [interpolation](http://javadoc.scijava.org/ImgLib2/) that are supported by ImageJ.\n",
    "* `OutOfBoundsFactory outOfBoundsFactory`: an optonal parameter that tells the `Op` how to handle cases close to the edge of the image. Since this parameter is optional we won't worry about it here.\n",
    "\n",
    "Let's find a really small image to scale up:"
   ]
  },
  {
   "cell_type": "code",
   "execution_count": null,
   "metadata": {},
   "outputs": [],
   "source": [
    "input = ij.scifio().datasetIO().open(\"http://imagej.net/images/ij-icon.gif\")\n",
    "\n",
    "ij.notebook().display(input)"
   ]
  },
  {
   "cell_type": "markdown",
   "metadata": {},
   "source": [
    "First, let's try scaling it using [nearest neighbor](https://en.wikipedia.org/wiki/Nearest-neighbor_interpolation) interpolation:"
   ]
  },
  {
   "cell_type": "code",
   "execution_count": null,
   "metadata": {},
   "outputs": [],
   "source": [
    "import net.imglib2.interpolation.randomaccess.NearestNeighborInterpolatorFactory\n",
    "\n",
    "scaleFactors = [4, 4, 1] // Enlarge X and Y by 4x; leave channel count the same.\n",
    "\n",
    "scaled = ij.op().run(\"scaleView\", input, scaleFactors, new NearestNeighborInterpolatorFactory())\n",
    "\n",
    "ij.notebook().display(scaled)"
   ]
  },
  {
   "cell_type": "markdown",
   "metadata": {},
   "source": [
    "Nice and pixel-y. If we want something smoother, we can try [N-Linear](https://en.wikipedia.org/wiki/Linear_interpolation) interpolation:"
   ]
  },
  {
   "cell_type": "code",
   "execution_count": null,
   "metadata": {},
   "outputs": [],
   "source": [
    "import net.imglib2.interpolation.randomaccess.LanczosInterpolatorFactory\n",
    "\n",
    "scaleFactors = [4, 4, 1] // Enlarge X and Y by 4x; leave channel count the same.\n",
    "\n",
    "input = ij.scifio().datasetIO().open(\"http://imagej.net/images/ij-icon.gif\")\n",
    "\n",
    "scaled = ij.op().run(\"scaleView\", input, scaleFactors, new LanczosInterpolatorFactory())\n",
    "\n",
    "ij.notebook().display(scaled)"
   ]
  },
  {
   "cell_type": "markdown",
   "metadata": {},
   "source": [
    "Be sure to take a look at [`interpolateView`](interpolateView.ipynb), as it is somewhat related to our `scaleView` `Op`."
   ]
  }
 ],
 "metadata": {
  "kernelspec": {
   "display_name": "Groovy",
   "language": "groovy",
   "name": "groovy"
  },
  "language_info": {
   "codemirror_mode": "groovy",
   "file_extension": ".groovy",
   "mimetype": "",
   "name": "Groovy",
   "nbconverter_exporter": "",
   "version": "2.4.3"
  },
  "toc": {
   "base_numbering": 1,
   "nav_menu": {},
   "number_sections": false,
   "sideBar": false,
   "skip_h1_title": false,
   "title_cell": "Table of Contents",
   "title_sidebar": "Contents",
   "toc_cell": false,
   "toc_position": {},
   "toc_section_display": false,
   "toc_window_display": false
  }
 },
 "nbformat": 4,
 "nbformat_minor": 2
}
