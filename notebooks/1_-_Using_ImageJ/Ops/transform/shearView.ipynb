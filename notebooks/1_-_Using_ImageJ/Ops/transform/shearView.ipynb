{
 "cells": [
  {
   "cell_type": "markdown",
   "metadata": {},
   "source": [
    "## ShearView Op"
   ]
  },
  {
   "cell_type": "code",
   "execution_count": null,
   "metadata": {},
   "outputs": [],
   "source": [
    "//load ImageJ\n",
    "%classpath config resolver imagej.public https://maven.imagej.net/content/groups/public\n",
    "%classpath add mvn net.imagej imagej 2.0.0-rc-67\n",
    "\n",
    "//create ImageJ object\n",
    "ij = new net.imagej.ImageJ()"
   ]
  },
  {
   "cell_type": "markdown",
   "metadata": {},
   "source": [
    "This `Op` wraps the `Views.stack()` method of ImgLib2, [shearing](https://en.wikipedia.org/wiki/Shear_mapping) a `RandomAccessible` in a given dimension (using a second dimension as reference). This `Op` shears **in the opposite direction** of [`unshearView`](unshearView.ipynb), and can be used to undo the shears from that `Op`. Let's take a look at how it is called:"
   ]
  },
  {
   "cell_type": "code",
   "execution_count": null,
   "metadata": {},
   "outputs": [],
   "source": [
    "ij.op().help('shearView')"
   ]
  },
  {
   "cell_type": "markdown",
   "metadata": {},
   "source": [
    "Let's take a closer look at each parameter:\n",
    "* `RandomAccessible in`: the input image\n",
    "* `Interval interval`: an **optional** parameter that defines a region on the `RandomAccessible` that we want to shear, and allows the `Op` to return an minimal `Interval` containing all of the pixels on the original `Interval`, although of course not the same size as before. If you originally are starting with a `RandomAccessibleInterval`, it is probably best to include this interval. We are going to use it in the notebooks, since displaying a `RandomAccessible` not on an `Interval` is harder.\n",
    "* `int shearDimension`: the dimension whose coordinates will change based on `referencedimension`.\n",
    "* `int referenceDimension`: the dimension whose coordinates will not change but will influence `shearDimension`.\n",
    "\n",
    "So, let's say that `shearDimension` is `0` and `referenceDimension` is `1`. This will cause `(x, y)` to become `(x + y, x)`. Let's see what this looks like visually with an image:"
   ]
  },
  {
   "cell_type": "code",
   "execution_count": null,
   "metadata": {},
   "outputs": [],
   "source": [
    "input = ij.scifio().datasetIO().open(\"http://imagej.net/images/clown.png\")\n",
    "\n",
    "ij.notebook().display(input)"
   ]
  },
  {
   "cell_type": "markdown",
   "metadata": {},
   "source": [
    "Note that shearing an `Img` can be dangerous since most `Img`s are `RandomAccessibleInterval`s, not `RandomAccessible`s. In layman's terms, `RandomAccessibleInterval`s are not defined for coordinates outside its `Interval`, and as such errors will be thrown if we, for example, attempt to access a data value at negative coordinates. There are two ways that we can get around this error with `shearView`:\n",
    "1. Convert our `RandomAccessibleInterval` into a `RandomAccessible` through the use of `extendView` or any other extending `Op`s. This will provide values at all locations, preventing any sort of issue with bounds. However this means another `Op` call that we have to write to extend our `Img`, and then if we want to display the output (which will also be a `RandomAccessible`) we will have to create another `Interval` over the output.\n",
    "2. Provide an `Interval` (usually our input `Img`) to our `Op`: as stated above, if we provide an `Interval` the `Op` will do most of the problem solving for us at the cost of customizability on the user's behalf. The `Op` will calculate an outuput `Interval` and will use its own default `OutOfBoundsFactory`, which we may or may not want. \n",
    "\n",
    "We will show both options below, to provide an example of each:"
   ]
  },
  {
   "cell_type": "code",
   "execution_count": null,
   "metadata": {},
   "outputs": [],
   "source": [
    "//FIRST OPTION\n",
    "import net.imglib2.FinalInterval\n",
    "import net.imglib2.view.Views\n",
    "\n",
    "shearDimension = 0\n",
    "referenceDimension = 1\n",
    "\n",
    "//Maybe we want all of the pixels outside the original interval to have a value of zero\n",
    "extended = ij.op().run(\"extendZeroView\", input)\n",
    "sheared = ij.op().run(\"shearView\", extended, shearDimension, referenceDimension)\n",
    "\n",
    "//since (x,y) => (x + y, y), our size will be (width + height, height, numChannels) (and the min is (0, 0, 0))\n",
    "outputInterval = FinalInterval.createMinSize(0, 0, 0, input.dimension(0) + input.dimension(1), input.dimension(1), 3)\n",
    "outputIntervaled = Views.interval(sheared, outputInterval)\n",
    "\n",
    "ij.notebook().display(outputIntervaled)"
   ]
  },
  {
   "cell_type": "code",
   "execution_count": null,
   "metadata": {},
   "outputs": [],
   "source": [
    "//SECOND OPTION\n",
    "\n",
    "//let the Op do all the work that we did above\n",
    "sheared = ij.op().run(\"shearView\", input, input, shearDimension, referenceDimension)\n",
    "\n",
    "ij.notebook().display(sheared)"
   ]
  },
  {
   "cell_type": "markdown",
   "metadata": {},
   "source": [
    "Note that the second option decided that we wanted to extend our `Interval` using [`extendPeriodicView`](extendPeriodicView.ipynb), however if for some reason this would not be desired, then the first option, although more code, is preferable."
   ]
  }
 ],
 "metadata": {
  "kernelspec": {
   "display_name": "Groovy",
   "language": "groovy",
   "name": "groovy"
  },
  "language_info": {
   "codemirror_mode": "groovy",
   "file_extension": ".groovy",
   "mimetype": "",
   "name": "Groovy",
   "nbconverter_exporter": "",
   "version": "2.4.3"
  },
  "toc": {
   "base_numbering": 1,
   "nav_menu": {},
   "number_sections": false,
   "sideBar": false,
   "skip_h1_title": false,
   "title_cell": "Table of Contents",
   "title_sidebar": "Contents",
   "toc_cell": false,
   "toc_position": {},
   "toc_section_display": false,
   "toc_window_display": false
  }
 },
 "nbformat": 4,
 "nbformat_minor": 2
}
