{
 "cells": [
  {
   "cell_type": "markdown",
   "metadata": {},
   "source": [
    "## StackView Op"
   ]
  },
  {
   "cell_type": "code",
   "execution_count": null,
   "metadata": {},
   "outputs": [],
   "source": [
    "//load ImageJ\n",
    "%classpath config resolver imagej.public https://maven.imagej.net/content/groups/public\n",
    "%classpath add mvn net.imagej imagej 2.0.0-rc-67\n",
    "\n",
    "//create ImageJ object\n",
    "ij = new net.imagej.ImageJ()"
   ]
  },
  {
   "cell_type": "markdown",
   "metadata": {},
   "source": [
    "This `Op` wraps the `Views.stack()` method of ImgLib2, taking multiple n-dimensional `RandomAccessibleInterval`s and stacking them to form a single (n+1)-dimensional `RandomAccessibleInterval`."
   ]
  },
  {
   "cell_type": "code",
   "execution_count": null,
   "metadata": {},
   "outputs": [],
   "source": [
    "ij.op().help('stackView')"
   ]
  },
  {
   "cell_type": "markdown",
   "metadata": {},
   "source": [
    "We are interested in the first of the two, for this notebook. To create the stack we need two `Img`s, which we can create using [`equation`](../image/equation.ipynb)"
   ]
  },
  {
   "cell_type": "code",
   "execution_count": null,
   "metadata": {},
   "outputs": [],
   "source": [
    "import net.imglib2.FinalInterval\n",
    "import net.imglib2.img.Img\n",
    "import net.imglib2.type.numeric.integer.UnsignedByteType\n",
    "\n",
    "dims = new FinalInterval(200, 150)\n",
    "\n",
    "imgList = new ArrayList<Img>()\n",
    "\n",
    "input1 = ij.op().create().img(dims, new UnsignedByteType())\n",
    "equation1 = \"127 * Math.sin(p[0] / 4) + 128\"\n",
    "ij.op().run(\"equation\", input1, equation1)\n",
    "input2 = ij.op().create().img(dims, new UnsignedByteType())\n",
    "equation2 = \"127 * Math.cos(p[1] / 4) + 128\"\n",
    "ij.op().run(\"equation\", input2, equation2)\n",
    "\n",
    "imgList.add(input1)\n",
    "imgList.add(input2)\n",
    "\n",
    "//TODO show side by side"
   ]
  },
  {
   "cell_type": "markdown",
   "metadata": {},
   "source": [
    "We can stack them by passing both into `Views.stack()`:"
   ]
  },
  {
   "cell_type": "code",
   "execution_count": null,
   "metadata": {},
   "outputs": [],
   "source": [
    "import net.imglib2.view.Views\n",
    "\n",
    "stack = ij.op().run(\"stackView\", imgList)\n",
    "\n",
    "ij.notebook().display(stack)"
   ]
  }
 ],
 "metadata": {
  "kernelspec": {
   "display_name": "Groovy",
   "language": "groovy",
   "name": "groovy"
  },
  "language_info": {
   "codemirror_mode": "groovy",
   "file_extension": ".groovy",
   "mimetype": "",
   "name": "Groovy",
   "nbconverter_exporter": "",
   "version": "2.4.3"
  },
  "toc": {
   "base_numbering": 1,
   "nav_menu": {},
   "number_sections": false,
   "sideBar": false,
   "skip_h1_title": false,
   "title_cell": "Table of Contents",
   "title_sidebar": "Contents",
   "toc_cell": false,
   "toc_position": {},
   "toc_section_display": false,
   "toc_window_display": false
  }
 },
 "nbformat": 4,
 "nbformat_minor": 2
}
