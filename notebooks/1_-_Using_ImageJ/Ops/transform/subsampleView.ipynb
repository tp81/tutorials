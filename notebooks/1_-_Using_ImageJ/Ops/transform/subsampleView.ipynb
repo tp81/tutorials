{
 "cells": [
  {
   "cell_type": "markdown",
   "metadata": {},
   "source": [
    "## SubsampleView Op"
   ]
  },
  {
   "cell_type": "code",
   "execution_count": null,
   "metadata": {},
   "outputs": [],
   "source": [
    "//load ImageJ\n",
    "%classpath config resolver imagej.public https://maven.imagej.net/content/groups/public\n",
    "%classpath add mvn net.imagej imagej 2.0.0-rc-67\n",
    "\n",
    "//create ImageJ object\n",
    "ij = new net.imagej.ImageJ()"
   ]
  },
  {
   "cell_type": "markdown",
   "metadata": {},
   "source": [
    "This `Op` wraps the `Views.subsample()` method of ImgLib2, which, given a `RandomAccessibleInterval` or `RandomAccessible` performs essentially an integer scale down on that image, sampling only the nth pixel in each dimension. Let's see how this `Op` is called:"
   ]
  },
  {
   "cell_type": "code",
   "execution_count": null,
   "metadata": {},
   "outputs": [],
   "source": [
    "ij.op().help('subsampleView')"
   ]
  },
  {
   "cell_type": "markdown",
   "metadata": {},
   "source": [
    "Note that each option takes a `long step`. This `long` tells the `Op` the length between pixels that it should subsample. For example, let's assume that `step = 2`. This tells the `Op` to make an `Img` twice as small as the original, and to sample every other value, divide that value's coordinates by two, and insert that value in those new coordinates. Note that some options have a `long[]` instead of a `long`, which can be used if you want to provide different steps in each direction (for example, if you want half the original width but a third of the original height). \n",
    "\n",
    "`subsampleView` is often performed on large images. Let's find one to work on: "
   ]
  },
  {
   "cell_type": "code",
   "execution_count": null,
   "metadata": {},
   "outputs": [],
   "source": [
    "input = ij.scifio().datasetIO().open(\"http://imagej.net/images/Cartwheel_Galaxy.jpg\")\n",
    "\n",
    "ij.notebook().display(input)"
   ]
  },
  {
   "cell_type": "markdown",
   "metadata": {},
   "source": [
    "Woah, that is a big image. Let's use `subsampleView()` to make it more wieldy:"
   ]
  },
  {
   "cell_type": "code",
   "execution_count": null,
   "metadata": {},
   "outputs": [],
   "source": [
    "//note that we do not want to subsample the third dimension, since then we lose color. So the third element must be 1.\n",
    "steps = [5, 5, 1] as long[]\n",
    "\n",
    "subsample = ij.op().run(\"subsampleView\", input, steps)\n",
    "\n",
    "ij.notebook().display(subsample)"
   ]
  },
  {
   "cell_type": "markdown",
   "metadata": {},
   "source": [
    "If you want more options to control the scale or to provide a [interpolation](https://en.wikipedia.org/wiki/Interpolation) strategy, check out [scaleView](scaleView.ipynb)!"
   ]
  }
 ],
 "metadata": {
  "kernelspec": {
   "display_name": "Groovy",
   "language": "groovy",
   "name": "groovy"
  },
  "language_info": {
   "codemirror_mode": "groovy",
   "file_extension": ".groovy",
   "mimetype": "",
   "name": "Groovy",
   "nbconverter_exporter": "",
   "version": "2.4.3"
  },
  "toc": {
   "base_numbering": 1,
   "nav_menu": {},
   "number_sections": false,
   "sideBar": false,
   "skip_h1_title": false,
   "title_cell": "Table of Contents",
   "title_sidebar": "Contents",
   "toc_cell": false,
   "toc_position": {},
   "toc_section_display": false,
   "toc_window_display": false
  }
 },
 "nbformat": 4,
 "nbformat_minor": 2
}
