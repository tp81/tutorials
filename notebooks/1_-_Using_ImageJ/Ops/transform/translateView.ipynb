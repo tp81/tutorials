{
 "cells": [
  {
   "cell_type": "markdown",
   "metadata": {},
   "source": [
    "## TranslateView Op"
   ]
  },
  {
   "cell_type": "code",
   "execution_count": null,
   "metadata": {},
   "outputs": [],
   "source": [
    "//load ImageJ\n",
    "%classpath config resolver imagej.public https://maven.imagej.net/content/groups/public\n",
    "%classpath add mvn net.imagej imagej 2.0.0-rc-67\n",
    "\n",
    "//create ImageJ object\n",
    "ij = new net.imagej.ImageJ()"
   ]
  },
  {
   "cell_type": "markdown",
   "metadata": {},
   "source": [
    "This `Op` wraps the `Views.translate()` method of ImgLib2, [translating](https://en.wikipedia.org/wiki/Translation_(geometry)) a `RandomAccessible` or `RandomAccessibleInterval` by a given set of values. Let's see how the `Op` is called:"
   ]
  },
  {
   "cell_type": "code",
   "execution_count": null,
   "metadata": {},
   "outputs": [],
   "source": [
    "ij.op().help('translateView')"
   ]
  },
  {
   "cell_type": "markdown",
   "metadata": {},
   "source": [
    "The parameters are pretty straightforward, with the `RandomAccessible`/`RandomAccessibleInterval` being the input image and `long[] translation` being an array of `long`s that define the translation in each dimension. Note that `translation` must contain an element for each dimension. Let's try this out:"
   ]
  },
  {
   "cell_type": "code",
   "execution_count": null,
   "metadata": {},
   "outputs": [],
   "source": [
    "input = ij.scifio().datasetIO().open(\"http://imagej.net/images/egg.jpg\")\n",
    "\n",
    "ij.notebook().display(input)"
   ]
  },
  {
   "cell_type": "markdown",
   "metadata": {},
   "source": [
    "Let's translate our image by 10 pixels in width and height:"
   ]
  },
  {
   "cell_type": "code",
   "execution_count": null,
   "metadata": {},
   "outputs": [],
   "source": [
    "translation = [100, 100, 0] as long[]\n",
    "\n",
    "translated = ij.op().run(\"translateView\", input, translation)\n",
    "\n",
    "ij.notebook().display(translated)"
   ]
  },
  {
   "cell_type": "markdown",
   "metadata": {},
   "source": [
    "Note that there is **no difference** in the images. This is because we are **not** affecting the data in any way with this translation, **we are just altering the coordinates**. To show the change, let's print out the minimum of each image:"
   ]
  },
  {
   "cell_type": "code",
   "execution_count": null,
   "metadata": {},
   "outputs": [],
   "source": [
    "\"minimum of input image: (\" + input.min(0) + \", \" + input.min(1) + \")\\n\" + \n",
    "\"minimum of translated image: (\" + translated.min(0) + \", \" + translated.min(1) + \")\""
   ]
  },
  {
   "cell_type": "markdown",
   "metadata": {},
   "source": [
    "Note that this `Op` is very similar to [`offsetView`](offsetView.ipynb), however there is one key difference: `offsetView` only moves the image data, **not** the bounds of your image. `translateView`, however, also moves the image bounds along with your data, which is why there is no visual difference on the translated image above. This is what happens to the egg when we run `offsetView`:"
   ]
  },
  {
   "cell_type": "code",
   "execution_count": null,
   "metadata": {},
   "outputs": [],
   "source": [
    "typeMin = input.firstElement().getMinValue()\n",
    "typeMax = input.firstElement().getMaxValue()\n",
    "extended = ij.op().run(\"extendRandomView\", input, typeMin, typeMax)\n",
    "\n",
    "//dimensions of output interval should be the same as the image before\n",
    "dimension = [input.dimension(0), input.dimension(1), input.dimension(2)] as long[]\n",
    "\n",
    "//use the same translation array as before - see offsetView for an explanation for how the Op is called.\n",
    "offset = ij.op().run(\"offsetView\", extended, translation, dimension)\n",
    "\n",
    "ij.notebook().display(offset)"
   ]
  },
  {
   "cell_type": "markdown",
   "metadata": {},
   "source": [
    "And, if we interrogate the two images for their minimum coordinates, we can see that `offset`'s bounds did not change while `translated`'s did:"
   ]
  },
  {
   "cell_type": "code",
   "execution_count": null,
   "metadata": {},
   "outputs": [],
   "source": [
    "\"minimum of offset image: (\" + offset.min(0) + \", \" + offset.min(1) + \")\\n\" + \n",
    "\"minimum of translated image: (\" + translated.min(0) + \", \" + translated.min(1) + \")\""
   ]
  }
 ],
 "metadata": {
  "kernelspec": {
   "display_name": "Groovy",
   "language": "groovy",
   "name": "groovy"
  },
  "language_info": {
   "codemirror_mode": "groovy",
   "file_extension": ".groovy",
   "mimetype": "",
   "name": "Groovy",
   "nbconverter_exporter": "",
   "version": "2.4.3"
  },
  "toc": {
   "base_numbering": 1,
   "nav_menu": {},
   "number_sections": false,
   "sideBar": false,
   "skip_h1_title": false,
   "title_cell": "Table of Contents",
   "title_sidebar": "Contents",
   "toc_cell": false,
   "toc_position": {},
   "toc_section_display": false,
   "toc_window_display": false
  }
 },
 "nbformat": 4,
 "nbformat_minor": 2
}
